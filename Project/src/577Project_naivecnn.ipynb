{
  "cells": [
    {
      "cell_type": "markdown",
      "metadata": {
        "id": "ERLmX0xZD14K"
      },
      "source": [
        "## Imports"
      ]
    },
    {
      "cell_type": "code",
      "execution_count": null,
      "metadata": {
        "id": "P_4AY1_ODxbp"
      },
      "outputs": [],
      "source": [
        "import tensorflow as tf\n",
        "import os\n",
        "import random\n",
        "import shutil\n",
        "from keras.preprocessing.image import ImageDataGenerator\n",
        "import numpy as np\n",
        "from PIL import Image\n",
        "\n",
        "import sklearn.metrics as sm\n",
        "import seaborn as sns"
      ]
    },
    {
      "cell_type": "markdown",
      "metadata": {
        "id": "q9P5i68aD2-U"
      },
      "source": [
        "## Data wrangling (setting up the train, test, val generators etc.)"
      ]
    },
    {
      "cell_type": "code",
      "execution_count": null,
      "metadata": {
        "id": "TbZ6Zh6UD6n8"
      },
      "outputs": [],
      "source": [
        "def get_data():\n",
        "    !wget 'https://drive.google.com/uc?id=1qD6YvLIrkCcb6xYROgRHB3aaP8q0V0IL&export=download'\n",
        "    os.rename(os.listdir('/content/')[1], 'kaggle.json')\n",
        "    ! mkdir ~/.kaggle\n",
        "    ! cp kaggle.json ~/.kaggle/\n",
        "    ! chmod 600 ~/.kaggle/kaggle.json\n",
        "\n",
        "    import kaggle\n",
        "\n",
        "    ! kaggle datasets download -d ciplab/real-and-fake-face-detection\n",
        "    try:\n",
        "        from zipfile import ZipFile\n",
        "    except ImportError:\n",
        "        return\n",
        "    \n",
        "    fname = \"/content/real-and-fake-face-detection.zip\"\n",
        "\n",
        "    with ZipFile(fname,'r') as zip:\n",
        "        zip.extractall()\n",
        "\n",
        "    # delete the extra folder\n",
        "    ! rm /content/real_and_fake_face_detection/ -r\n",
        "    \n",
        "    print('Done Extracting data')\n"
      ]
    },
    {
      "cell_type": "code",
      "execution_count": null,
      "metadata": {
        "colab": {
          "base_uri": "https://localhost:8080/"
        },
        "id": "u6miuQVoKkbS",
        "outputId": "bb57e903-35f4-4741-ea46-4e11da388d8e"
      },
      "outputs": [
        {
          "output_type": "stream",
          "name": "stdout",
          "text": [
            "--2022-11-13 16:23:17--  https://drive.google.com/uc?id=1qD6YvLIrkCcb6xYROgRHB3aaP8q0V0IL&export=download\n",
            "Resolving drive.google.com (drive.google.com)... 209.85.234.102, 209.85.234.139, 209.85.234.100, ...\n",
            "Connecting to drive.google.com (drive.google.com)|209.85.234.102|:443... connected.\n",
            "HTTP request sent, awaiting response... 303 See Other\n",
            "Location: https://doc-0k-1c-docs.googleusercontent.com/docs/securesc/ha0ro937gcuc7l7deffksulhg5h7mbp1/eh37i9kqmukqbf7vnbhap4prtsmrhfev/1668356550000/13257672939726536336/*/1qD6YvLIrkCcb6xYROgRHB3aaP8q0V0IL?e=download&uuid=f1b9c104-6c3a-43e3-a6ac-14d10d883b6a [following]\n",
            "Warning: wildcards not supported in HTTP.\n",
            "--2022-11-13 16:23:17--  https://doc-0k-1c-docs.googleusercontent.com/docs/securesc/ha0ro937gcuc7l7deffksulhg5h7mbp1/eh37i9kqmukqbf7vnbhap4prtsmrhfev/1668356550000/13257672939726536336/*/1qD6YvLIrkCcb6xYROgRHB3aaP8q0V0IL?e=download&uuid=f1b9c104-6c3a-43e3-a6ac-14d10d883b6a\n",
            "Resolving doc-0k-1c-docs.googleusercontent.com (doc-0k-1c-docs.googleusercontent.com)... 108.177.121.132, 2607:f8b0:4001:c19::84\n",
            "Connecting to doc-0k-1c-docs.googleusercontent.com (doc-0k-1c-docs.googleusercontent.com)|108.177.121.132|:443... connected.\n",
            "HTTP request sent, awaiting response... 200 OK\n",
            "Length: 69 [application/json]\n",
            "Saving to: ‘uc?id=1qD6YvLIrkCcb6xYROgRHB3aaP8q0V0IL&export=download’\n",
            "\n",
            "uc?id=1qD6YvLIrkCcb 100%[===================>]      69  --.-KB/s    in 0s      \n",
            "\n",
            "2022-11-13 16:23:18 (2.13 MB/s) - ‘uc?id=1qD6YvLIrkCcb6xYROgRHB3aaP8q0V0IL&export=download’ saved [69/69]\n",
            "\n",
            "Downloading real-and-fake-face-detection.zip to /content\n",
            " 97% 417M/431M [00:02<00:00, 188MB/s]\n",
            "100% 431M/431M [00:02<00:00, 165MB/s]\n",
            "Done Extracting data\n"
          ]
        }
      ],
      "source": [
        "get_data()"
      ]
    },
    {
      "cell_type": "markdown",
      "source": [
        "How much data do we have to deal with?"
      ],
      "metadata": {
        "id": "V28okrfuIrgi"
      }
    },
    {
      "cell_type": "code",
      "source": [
        "print(f'Total FAKE samples: {len(os.listdir(\"/content/real_and_fake_face/training_fake\"))}')\n",
        "print(f'Total REAL samples: {len(os.listdir(\"/content/real_and_fake_face/training_real\"))}')\n"
      ],
      "metadata": {
        "colab": {
          "base_uri": "https://localhost:8080/"
        },
        "id": "_3GQIJHeIqNe",
        "outputId": "8035fe49-9d1d-4d04-cccf-57b18459e6bb"
      },
      "execution_count": null,
      "outputs": [
        {
          "output_type": "stream",
          "name": "stdout",
          "text": [
            "Total FAKE samples: 960\n",
            "Total REAL samples: 1081\n"
          ]
        }
      ]
    },
    {
      "cell_type": "markdown",
      "metadata": {
        "id": "dHaPJ83dMBg8"
      },
      "source": [
        "Making train, val and test data\n",
        "> So currently all the data is in the training_fake and training_real folder. So here's what we need to do:\n",
        "\n",
        "1. Make another dir called Data\n",
        "2. Make sub-dir 'Train' 'Val' and 'Test'\n",
        "3. Within those sub-dir there needs to be 'Fake' and 'Real' folders consisting of data from fake and real images"
      ]
    },
    {
      "cell_type": "code",
      "execution_count": null,
      "metadata": {
        "id": "AQiH5FKxPiiP"
      },
      "outputs": [],
      "source": [
        "def train_test_val():\n",
        "    path='Data/'\n",
        "\n",
        "    #if files already exist, remove all the data in them\n",
        "    try:\n",
        "        os.mkdir('Data/')\n",
        "    except FileExistsError:\n",
        "        !rm 'Data/' -r\n",
        "    \n",
        "    !mkdir 'Data/'\n",
        "    !mkdir 'Data/Train/'\n",
        "    !mkdir 'Data/Train/Fake/'\n",
        "    !mkdir 'Data/Train/Real/'\n",
        "    !mkdir 'Data/Test/'\n",
        "    !mkdir 'Data/Test/Fake/'\n",
        "    !mkdir 'Data/Test/Real/'\n",
        "    !mkdir 'Data/Val/'\n",
        "    !mkdir 'Data/Val/Fake/'\n",
        "    !mkdir 'Data/Val/Real/'\n",
        "\n",
        "\n",
        "    # Now need to move files around\n",
        "    # We'll use a 70 15 15 split, 70% training data, 15% validation data, 15% testing data\n",
        "    \n",
        "    # Fake\n",
        "    src_fake = '/content/real_and_fake_face/training_fake/'\n",
        "    dst_train_fake = '/content/Data/Train/Fake/'\n",
        "    dst_test_fake = '/content/Data/Test/Fake/'\n",
        "    dst_val_fake = '/content/Data/Val/Fake/'\n",
        "\n",
        "    #so there are 960 total images that are fake, so 70% of that is 672\n",
        "    # 15% of 960 is 144\n",
        "    # So for list slicing our training fake data will be 0:672\n",
        "    # our test fake data will be 673:816\n",
        "    # and our val fake data will be 817:\n",
        "\n",
        "    fake_imgs = os.listdir(src_fake)\n",
        "    np.random.shuffle(fake_imgs)\n",
        "    \n",
        "    train_fake_imgs = fake_imgs[0:672] #70%\n",
        "    test_fake_imgs = fake_imgs[673:816] #~15%\n",
        "    val_fake_imgs = fake_imgs[817:] #~15%\n",
        "    \n",
        "    # Real\n",
        "    src_real = '/content/real_and_fake_face/training_real/'\n",
        "    dst_train_real = '/content/Data/Train/Real/'\n",
        "    dst_test_real = '/content/Data/Test/Real/'\n",
        "    dst_val_real = '/content/Data/Val/Real/'\n",
        "\n",
        "    # so there is 1081 real images in training_real folder. so 70% of that is 757\n",
        "    # 324 of that is reamining, and we split it equally (15% and 15%) meaning 162 and 162 will be\n",
        "    # for validation and test sets.\n",
        "    # 757 + 162 + 162 = 1081\n",
        "    # 0:756 will be train\n",
        "    # 757:919 will be val\n",
        "    # 919: will be test\n",
        "\n",
        "    real_imgs = os.listdir(src_real)\n",
        "    np.random.shuffle(real_imgs)\n",
        "\n",
        "    train_real_imgs = real_imgs[0:756] #70%\n",
        "    test_real_imgs = real_imgs[757:919] #15%\n",
        "    val_real_imgs = real_imgs[919:] #15%\n",
        "\n",
        "    # using shutil.move()\n",
        "    print('Moving real images...')\n",
        "    [shutil.move(src=os.path.join(src_real, file), dst=os.path.join(dst_train_real, file)) for file in train_real_imgs]\n",
        "    [shutil.move(src=os.path.join(src_real, file), dst=os.path.join(dst_test_real, file)) for file in test_real_imgs]\n",
        "    [shutil.move(src=os.path.join(src_real, file), dst=os.path.join(dst_val_real, file)) for file in val_real_imgs]\n",
        "    print('Done moving real imgs')\n",
        "\n",
        "    print('Moving fake imgs...')\n",
        "    [shutil.move(src=os.path.join(src_fake, file), dst=os.path.join(dst_train_fake, file)) for file in train_fake_imgs]\n",
        "    [shutil.move(src=os.path.join(src_fake, file), dst=os.path.join(dst_test_fake, file)) for file in test_fake_imgs]\n",
        "    [shutil.move(src=os.path.join(src_fake, file), dst=os.path.join(dst_val_fake, file)) for file in val_fake_imgs]\n",
        "    print('Done moving fake imgs')\n",
        "\n",
        "    print(f'Size of train fake dir: {len(os.listdir(dst_train_fake))}')\n",
        "    print(f'Size of test fake dir: {len(os.listdir(dst_test_fake))}')\n",
        "    print(f'Size of val fake dir: {len(os.listdir(dst_val_fake))}')\n",
        "    print(f'Size of train real dir: {len(os.listdir(dst_train_real))}')\n",
        "    print(f'Size of test real dir: {len(os.listdir(dst_test_real))}')\n",
        "    print(f'Size of val real dir: {len(os.listdir(dst_val_real))}')\n",
        "\n",
        "    # remove empty folder now\n",
        "    ! rm /content/real_and_fake_face -r\n"
      ]
    },
    {
      "cell_type": "code",
      "execution_count": null,
      "metadata": {
        "colab": {
          "base_uri": "https://localhost:8080/"
        },
        "id": "7vmbZo5uMA3a",
        "outputId": "59fc7aa0-7c70-49ed-b645-4dd274af7111"
      },
      "outputs": [
        {
          "output_type": "stream",
          "name": "stdout",
          "text": [
            "mkdir: cannot create directory ‘Data/’: File exists\n",
            "Moving real images...\n",
            "Done moving real imgs\n",
            "Moving fake imgs...\n",
            "Done moving fake imgs\n",
            "Size of train fake dir: 672\n",
            "Size of test fake dir: 143\n",
            "Size of val fake dir: 143\n",
            "Size of train real dir: 756\n",
            "Size of test real dir: 162\n",
            "Size of val real dir: 162\n"
          ]
        }
      ],
      "source": [
        "train_test_val()"
      ]
    },
    {
      "cell_type": "markdown",
      "metadata": {
        "id": "hq0tiC4zVdQw"
      },
      "source": [
        "#### Now we need to set-up the train, val, and test generators"
      ]
    },
    {
      "cell_type": "code",
      "execution_count": null,
      "metadata": {
        "colab": {
          "base_uri": "https://localhost:8080/"
        },
        "id": "wemrWiDBVczF",
        "outputId": "01c34843-e54b-4d2f-e367-5fb0152cab1c"
      },
      "outputs": [
        {
          "output_type": "stream",
          "name": "stdout",
          "text": [
            "Found 1428 images belonging to 2 classes.\n",
            "Found 305 images belonging to 2 classes.\n",
            "Found 305 images belonging to 2 classes.\n"
          ]
        }
      ],
      "source": [
        "train_dir = '/content/Data/Train/'\n",
        "test_dir = '/content/Data/Test/'\n",
        "val_dir = '/content/Data/Val/'\n",
        "\n",
        "img_dim = 150\n",
        "batch_size = 32\n",
        "datagen = ImageDataGenerator()\n",
        "\n",
        "train_generator = datagen.flow_from_directory(\n",
        "    train_dir,\n",
        "    target_size=(img_dim, img_dim),\n",
        "    batch_size=batch_size,\n",
        "    class_mode='binary',\n",
        "    subset='training') # training data\n",
        "\n",
        "\n",
        "test_generator = datagen.flow_from_directory(\n",
        "    test_dir,\n",
        "    target_size=(img_dim, img_dim),\n",
        "    batch_size=1,\n",
        "    class_mode='binary') # testing data\n",
        "\n",
        "\n",
        "val_generator = datagen.flow_from_directory(\n",
        "    val_dir,\n",
        "    target_size=(img_dim, img_dim),\n",
        "    batch_size=batch_size,\n",
        "    class_mode='binary',\n",
        "    subset='training') # training data"
      ]
    },
    {
      "cell_type": "code",
      "source": [
        "def confusion_matrix_balanced_acc(y_true, y_preds):\n",
        "\n",
        "  cnfmtrx = sm.confusion_matrix(y_true=y_true, y_pred=y_preds)\n",
        "  group_names = ['True Neg','False Pos','False Neg','True Pos']\n",
        "  group_counts = ['{0:0.0f}'.format(value) for value in\n",
        "                  cnfmtrx.flatten()]\n",
        "  group_percentages = ['{0:.2%}'.format(value) for value in\n",
        "                      cnfmtrx.flatten()/np.sum(cnfmtrx)]\n",
        "  labels = [f'{v1}\\n{v2}\\n{v3}' for v1, v2, v3 in\n",
        "            zip(group_names,group_counts,group_percentages)]\n",
        "  labels = np.asarray(labels).reshape(2,2)\n",
        "  sns.heatmap(cnfmtrx, annot=labels, fmt='', cmap='Blues')\n",
        "  \n",
        "  print(f'Balanced Accuracy Score: {sm.balanced_accuracy_score(y_true, y_preds)}')\n"
      ],
      "metadata": {
        "id": "AFyydvi6zUq_"
      },
      "execution_count": null,
      "outputs": []
    },
    {
      "cell_type": "markdown",
      "metadata": {
        "id": "GP8mRAoeD7h6"
      },
      "source": [
        "## Conv net"
      ]
    },
    {
      "cell_type": "code",
      "execution_count": null,
      "metadata": {
        "id": "vYGdS6pyD8Sx"
      },
      "outputs": [],
      "source": [
        "#Imports\n",
        "from keras import layers\n",
        "from keras import models\n",
        "from keras import optimizers\n",
        "import matplotlib.pyplot as plt"
      ]
    },
    {
      "cell_type": "code",
      "execution_count": null,
      "metadata": {
        "id": "ma4FbCX0VnyW"
      },
      "outputs": [],
      "source": [
        "def model_init():\n",
        "    img_dim = 150\n",
        "    model = models.Sequential()\n",
        "\n",
        "    model.add(layers.Conv2D(filters=32, kernel_size=(3,3), activation='relu', input_shape=(img_dim, img_dim, 3)))\n",
        "    model.add(layers.MaxPooling2D(2,2))\n",
        "    \n",
        "    model.add(layers.Conv2D(64, (3,3), activation='relu'))\n",
        "    model.add(layers.BatchNormalization())\n",
        "    model.add(layers.MaxPooling2D(2,2))\n",
        "    model.add(layers.Dropout(rate=0.25))\n",
        "\n",
        "    model.add(layers.Conv2D(128, (3,3), activation='relu'))\n",
        "    model.add(layers.MaxPooling2D(2,2))\n",
        "    \n",
        "    model.add(layers.Conv2D(128, (3,3), activation='relu'))\n",
        "    model.add(layers.MaxPooling2D(2,2))\n",
        "\n",
        "    model.add(layers.Flatten())\n",
        "    model.add(layers.Dense(units=256, activation='relu'))\n",
        "\n",
        "    model.add(layers.Dense(units=1, activation='sigmoid'))\n",
        "\n",
        "    return model"
      ]
    },
    {
      "cell_type": "code",
      "execution_count": null,
      "metadata": {
        "colab": {
          "base_uri": "https://localhost:8080/"
        },
        "id": "_RyJGevAVqYV",
        "outputId": "d789c2fb-09fe-413f-a45d-fa927874b632"
      },
      "outputs": [
        {
          "output_type": "stream",
          "name": "stdout",
          "text": [
            "Model: \"sequential\"\n",
            "_________________________________________________________________\n",
            " Layer (type)                Output Shape              Param #   \n",
            "=================================================================\n",
            " conv2d (Conv2D)             (None, 148, 148, 32)      896       \n",
            "                                                                 \n",
            " max_pooling2d (MaxPooling2D  (None, 74, 74, 32)       0         \n",
            " )                                                               \n",
            "                                                                 \n",
            " conv2d_1 (Conv2D)           (None, 72, 72, 64)        18496     \n",
            "                                                                 \n",
            " batch_normalization (BatchN  (None, 72, 72, 64)       256       \n",
            " ormalization)                                                   \n",
            "                                                                 \n",
            " max_pooling2d_1 (MaxPooling  (None, 36, 36, 64)       0         \n",
            " 2D)                                                             \n",
            "                                                                 \n",
            " dropout (Dropout)           (None, 36, 36, 64)        0         \n",
            "                                                                 \n",
            " conv2d_2 (Conv2D)           (None, 34, 34, 128)       73856     \n",
            "                                                                 \n",
            " max_pooling2d_2 (MaxPooling  (None, 17, 17, 128)      0         \n",
            " 2D)                                                             \n",
            "                                                                 \n",
            " conv2d_3 (Conv2D)           (None, 15, 15, 128)       147584    \n",
            "                                                                 \n",
            " max_pooling2d_3 (MaxPooling  (None, 7, 7, 128)        0         \n",
            " 2D)                                                             \n",
            "                                                                 \n",
            " flatten (Flatten)           (None, 6272)              0         \n",
            "                                                                 \n",
            " dense (Dense)               (None, 256)               1605888   \n",
            "                                                                 \n",
            " dense_1 (Dense)             (None, 1)                 257       \n",
            "                                                                 \n",
            "=================================================================\n",
            "Total params: 1,847,233\n",
            "Trainable params: 1,847,105\n",
            "Non-trainable params: 128\n",
            "_________________________________________________________________\n"
          ]
        }
      ],
      "source": [
        "model = model_init()\n",
        "model.summary()"
      ]
    },
    {
      "cell_type": "code",
      "execution_count": null,
      "metadata": {
        "id": "_l3HxGTeVtDd"
      },
      "outputs": [],
      "source": [
        "# compile the model\n",
        "model.compile(loss='binary_crossentropy', optimizer='adam', metrics=['acc'])"
      ]
    },
    {
      "cell_type": "code",
      "execution_count": null,
      "metadata": {
        "colab": {
          "base_uri": "https://localhost:8080/"
        },
        "id": "9RL_uUl3VvKB",
        "outputId": "5a5e4498-0e12-4c7c-bc2d-af238a789a62"
      },
      "outputs": [
        {
          "output_type": "stream",
          "name": "stderr",
          "text": [
            "/usr/local/lib/python3.7/dist-packages/ipykernel_launcher.py:7: UserWarning: `Model.fit_generator` is deprecated and will be removed in a future version. Please use `Model.fit`, which supports generators.\n",
            "  import sys\n"
          ]
        },
        {
          "output_type": "stream",
          "name": "stdout",
          "text": [
            "Epoch 1/15\n",
            "45/45 [==============================] - 29s 414ms/step - loss: 1.1002 - acc: 0.5042 - val_loss: 0.6913 - val_acc: 0.5311\n",
            "Epoch 2/15\n",
            "45/45 [==============================] - 18s 410ms/step - loss: 0.6940 - acc: 0.5343 - val_loss: 0.6918 - val_acc: 0.5311\n",
            "Epoch 3/15\n",
            "45/45 [==============================] - 18s 405ms/step - loss: 0.6902 - acc: 0.5378 - val_loss: 0.6913 - val_acc: 0.5311\n",
            "Epoch 4/15\n",
            "45/45 [==============================] - 18s 407ms/step - loss: 0.6910 - acc: 0.5385 - val_loss: 0.6911 - val_acc: 0.5311\n",
            "Epoch 5/15\n",
            "45/45 [==============================] - 18s 405ms/step - loss: 0.6856 - acc: 0.5392 - val_loss: 0.6912 - val_acc: 0.5311\n",
            "Epoch 6/15\n",
            "45/45 [==============================] - 18s 407ms/step - loss: 0.6803 - acc: 0.5490 - val_loss: 0.7180 - val_acc: 0.5279\n",
            "Epoch 7/15\n",
            "45/45 [==============================] - 18s 406ms/step - loss: 0.6794 - acc: 0.5658 - val_loss: 0.6904 - val_acc: 0.5410\n",
            "Epoch 8/15\n",
            "45/45 [==============================] - 18s 407ms/step - loss: 0.6731 - acc: 0.5574 - val_loss: 0.6911 - val_acc: 0.5574\n",
            "Epoch 9/15\n",
            "45/45 [==============================] - 18s 406ms/step - loss: 0.6554 - acc: 0.5945 - val_loss: 0.6879 - val_acc: 0.5508\n",
            "Epoch 10/15\n",
            "45/45 [==============================] - 18s 405ms/step - loss: 0.6478 - acc: 0.6106 - val_loss: 0.7470 - val_acc: 0.5803\n",
            "Epoch 11/15\n",
            "45/45 [==============================] - 18s 406ms/step - loss: 0.6334 - acc: 0.6310 - val_loss: 0.6935 - val_acc: 0.5902\n",
            "Epoch 12/15\n",
            "45/45 [==============================] - 18s 406ms/step - loss: 0.6034 - acc: 0.6716 - val_loss: 0.6858 - val_acc: 0.6066\n",
            "Epoch 13/15\n",
            "45/45 [==============================] - 18s 407ms/step - loss: 0.5864 - acc: 0.6828 - val_loss: 0.7289 - val_acc: 0.6033\n",
            "Epoch 14/15\n",
            "45/45 [==============================] - 18s 407ms/step - loss: 0.5599 - acc: 0.6898 - val_loss: 0.7023 - val_acc: 0.6098\n",
            "Epoch 15/15\n",
            "45/45 [==============================] - 18s 406ms/step - loss: 0.5460 - acc: 0.7136 - val_loss: 0.7072 - val_acc: 0.5639\n"
          ]
        }
      ],
      "source": [
        "# Train the network\n",
        "history = model.fit_generator(\n",
        "    generator=train_generator,\n",
        "    steps_per_epoch=round(train_generator.samples/train_generator.batch_size),\n",
        "    epochs=10,\n",
        "    validation_data=val_generator,\n",
        "    validation_steps=round(val_generator.samples/val_generator.batch_size),\n",
        "    # verbose=0\n",
        "    # workers = 10,use_multiprocessing=True)\n",
        ")"
      ]
    },
    {
      "cell_type": "code",
      "execution_count": null,
      "metadata": {
        "id": "usmNHV9mVzRD"
      },
      "outputs": [],
      "source": [
        "# plotting function:\n",
        "def generate_plots(history):\n",
        "    #accuracies\n",
        "    plt.plot(history.history['acc'])\n",
        "    plt.plot(history.history['val_acc'])\n",
        "    plt.title('model accuracy')\n",
        "    plt.ylabel('accuracy')\n",
        "    plt.xlabel('epoch')\n",
        "    plt.legend(['train', 'val'], loc='upper left')\n",
        "    plt.show()\n",
        "    #loss curves\n",
        "    plt.plot(history.history['loss'])\n",
        "    plt.plot(history.history['val_loss'])\n",
        "    plt.title('model loss')\n",
        "    plt.ylabel('loss')\n",
        "    plt.xlabel('epoch')\n",
        "    plt.legend(['train', 'val'], loc='upper left')\n",
        "    plt.show()"
      ]
    },
    {
      "cell_type": "code",
      "execution_count": null,
      "metadata": {
        "colab": {
          "base_uri": "https://localhost:8080/",
          "height": 624
        },
        "id": "RfyyIHIZV0bi",
        "outputId": "b2c475d0-3885-4ac2-cd47-08a8c321dbb4"
      },
      "outputs": [
        {
          "output_type": "display_data",
          "data": {
            "text/plain": [
              "<Figure size 432x288 with 1 Axes>"
            ],
            "image/png": "[encoded data removed]"
          },
          "metadata": {
            "needs_background": "light"
          }
        },
        {
          "output_type": "display_data",
          "data": {
            "text/plain": [
              "<Figure size 432x288 with 1 Axes>"
            ],
            "image/png": "[encoded data removed]"
          },
          "metadata": {
            "needs_background": "light"
          }
        },
        {
          "output_type": "stream",
          "name": "stdout",
          "text": [
            "305/305 [==============================] - 4s 11ms/step - loss: 0.7453 - acc: 0.5770\n",
            "Model test accuracy: 0.577049195766449\n",
            "Model test loss: 0.7453098893165588\n"
          ]
        }
      ],
      "source": [
        "generate_plots(history=history)\n",
        "results = model.evaluate(test_generator, steps=round(test_generator.samples/test_generator.batch_size))\n",
        "print(f'Model test accuracy: {results[1]}')\n",
        "print(f'Model test loss: {results[0]}')"
      ]
    },
    {
      "cell_type": "markdown",
      "source": [
        "Tune the model and then re-train on all training data and evaluate on testing data. * NOTE: Skip a bunch of cells down for this, it'll say -- !Continuing from naive CNN! above the cell"
      ],
      "metadata": {
        "id": "KW_8XEd0PrvY"
      }
    },
    {
      "cell_type": "code",
      "source": [
        "model = model.init()\n",
        "model.compile(loss='binary_crossentropy', optimizer='adam', metrics=['acc'])"
      ],
      "metadata": {
        "id": "T6K-CBWxPqXI"
      },
      "execution_count": null,
      "outputs": []
    },
    {
      "cell_type": "code",
      "source": [],
      "metadata": {
        "id": "UosRRD-oPjw_"
      },
      "execution_count": null,
      "outputs": []
    },
    {
      "cell_type": "code",
      "source": [
        "# Let's evaluate and get the confusion matrix and the balanced accuracy\n",
        "num_test_samples = len(os.listdir('/content/Data/Test/Fake')) + len(os.listdir('/content/Data/Test/Real'))\n",
        "y_preds_naivecnn = model.predict_generator(test_generator, steps=num_test_samples)"
      ],
      "metadata": {
        "colab": {
          "base_uri": "https://localhost:8080/"
        },
        "id": "gLfb2lHLz9i7",
        "outputId": "a115927e-aa0c-4abd-d1a5-406f25d8c976"
      },
      "execution_count": null,
      "outputs": [
        {
          "output_type": "stream",
          "name": "stderr",
          "text": [
            "/usr/local/lib/python3.7/dist-packages/ipykernel_launcher.py:3: UserWarning: `Model.predict_generator` is deprecated and will be removed in a future version. Please use `Model.predict`, which supports generators.\n",
            "  This is separate from the ipykernel package so we can avoid doing imports until\n"
          ]
        }
      ]
    },
    {
      "cell_type": "code",
      "source": [
        "# Need to make y_true array\n",
        "def curate_labels():\n",
        "  y_train = []\n",
        "\n",
        "# np_xtr = np.zeros(shape=(1633, 150, 150, 3))\n",
        "\n",
        "  # print('Currently working on training data...')\n",
        "  for root, dirs, files in os.walk('/content/Data/Test/', topdown=False):\n",
        "      for name in files:\n",
        "          if os.path.join(root,name).__contains__('Fake'):\n",
        "              y_train.append(0.)\n",
        "          else:\n",
        "              y_train.append(1.)\n",
        "  return np.asarray(y_train).squeeze()\n"
      ],
      "metadata": {
        "id": "kPx6LbcU3Gme"
      },
      "execution_count": null,
      "outputs": []
    },
    {
      "cell_type": "code",
      "source": [
        "y_test_naive = curate_labels()"
      ],
      "metadata": {
        "id": "DtAWcETV37PU"
      },
      "execution_count": null,
      "outputs": []
    },
    {
      "cell_type": "markdown",
      "source": [
        "Threshold is set at 0.5"
      ],
      "metadata": {
        "id": "lAZZEHVM1VBB"
      }
    },
    {
      "cell_type": "code",
      "source": [
        "def round_preds(y_preds_unrounded):\n",
        "  return np.round(np.asarray(y_preds_unrounded)).squeeze()"
      ],
      "metadata": {
        "id": "roN2HoGe1YZ4"
      },
      "execution_count": null,
      "outputs": []
    },
    {
      "cell_type": "code",
      "source": [
        "y_preds_naivecnn = round_preds(y_preds_naivecnn)\n",
        "\n",
        "confusion_matrix_balanced_acc(y_true=y_test_naive, y_preds=y_preds_naivecnn)"
      ],
      "metadata": {
        "colab": {
          "base_uri": "https://localhost:8080/",
          "height": 286
        },
        "id": "0-r-DlQ_1sZl",
        "outputId": "7f08ccbd-3e03-469d-fbda-ba7401b9a242"
      },
      "execution_count": null,
      "outputs": [
        {
          "output_type": "stream",
          "name": "stdout",
          "text": [
            "Balanced Accuracy Score: 0.49002849002849\n"
          ]
        },
        {
          "output_type": "display_data",
          "data": {
            "text/plain": [
              "<Figure size 432x288 with 2 Axes>"
            ],
            "image/png": "[encoded data removed]"
          },
          "metadata": {
            "needs_background": "light"
          }
        }
      ]
    },
    {
      "cell_type": "code",
      "execution_count": null,
      "metadata": {
        "id": "Fe7oH1mBXBvl"
      },
      "outputs": [],
      "source": [
        "model.save(\"garbage_cnn.h5\")"
      ]
    },
    {
      "cell_type": "markdown",
      "metadata": {
        "id": "eu_Ij8W7gM7L"
      },
      "source": [
        "#### K-fold cross val"
      ]
    },
    {
      "cell_type": "code",
      "execution_count": null,
      "metadata": {
        "colab": {
          "base_uri": "https://localhost:8080/",
          "height": 630
        },
        "id": "QrT_Pt3WfV7E",
        "outputId": "6ad1c448-1dc2-4744-fd79-d6135f473b47"
      },
      "outputs": [
        {
          "data": {
            "image/png": "[encoded data removed]",
            "text/plain": [
              "<IPython.core.display.Image object>"
            ]
          },
          "execution_count": 11,
          "metadata": {},
          "output_type": "execute_result"
        }
      ],
      "source": [
        "from IPython import display\n",
        "display.Image('/content/grid_search_cross_validation.png')"
      ]
    },
    {
      "cell_type": "code",
      "execution_count": null,
      "metadata": {
        "colab": {
          "base_uri": "https://localhost:8080/"
        },
        "id": "AsSzytjkgSOO",
        "outputId": "b1b5a827-2d4f-4e11-a02e-e14b8ed9eedf"
      },
      "outputs": [
        {
          "output_type": "stream",
          "name": "stdout",
          "text": [
            "--2022-11-13 16:31:26--  https://drive.google.com/uc?id=1qD6YvLIrkCcb6xYROgRHB3aaP8q0V0IL&export=download\n",
            "Resolving drive.google.com (drive.google.com)... 209.85.234.138, 209.85.234.101, 209.85.234.113, ...\n",
            "Connecting to drive.google.com (drive.google.com)|209.85.234.138|:443... connected.\n",
            "HTTP request sent, awaiting response... 303 See Other\n",
            "Location: https://doc-0k-1c-docs.googleusercontent.com/docs/securesc/ha0ro937gcuc7l7deffksulhg5h7mbp1/nfq3ucv9et9bdeg002d9paj24rjb6usp/1668357075000/13257672939726536336/*/1qD6YvLIrkCcb6xYROgRHB3aaP8q0V0IL?e=download&uuid=346e51e5-1afd-42d2-8dbe-75112f96f2ae [following]\n",
            "Warning: wildcards not supported in HTTP.\n",
            "--2022-11-13 16:31:26--  https://doc-0k-1c-docs.googleusercontent.com/docs/securesc/ha0ro937gcuc7l7deffksulhg5h7mbp1/nfq3ucv9et9bdeg002d9paj24rjb6usp/1668357075000/13257672939726536336/*/1qD6YvLIrkCcb6xYROgRHB3aaP8q0V0IL?e=download&uuid=346e51e5-1afd-42d2-8dbe-75112f96f2ae\n",
            "Resolving doc-0k-1c-docs.googleusercontent.com (doc-0k-1c-docs.googleusercontent.com)... 142.250.103.132, 2607:f8b0:4001:c19::84\n",
            "Connecting to doc-0k-1c-docs.googleusercontent.com (doc-0k-1c-docs.googleusercontent.com)|142.250.103.132|:443... connected.\n",
            "HTTP request sent, awaiting response... 200 OK\n",
            "Length: 69 [application/json]\n",
            "Saving to: ‘uc?id=1qD6YvLIrkCcb6xYROgRHB3aaP8q0V0IL&export=download’\n",
            "\n",
            "uc?id=1qD6YvLIrkCcb 100%[===================>]      69  --.-KB/s    in 0s      \n",
            "\n",
            "2022-11-13 16:31:26 (3.97 MB/s) - ‘uc?id=1qD6YvLIrkCcb6xYROgRHB3aaP8q0V0IL&export=download’ saved [69/69]\n",
            "\n",
            "mkdir: cannot create directory ‘/root/.kaggle’: File exists\n",
            "real-and-fake-face-detection.zip: Skipping, found more recently modified local copy (use --force to force download)\n",
            "Done Extracting data\n"
          ]
        }
      ],
      "source": [
        "get_data()"
      ]
    },
    {
      "cell_type": "code",
      "execution_count": null,
      "metadata": {
        "id": "q_LYwkoziOaR"
      },
      "outputs": [],
      "source": [
        "def kfold_setup():\n",
        "    \n",
        "    path='Data/'\n",
        "\n",
        "    #if files already exist, remove all the data in them\n",
        "    try:\n",
        "        os.mkdir('Data/')\n",
        "    except FileExistsError:\n",
        "        !rm 'Data/' -r\n",
        "    \n",
        "    !mkdir 'Data/'\n",
        "    !mkdir 'Data/Train/'\n",
        "    !mkdir 'Data/Train/Fake/'\n",
        "    !mkdir 'Data/Train/Real/'\n",
        "    !mkdir 'Data/Test/'\n",
        "    !mkdir 'Data/Test/Fake/'\n",
        "    !mkdir 'Data/Test/Real/'\n",
        "    # !mkdir 'Data/Val/'\n",
        "    # !mkdir 'Data/Val/Fake/'\n",
        "    # !mkdir 'Data/Val/Real/'\n",
        "\n",
        "\n",
        "    # Now need to move files around\n",
        "    # We'll use a 80 20 split, with k-fold cross val\n",
        "    \n",
        "    # Fake\n",
        "    src_fake = '/content/real_and_fake_face/training_fake/'\n",
        "    dst_train_fake = '/content/Data/Train/Fake/'\n",
        "    dst_test_fake = '/content/Data/Test/Fake/'\n",
        "\n",
        "    #so there are 960 total images that are fake, so 80% of that is 768\n",
        "    # 20% of 960 is 192\n",
        "\n",
        "    # So for list slicing our training fake data will be 0:768\n",
        "    # our test fake data will be 769:\n",
        "\n",
        "    fake_imgs = os.listdir(src_fake)\n",
        "    np.random.shuffle(fake_imgs)\n",
        "    \n",
        "    train_fake_imgs = fake_imgs[0:768] #80%\n",
        "    test_fake_imgs = fake_imgs[769:] #~20%\n",
        "    \n",
        "    # Real\n",
        "    src_real = '/content/real_and_fake_face/training_real/'\n",
        "    dst_train_real = '/content/Data/Train/Real/'\n",
        "    dst_test_real = '/content/Data/Test/Real/'\n",
        "\n",
        "    # so there is 1081 real images in training_real folder. so 80% of that is 865\n",
        "    # 0:865 will be train\n",
        "    # 866: will be test\n",
        "\n",
        "    real_imgs = os.listdir(src_real)\n",
        "    np.random.shuffle(real_imgs)\n",
        "\n",
        "    train_real_imgs = real_imgs[0:865] #80%\n",
        "    test_real_imgs = real_imgs[866:] #20%\n",
        "\n",
        "    # using shutil.move()\n",
        "    print('Moving real images...')\n",
        "    [shutil.move(src=os.path.join(src_real, file), dst=os.path.join(dst_train_real, file)) for file in train_real_imgs]\n",
        "    [shutil.move(src=os.path.join(src_real, file), dst=os.path.join(dst_test_real, file)) for file in test_real_imgs]\n",
        "    print('Done moving real imgs')\n",
        "\n",
        "    print('Moving fake imgs...')\n",
        "    [shutil.move(src=os.path.join(src_fake, file), dst=os.path.join(dst_train_fake, file)) for file in train_fake_imgs]\n",
        "    [shutil.move(src=os.path.join(src_fake, file), dst=os.path.join(dst_test_fake, file)) for file in test_fake_imgs]\n",
        "    print('Done moving fake imgs')\n",
        "\n",
        "    print(f'Size of train fake dir: {len(os.listdir(dst_train_fake))}')\n",
        "    print(f'Size of test fake dir: {len(os.listdir(dst_test_fake))}')\n",
        "    print(f'Size of train real dir: {len(os.listdir(dst_train_real))}')\n",
        "    print(f'Size of test real dir: {len(os.listdir(dst_test_real))}')\n",
        "\n",
        "    # remove empty folder now\n",
        "    ! rm /content/real_and_fake_face -r\n"
      ]
    },
    {
      "cell_type": "code",
      "execution_count": null,
      "metadata": {
        "colab": {
          "base_uri": "https://localhost:8080/"
        },
        "id": "oPEFfpAjjNFD",
        "outputId": "80c3332e-6e87-4965-c505-1b97d50ff90f"
      },
      "outputs": [
        {
          "output_type": "stream",
          "name": "stdout",
          "text": [
            "Moving real images...\n",
            "Done moving real imgs\n",
            "Moving fake imgs...\n",
            "Done moving fake imgs\n",
            "Size of train fake dir: 768\n",
            "Size of test fake dir: 191\n",
            "Size of train real dir: 865\n",
            "Size of test real dir: 215\n"
          ]
        }
      ],
      "source": [
        "kfold_setup()"
      ]
    },
    {
      "cell_type": "markdown",
      "metadata": {
        "id": "4X2TG5JKjvGV"
      },
      "source": [
        "Now we need to train with k-fold cross val. So the way it will work is there are 4 folds. Meaning there will be 4 accuracies we will obtain. We need to first split up the training data \n"
      ]
    },
    {
      "cell_type": "code",
      "execution_count": null,
      "metadata": {
        "colab": {
          "base_uri": "https://localhost:8080/"
        },
        "id": "kOmH_hTAlByh",
        "outputId": "66719e1e-1c24-423c-88c7-cd6355dfe2e1"
      },
      "outputs": [
        {
          "output_type": "stream",
          "name": "stdout",
          "text": [
            "Currently working on training data...\n",
            "Finished training data...\n"
          ]
        }
      ],
      "source": [
        "y_train = []\n",
        "x_train = []\n",
        "# np_xtr = np.zeros(shape=(1633, 150, 150, 3))\n",
        "\n",
        "print('Currently working on training data...')\n",
        "for root, dirs, files in os.walk('/content/Data/Train/', topdown=False):\n",
        "    for name in files:\n",
        "    \n",
        "        if os.path.join(root,name).__contains__('Fake'):\n",
        "            y_train.append(0.)\n",
        "        else:\n",
        "            y_train.append(1.)\n",
        "        \n",
        "        img = Image.open(os.path.join(root, name))\n",
        "\n",
        "        x_train.append(np.asarray(img).astype('float32')/255.)\n",
        "        # np_xtr[i] = np.asarray(img).astype('float32')/255.\n",
        "        # print((np.asarray(img).astype('float32')/255.).shape)\n",
        "        # np_xtr[i] = np.resize(np.asarray(img).astype('float32')/255., (150, 150, 3))\n",
        "print('Finished training data...')"
      ]
    },
    {
      "cell_type": "code",
      "execution_count": null,
      "metadata": {
        "colab": {
          "base_uri": "https://localhost:8080/"
        },
        "id": "dDNzujTltN1Q",
        "outputId": "2ecac8a5-bff0-49f6-cbd7-a6e2a1c4c598"
      },
      "outputs": [
        {
          "output_type": "stream",
          "name": "stdout",
          "text": [
            "Working on testing data...\n",
            "Done\n"
          ]
        }
      ],
      "source": [
        "y_test = []\n",
        "x_test = []\n",
        "# Repeating for test data\n",
        "print('Working on testing data...')\n",
        "for root, dirs, files in os.walk('/content/Data/Test/', topdown=False):\n",
        "    for name in files:\n",
        "        if os.path.join(root,name).__contains__('Fake'):\n",
        "            y_test.append(0.)\n",
        "        else:\n",
        "            y_test.append(1.)\n",
        "\n",
        "        img = Image.open(os.path.join(root, name))\n",
        "\n",
        "        x_test.append(np.asarray(img).astype('float32')/255.)\n",
        "\n",
        "print('Done')"
      ]
    },
    {
      "cell_type": "code",
      "execution_count": null,
      "metadata": {
        "colab": {
          "base_uri": "https://localhost:8080/"
        },
        "id": "HGQI8xW2pHmj",
        "outputId": "fad57c33-14aa-4ec2-d1e7-5fae9446ad83"
      },
      "outputs": [
        {
          "output_type": "stream",
          "name": "stdout",
          "text": [
            "y train size: 1633\n",
            "x train size: 1633\n",
            "y test size: 406\n",
            "x test size: 406\n"
          ]
        }
      ],
      "source": [
        "print(f'y train size: {len(y_train)}')\n",
        "print(f'x train size: {len(x_train)}')\n",
        "print(f'y test size: {len(y_test)}')\n",
        "print(f'x test size: {len(x_test)}')"
      ]
    },
    {
      "cell_type": "code",
      "execution_count": null,
      "metadata": {
        "id": "JBj7QkWXzO_8",
        "colab": {
          "base_uri": "https://localhost:8080/"
        },
        "outputId": "a49104f7-4d49-4ead-f635-877425a92d16"
      },
      "outputs": [
        {
          "output_type": "stream",
          "name": "stdout",
          "text": [
            "Working on X train\n",
            "Done-.. Working on X test now\n",
            "Done\n"
          ]
        }
      ],
      "source": [
        "np_xtr = np.zeros((1633, 150, 150, 3))\n",
        "np_xts = np.zeros((406, 150, 150, 3))\n",
        "print('Working on X train')\n",
        "for idx, el in enumerate(x_train):\n",
        "    np_xtr[idx] = np.resize(el, (150, 150, 3))\n",
        "\n",
        "print('Done-.. Working on X test now')\n",
        "for idx, el in enumerate(x_test):\n",
        "    np_xts[idx] = np.resize(el, (150, 150, 3))\n",
        "print('Done')\n"
      ]
    },
    {
      "cell_type": "code",
      "execution_count": null,
      "metadata": {
        "id": "PUus5LpXSonk"
      },
      "outputs": [],
      "source": [
        "# # convert the labels to np arrays too\n",
        "# y_train = np.asarray(y_train)\n",
        "# y_test = np.array(y_test)\n",
        "\n",
        "# print(f'Y train shape: {y_train.shape}')\n",
        "# print(f'Y test shape: {y_test.shape}')\n",
        "\n",
        "X_train = x_train\n",
        "X_test_final = x_test # capitalizing for consistency\n",
        "y_test_final = y_test\n"
      ]
    },
    {
      "cell_type": "markdown",
      "source": [
        "## !Continuing from naive CNN –– concatenating training and val data, tuning params and re-running!"
      ],
      "metadata": {
        "id": "IH8iLA-R1T5H"
      }
    },
    {
      "cell_type": "code",
      "source": [
        "y_train[0:10]"
      ],
      "metadata": {
        "colab": {
          "base_uri": "https://localhost:8080/"
        },
        "id": "ucUPC6O01bCO",
        "outputId": "5ebeeaf0-3d92-4c69-c827-85d24745d0c3"
      },
      "execution_count": null,
      "outputs": [
        {
          "output_type": "execute_result",
          "data": {
            "text/plain": [
              "[1.0, 1.0, 1.0, 1.0, 1.0, 1.0, 1.0, 1.0, 1.0, 1.0]"
            ]
          },
          "metadata": {},
          "execution_count": 26
        }
      ]
    },
    {
      "cell_type": "markdown",
      "source": [
        "We need to shuffle in unison first since it's all 1s and then 0s"
      ],
      "metadata": {
        "id": "YKqHmZC11oob"
      }
    },
    {
      "cell_type": "code",
      "source": [
        "def unison_shuffled_copies(a, b):\n",
        "    assert len(a) == len(b)\n",
        "    p = np.random.permutation(len(a))\n",
        "    return a[p], b[p]\n",
        "\n",
        "X_train, y_train = unison_shuffled_copies(np_xtr, np.asarray(y_train))\n",
        "X_test, y_test = unison_shuffled_copies(np_xts, np.asarray(y_test))"
      ],
      "metadata": {
        "id": "w_LG1GnQ1wNf"
      },
      "execution_count": null,
      "outputs": []
    },
    {
      "cell_type": "code",
      "source": [
        "model = model_init()\n",
        "\n",
        "model.compile(loss='binary_crossentropy', optimizer=tf.keras.optimizers.Adam(learning_rate=.000085), metrics=['acc'])\n",
        "\n",
        "hist = model.fit(X_train, y_train, batch_size=16, epochs=10)"
      ],
      "metadata": {
        "colab": {
          "base_uri": "https://localhost:8080/"
        },
        "id": "SNKXqPAi2UPi",
        "outputId": "e586c560-6c15-4c01-a0a1-caff9a778648"
      },
      "execution_count": null,
      "outputs": [
        {
          "output_type": "stream",
          "name": "stdout",
          "text": [
            "Epoch 1/10\n",
            "103/103 [==============================] - 1s 6ms/step - loss: 0.7303 - acc: 0.5321\n",
            "Epoch 2/10\n",
            "103/103 [==============================] - 1s 6ms/step - loss: 0.6826 - acc: 0.5707\n",
            "Epoch 3/10\n",
            "103/103 [==============================] - 1s 6ms/step - loss: 0.6757 - acc: 0.5683\n",
            "Epoch 4/10\n",
            "103/103 [==============================] - 1s 6ms/step - loss: 0.6624 - acc: 0.5897\n",
            "Epoch 5/10\n",
            "103/103 [==============================] - 1s 6ms/step - loss: 0.6611 - acc: 0.6093\n",
            "Epoch 6/10\n",
            "103/103 [==============================] - 1s 6ms/step - loss: 0.6423 - acc: 0.6197\n",
            "Epoch 7/10\n",
            "103/103 [==============================] - 1s 6ms/step - loss: 0.6280 - acc: 0.6442\n",
            "Epoch 8/10\n",
            "103/103 [==============================] - 1s 6ms/step - loss: 0.6150 - acc: 0.6565\n",
            "Epoch 9/10\n",
            "103/103 [==============================] - 1s 6ms/step - loss: 0.5802 - acc: 0.6981\n",
            "Epoch 10/10\n",
            "103/103 [==============================] - 1s 6ms/step - loss: 0.5754 - acc: 0.6908\n"
          ]
        }
      ]
    },
    {
      "cell_type": "markdown",
      "source": [
        "Evaluate the performance"
      ],
      "metadata": {
        "id": "nVaqMOV330cd"
      }
    },
    {
      "cell_type": "code",
      "source": [
        "model.evaluate(X_test, y_test)"
      ],
      "metadata": {
        "colab": {
          "base_uri": "https://localhost:8080/"
        },
        "id": "_5uIxAwW32Pg",
        "outputId": "4acb6a9b-c22f-44f0-c556-4882c5ce7df5"
      },
      "execution_count": null,
      "outputs": [
        {
          "output_type": "stream",
          "name": "stdout",
          "text": [
            "13/13 [==============================] - 0s 5ms/step - loss: 0.7449 - acc: 0.5591\n"
          ]
        },
        {
          "output_type": "execute_result",
          "data": {
            "text/plain": [
              "[0.7449138760566711, 0.5591133236885071]"
            ]
          },
          "metadata": {},
          "execution_count": 58
        }
      ]
    },
    {
      "cell_type": "markdown",
      "source": [
        "Not bad. Let's make predictions and then get a confusion matrix and balanced accuracy score"
      ],
      "metadata": {
        "id": "dMpPpOqm4Tzj"
      }
    },
    {
      "cell_type": "code",
      "source": [
        "y_preds = model.predict(X_test)\n",
        "\n",
        "confusion_matrix_balanced_acc(y_true=y_test, y_preds=round_preds(y_preds))"
      ],
      "metadata": {
        "colab": {
          "base_uri": "https://localhost:8080/",
          "height": 299
        },
        "id": "spqG02Nu4k9F",
        "outputId": "1d006bea-1712-4407-d0e6-1edadd3ddb64"
      },
      "execution_count": null,
      "outputs": [
        {
          "output_type": "stream",
          "name": "stdout",
          "text": [
            "13/13 [==============================] - 0s 4ms/step\n",
            "Balanced Accuracy Score: 0.5100815779861196\n"
          ]
        },
        {
          "output_type": "display_data",
          "data": {
            "text/plain": [
              "<Figure size 432x288 with 2 Axes>"
            ],
            "image/png": "[encoded data removed]"
          },
          "metadata": {
            "needs_background": "light"
          }
        }
      ]
    },
    {
      "cell_type": "markdown",
      "metadata": {
        "id": "ztElsG__S3B9"
      },
      "source": [
        "Now we can run the k-fold cross val"
      ]
    },
    {
      "cell_type": "code",
      "execution_count": null,
      "metadata": {
        "colab": {
          "base_uri": "https://localhost:8080/"
        },
        "id": "dHwD5E0PS4xF",
        "outputId": "893f553d-9323-4056-a98a-77ff1a43bfc2"
      },
      "outputs": [
        {
          "output_type": "execute_result",
          "data": {
            "text/plain": [
              "4"
            ]
          },
          "metadata": {},
          "execution_count": 13
        }
      ],
      "source": [
        "# K = 4\n",
        "from sklearn.model_selection import KFold\n",
        "kf = KFold(n_splits=4, shuffle=True)\n",
        "\n",
        "kf.get_n_splits(X_train, y_train)"
      ]
    },
    {
      "cell_type": "code",
      "execution_count": null,
      "metadata": {
        "id": "oWCkEgVOTWpz",
        "colab": {
          "base_uri": "https://localhost:8080/"
        },
        "outputId": "6e6d9116-5781-4ad6-8ce6-a5c5881a2e98"
      },
      "outputs": [
        {
          "output_type": "stream",
          "name": "stdout",
          "text": [
            "Epoch 1/20\n",
            "20/20 [==============================] - 1s 16ms/step - loss: 1.3113 - acc: 0.4853\n",
            "Epoch 2/20\n",
            "20/20 [==============================] - 0s 17ms/step - loss: 0.6931 - acc: 0.5155\n",
            "Epoch 3/20\n",
            "20/20 [==============================] - 0s 16ms/step - loss: 0.6929 - acc: 0.5351\n",
            "Epoch 4/20\n",
            "20/20 [==============================] - 0s 16ms/step - loss: 0.6907 - acc: 0.5482\n",
            "Epoch 5/20\n",
            "20/20 [==============================] - 0s 16ms/step - loss: 0.6912 - acc: 0.5515\n",
            "Epoch 6/20\n",
            "20/20 [==============================] - 0s 16ms/step - loss: 0.6903 - acc: 0.5376\n",
            "Epoch 7/20\n",
            "20/20 [==============================] - 0s 16ms/step - loss: 0.6873 - acc: 0.5703\n",
            "Epoch 8/20\n",
            "20/20 [==============================] - 0s 16ms/step - loss: 0.6883 - acc: 0.5564\n",
            "Epoch 9/20\n",
            "20/20 [==============================] - 0s 16ms/step - loss: 0.6855 - acc: 0.5670\n",
            "Epoch 10/20\n",
            "20/20 [==============================] - 0s 16ms/step - loss: 0.6839 - acc: 0.5621\n",
            "Epoch 11/20\n",
            "20/20 [==============================] - 0s 16ms/step - loss: 0.6840 - acc: 0.5613\n",
            "Epoch 12/20\n",
            "20/20 [==============================] - 0s 16ms/step - loss: 0.6812 - acc: 0.5711\n",
            "Epoch 13/20\n",
            "20/20 [==============================] - 0s 16ms/step - loss: 0.6800 - acc: 0.5760\n",
            "Epoch 14/20\n",
            "20/20 [==============================] - 0s 16ms/step - loss: 0.6892 - acc: 0.5466\n",
            "Epoch 15/20\n",
            "20/20 [==============================] - 0s 17ms/step - loss: 0.6826 - acc: 0.5539\n",
            "Epoch 16/20\n",
            "20/20 [==============================] - 0s 16ms/step - loss: 0.6890 - acc: 0.5523\n",
            "Epoch 17/20\n",
            "20/20 [==============================] - 0s 16ms/step - loss: 0.6837 - acc: 0.5523\n",
            "Epoch 18/20\n",
            "20/20 [==============================] - 0s 16ms/step - loss: 0.6782 - acc: 0.5711\n",
            "Epoch 19/20\n",
            "20/20 [==============================] - 0s 16ms/step - loss: 0.6724 - acc: 0.5850\n",
            "Epoch 20/20\n",
            "20/20 [==============================] - 0s 16ms/step - loss: 0.6774 - acc: 0.5899\n",
            "13/13 [==============================] - 0s 6ms/step - loss: 0.6760 - acc: 0.5844\n",
            "Completed fold... Onto the next\n",
            "Epoch 1/20\n",
            "20/20 [==============================] - 1s 16ms/step - loss: 1.0107 - acc: 0.5094\n",
            "Epoch 2/20\n",
            "20/20 [==============================] - 0s 17ms/step - loss: 0.6930 - acc: 0.5322\n",
            "Epoch 3/20\n",
            "20/20 [==============================] - 0s 16ms/step - loss: 0.6922 - acc: 0.5331\n",
            "Epoch 4/20\n",
            "20/20 [==============================] - 0s 16ms/step - loss: 0.6925 - acc: 0.5331\n",
            "Epoch 5/20\n",
            "20/20 [==============================] - 0s 16ms/step - loss: 0.6918 - acc: 0.5331\n",
            "Epoch 6/20\n",
            "20/20 [==============================] - 0s 16ms/step - loss: 0.6913 - acc: 0.5331\n",
            "Epoch 7/20\n",
            "20/20 [==============================] - 0s 16ms/step - loss: 0.6913 - acc: 0.5331\n",
            "Epoch 8/20\n",
            "20/20 [==============================] - 0s 16ms/step - loss: 0.6910 - acc: 0.5331\n",
            "Epoch 9/20\n",
            "20/20 [==============================] - 0s 16ms/step - loss: 0.6911 - acc: 0.5331\n",
            "Epoch 10/20\n",
            "20/20 [==============================] - 0s 16ms/step - loss: 0.6911 - acc: 0.5331\n",
            "Epoch 11/20\n",
            "20/20 [==============================] - 0s 17ms/step - loss: 0.6910 - acc: 0.5331\n",
            "Epoch 12/20\n",
            "20/20 [==============================] - 0s 16ms/step - loss: 0.6910 - acc: 0.5331\n",
            "Epoch 13/20\n",
            "20/20 [==============================] - 0s 16ms/step - loss: 0.6910 - acc: 0.5331\n",
            "Epoch 14/20\n",
            "20/20 [==============================] - 0s 17ms/step - loss: 0.6925 - acc: 0.5331\n",
            "Epoch 15/20\n",
            "20/20 [==============================] - 0s 16ms/step - loss: 0.6910 - acc: 0.5331\n",
            "Epoch 16/20\n",
            "20/20 [==============================] - 0s 16ms/step - loss: 0.6910 - acc: 0.5331\n",
            "Epoch 17/20\n",
            "20/20 [==============================] - 0s 16ms/step - loss: 0.6913 - acc: 0.5331\n",
            "Epoch 18/20\n",
            "20/20 [==============================] - 0s 17ms/step - loss: 0.6910 - acc: 0.5331\n",
            "Epoch 19/20\n",
            "20/20 [==============================] - 0s 16ms/step - loss: 0.6910 - acc: 0.5331\n",
            "Epoch 20/20\n",
            "20/20 [==============================] - 0s 16ms/step - loss: 0.6910 - acc: 0.5331\n",
            "13/13 [==============================] - 0s 5ms/step - loss: 0.6929 - acc: 0.5196\n",
            "Completed fold... Onto the next\n",
            "Epoch 1/20\n",
            "20/20 [==============================] - 1s 16ms/step - loss: 1.1908 - acc: 0.5216\n",
            "Epoch 2/20\n",
            "20/20 [==============================] - 0s 17ms/step - loss: 0.6925 - acc: 0.5273\n",
            "Epoch 3/20\n",
            "20/20 [==============================] - 0s 16ms/step - loss: 0.6883 - acc: 0.5273\n",
            "Epoch 4/20\n",
            "20/20 [==============================] - 0s 16ms/step - loss: 0.6936 - acc: 0.5265\n",
            "Epoch 5/20\n",
            "20/20 [==============================] - 0s 16ms/step - loss: 0.6920 - acc: 0.5290\n",
            "Epoch 6/20\n",
            "20/20 [==============================] - 0s 16ms/step - loss: 0.6875 - acc: 0.5200\n",
            "Epoch 7/20\n",
            "20/20 [==============================] - 0s 16ms/step - loss: 0.6822 - acc: 0.5527\n",
            "Epoch 8/20\n",
            "20/20 [==============================] - 0s 17ms/step - loss: 0.6753 - acc: 0.5600\n",
            "Epoch 9/20\n",
            "20/20 [==============================] - 0s 16ms/step - loss: 0.6717 - acc: 0.5657\n",
            "Epoch 10/20\n",
            "20/20 [==============================] - 0s 16ms/step - loss: 0.6806 - acc: 0.5624\n",
            "Epoch 11/20\n",
            "20/20 [==============================] - 0s 16ms/step - loss: 0.6685 - acc: 0.5731\n",
            "Epoch 12/20\n",
            "20/20 [==============================] - 0s 16ms/step - loss: 0.6612 - acc: 0.5788\n",
            "Epoch 13/20\n",
            "20/20 [==============================] - 0s 16ms/step - loss: 0.6654 - acc: 0.5837\n",
            "Epoch 14/20\n",
            "20/20 [==============================] - 0s 16ms/step - loss: 0.6506 - acc: 0.5902\n",
            "Epoch 15/20\n",
            "20/20 [==============================] - 0s 16ms/step - loss: 0.6486 - acc: 0.5992\n",
            "Epoch 16/20\n",
            "20/20 [==============================] - 0s 16ms/step - loss: 0.6321 - acc: 0.6090\n",
            "Epoch 17/20\n",
            "20/20 [==============================] - 0s 17ms/step - loss: 0.6296 - acc: 0.6212\n",
            "Epoch 18/20\n",
            "20/20 [==============================] - 0s 17ms/step - loss: 0.6209 - acc: 0.6237\n",
            "Epoch 19/20\n",
            "20/20 [==============================] - 0s 17ms/step - loss: 0.6001 - acc: 0.6563\n",
            "Epoch 20/20\n",
            "20/20 [==============================] - 0s 16ms/step - loss: 0.5886 - acc: 0.6612\n",
            "13/13 [==============================] - 0s 5ms/step - loss: 0.6894 - acc: 0.5368\n",
            "Completed fold... Onto the next\n",
            "Epoch 1/20\n",
            "20/20 [==============================] - 1s 16ms/step - loss: 0.9933 - acc: 0.5069\n",
            "Epoch 2/20\n",
            "20/20 [==============================] - 0s 17ms/step - loss: 0.6908 - acc: 0.5371\n",
            "Epoch 3/20\n",
            "20/20 [==============================] - 0s 17ms/step - loss: 0.6836 - acc: 0.5404\n",
            "Epoch 4/20\n",
            "20/20 [==============================] - 0s 16ms/step - loss: 0.6814 - acc: 0.5673\n",
            "Epoch 5/20\n",
            "20/20 [==============================] - 0s 16ms/step - loss: 0.6839 - acc: 0.5453\n",
            "Epoch 6/20\n",
            "20/20 [==============================] - 0s 16ms/step - loss: 0.6691 - acc: 0.5927\n",
            "Epoch 7/20\n",
            "20/20 [==============================] - 0s 16ms/step - loss: 0.6685 - acc: 0.5820\n",
            "Epoch 8/20\n",
            "20/20 [==============================] - 0s 17ms/step - loss: 0.6642 - acc: 0.5853\n",
            "Epoch 9/20\n",
            "20/20 [==============================] - 0s 16ms/step - loss: 0.6576 - acc: 0.5869\n",
            "Epoch 10/20\n",
            "20/20 [==============================] - 0s 16ms/step - loss: 0.6571 - acc: 0.5902\n",
            "Epoch 11/20\n",
            "20/20 [==============================] - 0s 16ms/step - loss: 0.6545 - acc: 0.6180\n",
            "Epoch 12/20\n",
            "20/20 [==============================] - 0s 16ms/step - loss: 0.6492 - acc: 0.5976\n",
            "Epoch 13/20\n",
            "20/20 [==============================] - 0s 16ms/step - loss: 0.6492 - acc: 0.6016\n",
            "Epoch 14/20\n",
            "20/20 [==============================] - 0s 16ms/step - loss: 0.6462 - acc: 0.5869\n",
            "Epoch 15/20\n",
            "20/20 [==============================] - 0s 16ms/step - loss: 0.6377 - acc: 0.6057\n",
            "Epoch 16/20\n",
            "20/20 [==============================] - 0s 16ms/step - loss: 0.6256 - acc: 0.6188\n",
            "Epoch 17/20\n",
            "20/20 [==============================] - 0s 16ms/step - loss: 0.6427 - acc: 0.6237\n",
            "Epoch 18/20\n",
            "20/20 [==============================] - 0s 16ms/step - loss: 0.6213 - acc: 0.6278\n",
            "Epoch 19/20\n",
            "20/20 [==============================] - 0s 16ms/step - loss: 0.6142 - acc: 0.6327\n",
            "Epoch 20/20\n",
            "20/20 [==============================] - 0s 16ms/step - loss: 0.6133 - acc: 0.6465\n",
            "13/13 [==============================] - 0s 5ms/step - loss: 0.6986 - acc: 0.5270\n",
            "Completed fold... Onto the next\n",
            "Done\n"
          ]
        }
      ],
      "source": [
        "accs = []\n",
        "loss = []\n",
        "\n",
        "for train_index, test_index in kf.split(X_train):\n",
        "    # print(f'TRAIN: {train_index}\\nTrain shape: {len(train_index)}')\n",
        "    # print(f'TEST: {test_index}\\nTest shape: {len(test_index)}')\n",
        "\n",
        "    X_train_fold = np.take(np_xtr, indices=train_index, axis=0)\n",
        "    X_test_fold = np.take(np_xtr, indices=test_index, axis=0)\n",
        "\n",
        "    y_train_fold = np.take(y_train, indices=train_index)\n",
        "    y_test_fold = np.take(y_train, indices=test_index)\n",
        "    # X_train_fold = [np.resize(X_train[i], new_shape=(150, 150, 3)) for i in train_index]\n",
        "    # X_test_fold = [np.resize(X_train[i], new_shape=(150, 150,3)) for  i in test_index]\n",
        "\n",
        "    # y_train_fold = [y_train[i] for i in train_index]\n",
        "    # y_test_fold = [y_train[i] for i in test_index]\n",
        "\n",
        "    model = model_init() # instantiate model\n",
        "\n",
        "    model.compile(loss='binary_crossentropy', optimizer='adam', metrics=['acc']) # compile\n",
        "\n",
        "    model.fit(X_train_fold, y_train_fold, batch_size=64, epochs=20)\n",
        "\n",
        "    res = model.evaluate(X_test_fold, y_test_fold)\n",
        "    \n",
        "    accs.append(res[1])\n",
        "    loss.append(res[0])\n",
        "\n",
        "    print('Completed fold... Onto the next')\n",
        "\n",
        "print('Done')"
      ]
    },
    {
      "cell_type": "code",
      "source": [
        "print(f' Mean k-fold accuracy: {np.round(np.mean(accs), 3)}')\n",
        "print(f' Mean k-fold loss: {np.round(np.mean(loss), 3)}')"
      ],
      "metadata": {
        "colab": {
          "base_uri": "https://localhost:8080/"
        },
        "id": "Scf-_H-tpV3D",
        "outputId": "24272511-d306-4929-8d1b-4749ae8f030c"
      },
      "execution_count": null,
      "outputs": [
        {
          "output_type": "stream",
          "name": "stdout",
          "text": [
            " Mean k-fold accuracy: 0.542\n",
            " Mean k-fold loss: 0.689\n"
          ]
        }
      ]
    },
    {
      "cell_type": "markdown",
      "source": [
        "## Additional baselines classifer\n"
      ],
      "metadata": {
        "id": "l1y7FzaBsfQm"
      }
    },
    {
      "cell_type": "markdown",
      "source": [
        "#### Random Classifier"
      ],
      "metadata": {
        "id": "sHYoH7_7s9Py"
      }
    },
    {
      "cell_type": "code",
      "source": [
        "y_test = np.asarray(y_test)\n",
        "random_accs = []\n",
        "\n",
        "#stimulating 100 times a random classifier\n",
        "for _ in range(0, 100):\n",
        "  y_preds = np.random.randint(low=0, high=2, size=y_test.shape)\n",
        "  acc = sm.accuracy_score(y_true=y_test, y_pred=y_preds)\n",
        "  random_accs.append(np.round(acc, 3))\n",
        "\n",
        "print(f'Mean random classifier accuracy over 100 trials: {np.round(np.mean(random_accs), 3)}')"
      ],
      "metadata": {
        "colab": {
          "base_uri": "https://localhost:8080/"
        },
        "id": "0-uH4Tyns-u3",
        "outputId": "bf23bccd-7633-4c78-b722-2cdfe0f3c7ce"
      },
      "execution_count": null,
      "outputs": [
        {
          "output_type": "stream",
          "name": "stdout",
          "text": [
            "Mean random classifier accuracy over 100 trials: 0.499\n"
          ]
        }
      ]
    },
    {
      "cell_type": "markdown",
      "source": [
        "Random classifier"
      ],
      "metadata": {
        "id": "6pPI_3vjzOjX"
      }
    },
    {
      "cell_type": "code",
      "source": [
        "confusion_matrix_balanced_acc(y_true=y_test, y_preds=np.random.randint(low=0, high=2, size=y_test.shape))"
      ],
      "metadata": {
        "colab": {
          "base_uri": "https://localhost:8080/",
          "height": 282
        },
        "id": "YSE4An6WzH5-",
        "outputId": "08f6fe77-b1bc-4a48-d212-e52546af60d0"
      },
      "execution_count": null,
      "outputs": [
        {
          "output_type": "stream",
          "name": "stdout",
          "text": [
            "Balanced Accuracy Score: 0.4835748204066723\n"
          ]
        },
        {
          "output_type": "display_data",
          "data": {
            "text/plain": [
              "<Figure size 432x288 with 2 Axes>"
            ],
            "image/png": "[encoded data removed]"
          },
          "metadata": {
            "needs_background": "light"
          }
        }
      ]
    }
  ],
  "metadata": {
    "accelerator": "GPU",
    "colab": {
      "provenance": [],
      "machine_shape": "hm"
    },
    "gpuClass": "premium",
    "kernelspec": {
      "display_name": "Python 3",
      "name": "python3"
    },
    "language_info": {
      "name": "python"
    }
  },
  "nbformat": 4,
  "nbformat_minor": 0
}