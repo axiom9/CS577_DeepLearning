{
  "nbformat": 4,
  "nbformat_minor": 0,
  "metadata": {
    "colab": {
      "provenance": [],
      "collapsed_sections": []
    },
    "kernelspec": {
      "name": "python3",
      "display_name": "Python 3"
    },
    "language_info": {
      "name": "python"
    },
    "gpuClass": "standard"
  },
  "cells": [
    {
      "cell_type": "markdown",
      "source": [
        "## Imports"
      ],
      "metadata": {
        "id": "ERLmX0xZD14K"
      }
    },
    {
      "cell_type": "code",
      "execution_count": 1,
      "metadata": {
        "id": "P_4AY1_ODxbp"
      },
      "outputs": [],
      "source": [
        "import tensorflow as tf\n",
        "import os\n",
        "import random\n",
        "import shutil\n",
        "from keras.preprocessing.image import ImageDataGenerator\n",
        "from keras.models import Model, Sequential\n",
        "from keras.layers import Conv2D, MaxPool2D, Flatten, Dense, Input, Subtract, Lambda,concatenate\n",
        "from keras.optimizers import Adam, SGD\n",
        "from keras.regularizers import l2\n",
        "import keras.backend as K\n",
        "\n",
        "import tensorflow as tf\n",
        "\n",
        "import matplotlib.pyplot as plt\n",
        "import matplotlib.gridspec as gridspec\n",
        "import numpy as np\n",
        "from imutils import face_utils\n",
        "\n",
        "import imutils\n",
        "import dlib\n",
        "import cv2\n",
        "from google.colab.patches import cv2_imshow\n",
        "from collections import OrderedDict\n",
        "\n"
      ]
    },
    {
      "cell_type": "markdown",
      "source": [
        "## Data wrangling (setting up the train, test, val generators etc.)"
      ],
      "metadata": {
        "id": "q9P5i68aD2-U"
      }
    },
    {
      "cell_type": "markdown",
      "source": [
        "https://drive.google.com/file/d/1QGPPQQ7OxDKPfKssrLb4x7Ql7jvFWXLk/view?usp=share_link NOTE DOWNLOAD THIS FILE AS KAGGLE.json and put it in the current directory and run the following cell to download the original data"
      ],
      "metadata": {
        "id": "sd0cLl_nkdtj"
      }
    },
    {
      "cell_type": "code",
      "source": [
        "def get_data():\n",
        "    ! mkdir -p ~/.kaggle\n",
        "    ! cp ./kaggle.json ~/.kaggle/\n",
        "    ! chmod 600 ~/.kaggle/kaggle.json \n",
        "    import kaggle\n",
        "    \n",
        "    ! kaggle datasets download -d ciplab/real-and-fake-face-detection\n",
        "    try:\n",
        "        from zipfile import ZipFile\n",
        "    except ImportError:\n",
        "        return\n",
        "    \n",
        "    fname = \"/content/real-and-fake-face-detection.zip\"\n",
        "\n",
        "    with ZipFile(fname,'r') as zip:\n",
        "        zip.extractall()\n",
        "    \n",
        "    print('Done Extracting data')\n"
      ],
      "metadata": {
        "id": "TbZ6Zh6UD6n8"
      },
      "execution_count": 16,
      "outputs": []
    },
    {
      "cell_type": "code",
      "source": [
        "get_data()"
      ],
      "metadata": {
        "colab": {
          "base_uri": "https://localhost:8080/"
        },
        "id": "u6miuQVoKkbS",
        "outputId": "a3a22b1d-1efd-419c-bb63-4dfd55818355"
      },
      "execution_count": 17,
      "outputs": [
        {
          "output_type": "stream",
          "name": "stdout",
          "text": [
            "Warning: Your Kaggle API key is readable by other users on this system! To fix this, you can run 'chmod 600 /content/kaggle.json'\n",
            "Downloading real-and-fake-face-detection.zip to /content\n",
            " 99% 428M/431M [00:06<00:00, 90.5MB/s]\n",
            "100% 431M/431M [00:06<00:00, 69.4MB/s]\n",
            "Done Extracting data\n"
          ]
        }
      ]
    },
    {
      "cell_type": "code",
      "source": [
        "def train_test_val():\n",
        "    path='Data/'\n",
        "\n",
        "    #if files already exist, remove all the data in them\n",
        "    try:\n",
        "        os.mkdir('Data/')\n",
        "    except FileExistsError:\n",
        "        !rm 'Data/' -r\n",
        "    \n",
        "    !mkdir 'Data/'\n",
        "    !mkdir 'Data/Train/'\n",
        "    !mkdir 'Data/Train/Fake/'\n",
        "    !mkdir 'Data/Train/Real/'\n",
        "    !mkdir 'Data/Test/'\n",
        "    !mkdir 'Data/Test/Fake/'\n",
        "    !mkdir 'Data/Test/Real/'\n",
        "    !mkdir 'Data/Val/'\n",
        "    !mkdir 'Data/Val/Fake/'\n",
        "    !mkdir 'Data/Val/Real/'\n",
        "\n",
        "\n",
        "    # Now need to move files around\n",
        "    # We'll use a 70 15 15 split, 70% training data, 15% validation data, 15% testing data\n",
        "    \n",
        "    # Fake\n",
        "    src_fake = '/content/real_and_fake_face/training_fake/'\n",
        "    dst_train_fake = '/content/Data/Train/Fake/'\n",
        "    dst_test_fake = '/content/Data/Test/Fake/'\n",
        "    dst_val_fake = '/content/Data/Val/Fake/'\n",
        "\n",
        "    #so there are 960 total images that are fake, so 70% of that is 672\n",
        "    # 15% of 960 is 144\n",
        "    # So for list slicing our training fake data will be 0:672\n",
        "    # our test fake data will be 673:816\n",
        "    # and our val fake data will be 817:\n",
        "\n",
        "    fake_imgs = os.listdir(src_fake)\n",
        "    np.random.shuffle(fake_imgs)\n",
        "    \n",
        "    train_fake_imgs = fake_imgs[0:672] #70%\n",
        "    test_fake_imgs = fake_imgs[673:816] #~15%\n",
        "    val_fake_imgs = fake_imgs[817:] #~15%\n",
        "    \n",
        "    # Real\n",
        "    src_real = '/content/real_and_fake_face/training_real/'\n",
        "    dst_train_real = '/content/Data/Train/Real/'\n",
        "    dst_test_real = '/content/Data/Test/Real/'\n",
        "    dst_val_real = '/content/Data/Val/Real/'\n",
        "\n",
        "    # so there is 1081 real images in training_real folder. so 70% of that is 757\n",
        "    # 324 of that is reamining, and we split it equally (15% and 15%) meaning 162 and 162 will be\n",
        "    # for validation and test sets.\n",
        "    # 757 + 162 + 162 = 1081\n",
        "    # 0:756 will be train\n",
        "    # 757:919 will be val\n",
        "    # 919: will be test\n",
        "\n",
        "    real_imgs = os.listdir(src_real)\n",
        "    np.random.shuffle(real_imgs)\n",
        "\n",
        "    train_real_imgs = real_imgs[0:756] #70%\n",
        "    test_real_imgs = real_imgs[757:919] #15%\n",
        "    val_real_imgs = real_imgs[919:] #15%\n",
        "\n",
        "    # using shutil.move()\n",
        "    print('Moving real images...')\n",
        "    [shutil.move(src=os.path.join(src_real, file), dst=os.path.join(dst_train_real, file)) for file in train_real_imgs]\n",
        "    [shutil.move(src=os.path.join(src_real, file), dst=os.path.join(dst_test_real, file)) for file in test_real_imgs]\n",
        "    [shutil.move(src=os.path.join(src_real, file), dst=os.path.join(dst_val_real, file)) for file in val_real_imgs]\n",
        "    print('Done moving real imgs')\n",
        "\n",
        "    print('Moving fake imgs...')\n",
        "    [shutil.move(src=os.path.join(src_fake, file), dst=os.path.join(dst_train_fake, file)) for file in train_fake_imgs]\n",
        "    [shutil.move(src=os.path.join(src_fake, file), dst=os.path.join(dst_test_fake, file)) for file in test_fake_imgs]\n",
        "    [shutil.move(src=os.path.join(src_fake, file), dst=os.path.join(dst_val_fake, file)) for file in val_fake_imgs]\n",
        "    print('Done moving fake imgs')\n",
        "\n",
        "    print(f'Size of train fake dir: {len(os.listdir(dst_train_fake))}')\n",
        "    print(f'Size of test fake dir: {len(os.listdir(dst_test_fake))}')\n",
        "    print(f'Size of val fake dir: {len(os.listdir(dst_val_fake))}')\n",
        "    print(f'Size of train real dir: {len(os.listdir(dst_train_real))}')\n",
        "    print(f'Size of test real dir: {len(os.listdir(dst_test_real))}')\n",
        "    print(f'Size of val real dir: {len(os.listdir(dst_val_real))}')\n",
        "\n",
        "    # remove empty folder now\n",
        "    ! rm /content/real_and_fake_face -r"
      ],
      "metadata": {
        "id": "2xNvC68ydo5t"
      },
      "execution_count": 18,
      "outputs": []
    },
    {
      "cell_type": "code",
      "source": [
        "train_test_val()"
      ],
      "metadata": {
        "id": "0Rj_zydwdp9m",
        "colab": {
          "base_uri": "https://localhost:8080/"
        },
        "outputId": "ecec9b05-c926-444e-ff03-0f6ce3155a60"
      },
      "execution_count": 19,
      "outputs": [
        {
          "output_type": "stream",
          "name": "stdout",
          "text": [
            "mkdir: cannot create directory ‘Data/’: File exists\n",
            "Moving real images...\n",
            "Done moving real imgs\n",
            "Moving fake imgs...\n",
            "Done moving fake imgs\n",
            "Size of train fake dir: 672\n",
            "Size of test fake dir: 143\n",
            "Size of val fake dir: 143\n",
            "Size of train real dir: 756\n",
            "Size of test real dir: 162\n",
            "Size of val real dir: 162\n"
          ]
        }
      ]
    },
    {
      "cell_type": "code",
      "source": [
        "train_dir = '/content/Data/Train/'\n",
        "test_dir = '/content/Data/Test/'\n",
        "val_dir = '/content/Data/Val/'"
      ],
      "metadata": {
        "id": "WXpWeA0gdvw0"
      },
      "execution_count": 20,
      "outputs": []
    },
    {
      "cell_type": "markdown",
      "source": [
        "#### NOTE preprocessed data\n",
        "This cell needs the preprocessed.tar.gz file from the data.txt to be uploaded to the current directory. The preprocessed data has the resulting images after detecting the bounding boxes of left eye and right eye. This process takes a while to run so we created a compressed archive from which it could be loaded."
      ],
      "metadata": {
        "id": "BEGHgMAHm-ss"
      }
    },
    {
      "cell_type": "code",
      "source": [
        "# loading preprocessed data\n",
        "!gzip -d preprocessed.tar.gz && tar -xvf preprocessed.tar"
      ],
      "metadata": {
        "colab": {
          "base_uri": "https://localhost:8080/"
        },
        "id": "8x4W4jThat2f",
        "outputId": "cfcc513a-36b8-443c-a40d-bdaa42ff6ecc"
      },
      "execution_count": 21,
      "outputs": [
        {
          "output_type": "stream",
          "name": "stdout",
          "text": [
            "gzip: preprocessed.tar.gz: No such file or directory\n"
          ]
        }
      ]
    },
    {
      "cell_type": "code",
      "source": [
        "!mkdir -p detector_models && wget -P ./detector_models 'https://github.com/davisking/dlib-models/raw/master/shape_predictor_5_face_landmarks.dat.bz2' \n",
        "!bzip2 -d '/content/detector_models/shape_predictor_5_face_landmarks.dat.bz2'"
      ],
      "metadata": {
        "colab": {
          "base_uri": "https://localhost:8080/"
        },
        "id": "sz4JQJbCzd3C",
        "outputId": "b2cd6bc0-d5c7-41e0-dca7-a6ac8c67f3e1"
      },
      "execution_count": 8,
      "outputs": [
        {
          "output_type": "stream",
          "name": "stdout",
          "text": [
            "--2022-11-16 00:18:12--  https://github.com/davisking/dlib-models/raw/master/shape_predictor_5_face_landmarks.dat.bz2\n",
            "Resolving github.com (github.com)... 140.82.112.4\n",
            "Connecting to github.com (github.com)|140.82.112.4|:443... connected.\n",
            "HTTP request sent, awaiting response... 302 Found\n",
            "Location: https://raw.githubusercontent.com/davisking/dlib-models/master/shape_predictor_5_face_landmarks.dat.bz2 [following]\n",
            "--2022-11-16 00:18:12--  https://raw.githubusercontent.com/davisking/dlib-models/master/shape_predictor_5_face_landmarks.dat.bz2\n",
            "Resolving raw.githubusercontent.com (raw.githubusercontent.com)... 185.199.111.133, 185.199.108.133, 185.199.110.133, ...\n",
            "Connecting to raw.githubusercontent.com (raw.githubusercontent.com)|185.199.111.133|:443... connected.\n",
            "HTTP request sent, awaiting response... 200 OK\n",
            "Length: 5706710 (5.4M) [application/octet-stream]\n",
            "Saving to: ‘./detector_models/shape_predictor_5_face_landmarks.dat.bz2’\n",
            "\n",
            "shape_predictor_5_f 100%[===================>]   5.44M  --.-KB/s    in 0.08s   \n",
            "\n",
            "2022-11-16 00:18:13 (67.0 MB/s) - ‘./detector_models/shape_predictor_5_face_landmarks.dat.bz2’ saved [5706710/5706710]\n",
            "\n"
          ]
        }
      ]
    },
    {
      "cell_type": "code",
      "source": [
        "\n",
        "\n",
        "# returns the left eye and right eye of the image using opencv\n",
        "def preprocess(path:str,store_path:str):\n",
        "  img_name = os.path.basename(path).split('.')[0]\n",
        "  #detector = dlib.cnn_face_detection_model_v1('/content/detector_models/dlib_face_recognition_resnet_model_v1.dat')\n",
        "  detector = dlib.get_frontal_face_detector()\n",
        "  predictor = dlib.shape_predictor('/content/detector_models/shape_predictor_5_face_landmarks.dat')\n",
        "  # load the input image, resize it, and convert it to grayscale\n",
        "  image = cv2.imread(path)\n",
        "  image = imutils.resize(image, width=500)\n",
        "  rects = detector(image, 1)\n",
        "  if not len(rects)==1:\n",
        "    print(f\"{len(rects)} faces detected in {path} so skipping\")\n",
        "    return\n",
        "  top_right,bottom_left = (rects[0].right(),rects[0].top()),(rects[0].left(),rects[0].bottom())\n",
        "  cv2.rectangle(image,top_right,bottom_left,(255,0,0))\n",
        "  shape = predictor(image, rects[0])\n",
        "  shape = face_utils.shape_to_np(shape)\n",
        "  if not len(shape)==5:\n",
        "    print(f\"Insufficient landmarks detected in {path} so skipping\")\n",
        "    return\n",
        "  nose_point = shape[-1] # Contour point for bottom of nose\n",
        "  eye_box_height = nose_point[1]//8\n",
        "  right_eye_top_left = (shape[1][0],shape[1][1]+eye_box_height)\n",
        "  right_eye_bottom_right = (shape[0][0],shape[0][1]-eye_box_height)\n",
        "  cv2.rectangle(image,right_eye_top_left,right_eye_bottom_right,(255,0,0))\n",
        "  left_eye_top_left = (shape[2][0],shape[2][1]+eye_box_height)\n",
        "  left_eye_bottom_right = (shape[3][0],shape[3][1]-eye_box_height)\n",
        "  cv2.rectangle(image,left_eye_top_left,left_eye_bottom_right,(255,0,0))\n",
        "  left_eye_save = image[left_eye_bottom_right[1]:left_eye_top_left[1],left_eye_top_left[0]:left_eye_bottom_right[0]]\n",
        "  right_eye_save = image[right_eye_bottom_right[1]:right_eye_top_left[1],right_eye_top_left[0]:right_eye_bottom_right[0]]\n",
        "  left_eye_save = imutils.resize(left_eye_save,150,150)\n",
        "  right_eye_save = imutils.resize(right_eye_save,150,150)\n",
        "  cv2.imwrite(f\"{os.path.join(store_path,img_name)}_lefteye.jpg\",left_eye_save)\n",
        "  cv2.imwrite(f\"{os.path.join(store_path,img_name)}_righteye.jpg\",right_eye_save)"
      ],
      "metadata": {
        "id": "mh8hGLeo6GQf"
      },
      "execution_count": 22,
      "outputs": []
    },
    {
      "cell_type": "code",
      "source": [
        "#PREPROCESSES DATA INTO LEFT EYE AND RIGHT EYE\n",
        "def create_preprocess_lib():  \n",
        "  !cd './Data/' && find './' -type d -exec mkdir -p \"/content/data_preprocess/{}\" \\;\n",
        "  dirs = [train_dir,val_dir,test_dir]\n",
        "\n",
        "  preproc_path = \"/content/data_preprocess\"\n",
        "  for dir in dirs:\n",
        "    fake_dir = os.path.join(dir,'Fake')\n",
        "    real_dir = os.path.join(dir,'Real')\n",
        "\n",
        "    stored_fake_dir = os.path.join(preproc_path,*fake_dir.split('/')[3:])\n",
        "    stored_real_dir = os.path.join(preproc_path,*real_dir.split('/')[3:])\n",
        "    for f in os.listdir(fake_dir):\n",
        "      preprocess(os.path.join(fake_dir,f),stored_fake_dir)\n",
        "    for f in os.listdir(real_dir):\n",
        "      preprocess(os.path.join(real_dir,f),stored_real_dir)"
      ],
      "metadata": {
        "id": "sU6zD_cL4ma2"
      },
      "execution_count": 23,
      "outputs": []
    },
    {
      "cell_type": "code",
      "source": [
        "# GENERATES A METADATA DATAFRAME FOR THE DATA GENERATOR\n",
        "preproc_path = \"/content/data_preprocess\"\n",
        "def generate_df(dir:str):\n",
        "  dict = {'filename':[],\n",
        "        'left_eye':[],\n",
        "        'right_eye':[],\n",
        "        'label':[]\n",
        "       }\n",
        "  metadata_df = pd.DataFrame(dict)\n",
        "  fake_dir = os.path.join(dir,'Fake')\n",
        "  real_dir = os.path.join(dir,'Real')\n",
        "\n",
        "  stored_fake_dir = os.path.join(preproc_path,*fake_dir.split('/')[3:])\n",
        "  stored_real_dir = os.path.join(preproc_path,*real_dir.split('/')[3:])\n",
        "  for f in os.listdir(fake_dir):\n",
        "    base = f.split('.')[0]\n",
        "    left_eye = os.path.join(stored_fake_dir,f\"{base}_lefteye.jpg\")\n",
        "    if not os.path.exists(left_eye):\n",
        "      continue\n",
        "    right_eye = os.path.join(stored_fake_dir,f\"{base}_righteye.jpg\")\n",
        "    label = 0\n",
        "    df2 = {'filename':base,'left_eye':left_eye,'right_eye':right_eye,'label':label}\n",
        "    metadata_df = metadata_df.append(df2,ignore_index=True)\n",
        "  for f in os.listdir(real_dir):\n",
        "    base = f.split('.')[0]\n",
        "    left_eye = os.path.join(stored_real_dir,f\"{base}_lefteye.jpg\")\n",
        "    if not os.path.exists(left_eye):\n",
        "      continue\n",
        "    right_eye = os.path.join(stored_real_dir,f\"{base}_righteye.jpg\")\n",
        "    label = 1\n",
        "    df2 = {'filename':base,'left_eye':left_eye,'right_eye':right_eye,'label':label}\n",
        "    metadata_df = metadata_df.append(df2,ignore_index=True)\n",
        "  return metadata_df"
      ],
      "metadata": {
        "id": "eCz49Wn4-DV7"
      },
      "execution_count": 24,
      "outputs": []
    },
    {
      "cell_type": "markdown",
      "source": [
        "## Siamese Network"
      ],
      "metadata": {
        "id": "u1TcXdMUD9Wg"
      }
    },
    {
      "cell_type": "code",
      "source": [
        "# CREATING A metadata dataframe for the data\n",
        "import pandas as pd\n",
        "train_df = generate_df(train_dir)\n",
        "val_df = generate_df(val_dir)\n",
        "test_df = generate_df(test_dir)\n",
        "\n",
        "\n"
      ],
      "metadata": {
        "id": "cNk5zmVazHoG"
      },
      "execution_count": 25,
      "outputs": []
    },
    {
      "cell_type": "code",
      "source": [
        "class CustomDataGen(tf.keras.utils.Sequence):\n",
        "    \n",
        "    def __init__(self, df, X_col, y_col,\n",
        "                 batch_size,\n",
        "                 input_size=(66, 100, 3),\n",
        "                 shuffle=True):\n",
        "        \n",
        "        self.df = df.copy()\n",
        "        self.X_col = X_col\n",
        "        self.y_col = y_col\n",
        "        self.batch_size = batch_size\n",
        "        self.input_size = input_size\n",
        "        self.shuffle = shuffle\n",
        "        \n",
        "        self.n = len(self.df)\n",
        "        self.n_type = df[y_col['label']].nunique()\n",
        "    \n",
        "    def on_epoch_end(self):\n",
        "        if self.shuffle:\n",
        "            self.df = self.df.sample(frac=1).reset_index(drop=True)\n",
        "    \n",
        "    def __get_input(self, path, target_size):\n",
        "\n",
        "        image = tf.keras.preprocessing.image.load_img(path)\n",
        "        image_arr = tf.keras.preprocessing.image.img_to_array(image)\n",
        "        image_arr = tf.image.resize(image_arr,(target_size[0], target_size[1])).numpy()\n",
        "\n",
        "        return image_arr/255.\n",
        "    \n",
        "    def __get_output(self, label, num_classes):\n",
        "        return tf.keras.utils.to_categorical(label, num_classes=num_classes)\n",
        "    \n",
        "    def __get_data(self, batches):\n",
        "        # Generates data containing batch_size samples\n",
        "\n",
        "        left_eye_batch = batches[self.X_col['left_eye']]\n",
        "        right_eye_batch = batches[self.X_col['right_eye']]\n",
        "\n",
        "\n",
        "        label_batch = batches[self.y_col['label']]\n",
        "\n",
        "        XL_batch = np.asarray([self.__get_input(x,self.input_size) for x in left_eye_batch])\n",
        "        XR_batch = np.asarray([self.__get_input(x,self.input_size) for x in right_eye_batch])\n",
        "        y_batch = np.asarray([self.__get_output(y, self.n_type) for y in label_batch])\n",
        "\n",
        "        return tuple([XL_batch,XR_batch]),y_batch\n",
        "    \n",
        "    def __getitem__(self, index):\n",
        "        \n",
        "        batches = self.df[index * self.batch_size:(index + 1) * self.batch_size]\n",
        "        X, y = self.__get_data(batches)        \n",
        "        return X, y\n",
        "    \n",
        "    def __len__(self):\n",
        "        return (self.n // self.batch_size)+1"
      ],
      "metadata": {
        "id": "N-p4MPuII4D1"
      },
      "execution_count": 26,
      "outputs": []
    },
    {
      "cell_type": "code",
      "source": [
        "train_gen = CustomDataGen(\n",
        "    df=train_df,\n",
        "    X_col={'left_eye':'left_eye', 'right_eye': 'right_eye'},\n",
        "    y_col={'label':'label'},\n",
        "    batch_size = 16,\n",
        "    input_size = (66,100,3)\n",
        ")\n",
        "\n",
        "val_gen = CustomDataGen(\n",
        "    df=val_df,\n",
        "    X_col={'left_eye':'left_eye', 'right_eye': 'right_eye'},\n",
        "    y_col={'label':'label'},\n",
        "    batch_size = 16,\n",
        "    input_size = (66,100,3)\n",
        ")\n",
        "\n",
        "test_gen = CustomDataGen(\n",
        " df = test_df,\n",
        " X_col={'left_eye':'left_eye', 'right_eye': 'right_eye'},\n",
        " y_col={'label':'label'},\n",
        " batch_size = 16,\n",
        " input_size = (66,100,3),\n",
        " shuffle=False\n",
        ")"
      ],
      "metadata": {
        "id": "Xt82bOMrL2YW"
      },
      "execution_count": 27,
      "outputs": []
    },
    {
      "cell_type": "code",
      "source": [
        "input_shape = (66,100,3)\n",
        "learning_rate = 0.0001\n",
        "siamese_net = Sequential()\n",
        "siamese_net.add(Conv2D(filters=64, kernel_size=(10, 10),\n",
        "                              activation='relu',\n",
        "                              input_shape=input_shape,\n",
        "                              name='Conv1'))\n",
        "siamese_net.add(MaxPool2D())\n",
        "\n",
        "siamese_net.add(Conv2D(filters=128, kernel_size=(7, 7),\n",
        "                              activation='relu',\n",
        "                              name='Conv2'))\n",
        "siamese_net.add(MaxPool2D())\n",
        "\n",
        "siamese_net.add(Conv2D(filters=128, kernel_size=(4, 4),\n",
        "                              activation='relu',\n",
        "                              name='Conv3'))\n",
        "siamese_net.add(MaxPool2D())\n",
        "\n",
        "siamese_net.add(Conv2D(filters=256, kernel_size=(4, 4),\n",
        "                              activation='relu',\n",
        "                              kernel_regularizer=l2(\n",
        "                                  1e-4),\n",
        "                              name='Conv4'))\n",
        "\n",
        "siamese_net.add(Flatten())\n",
        "siamese_net.add(\n",
        "    Dense(units=2048, activation='relu',\n",
        "          name='Dense1'))\n",
        "\n",
        "# Now the pairs of images\n",
        "input_image_1 = Input(input_shape)\n",
        "input_image_2 = Input(input_shape)\n",
        "\n",
        "encoded_image_1 = siamese_net(input_image_1)\n",
        "encoded_image_2 = siamese_net(input_image_2)\n",
        "\n",
        "# # L1 distance layer between the two encoded outputs\n",
        "# # One could use Subtract from Keras, but we want the absolute value\n",
        "\n",
        "l1_distance_layer = Lambda(\n",
        "    lambda tensors: K.abs(tensors[0] - tensors[1]))\n",
        "l1_distance = l1_distance_layer([encoded_image_1, encoded_image_2])\n",
        "\n",
        "concated = concatenate([encoded_image_1,encoded_image_2,l1_distance])\n",
        "out_1 = Flatten()(concated)\n",
        "output_layer = Dense(units=2,activation=\"softmax\")(out_1)\n",
        "\n",
        "\n",
        "\n",
        "# Same class or not prediction\n",
        "#prediction = Dense(units=1, activation='sigmoid')(l1_distance)\n",
        "\n",
        "\n",
        "\n",
        "\n",
        "siamese_model = Model(\n",
        "    inputs=[input_image_1, input_image_2], outputs=output_layer)\n",
        "\n",
        "# Define the optimizer and compile the model\n",
        "optimizer = Adam(\n",
        "    learning_rate=learning_rate)  \n",
        "\n",
        "siamese_model.compile(loss='categorical_crossentropy', metrics=['accuracy'],\n",
        "                    optimizer=optimizer)\n"
      ],
      "metadata": {
        "id": "jCAdkyEOD-HA"
      },
      "execution_count": 14,
      "outputs": []
    },
    {
      "cell_type": "code",
      "source": [
        "siamese_model.summary()"
      ],
      "metadata": {
        "id": "XCconRcvH08o",
        "colab": {
          "base_uri": "https://localhost:8080/"
        },
        "outputId": "6087a043-7d94-4fa7-ae41-0972bee3438d"
      },
      "execution_count": 41,
      "outputs": [
        {
          "output_type": "stream",
          "name": "stdout",
          "text": [
            "Model: \"model\"\n",
            "__________________________________________________________________________________________________\n",
            " Layer (type)                   Output Shape         Param #     Connected to                     \n",
            "==================================================================================================\n",
            " input_1 (InputLayer)           [(None, 66, 100, 3)  0           []                               \n",
            "                                ]                                                                 \n",
            "                                                                                                  \n",
            " input_2 (InputLayer)           [(None, 66, 100, 3)  0           []                               \n",
            "                                ]                                                                 \n",
            "                                                                                                  \n",
            " sequential (Sequential)        (None, 2048)         3831104     ['input_1[0][0]',                \n",
            "                                                                  'input_2[0][0]']                \n",
            "                                                                                                  \n",
            " lambda (Lambda)                (None, 2048)         0           ['sequential[0][0]',             \n",
            "                                                                  'sequential[1][0]']             \n",
            "                                                                                                  \n",
            " concatenate (Concatenate)      (None, 6144)         0           ['sequential[0][0]',             \n",
            "                                                                  'sequential[1][0]',             \n",
            "                                                                  'lambda[0][0]']                 \n",
            "                                                                                                  \n",
            " flatten_1 (Flatten)            (None, 6144)         0           ['concatenate[0][0]']            \n",
            "                                                                                                  \n",
            " dense (Dense)                  (None, 2)            12290       ['flatten_1[0][0]']              \n",
            "                                                                                                  \n",
            "==================================================================================================\n",
            "Total params: 3,843,394\n",
            "Trainable params: 3,843,394\n",
            "Non-trainable params: 0\n",
            "__________________________________________________________________________________________________\n"
          ]
        }
      ]
    },
    {
      "cell_type": "markdown",
      "source": [
        "#### NOTE LOAD MODEL FROM CHECKPOINT FOLDER GIVEN IN MODELS.TXT"
      ],
      "metadata": {
        "id": "LEZ-4tU1nlOH"
      }
    },
    {
      "cell_type": "code",
      "source": [
        "#load weights from saved model\n",
        "siamese_model.load_weights('./siamese_model/')"
      ],
      "metadata": {
        "colab": {
          "base_uri": "https://localhost:8080/"
        },
        "id": "_cxuZmza36e3",
        "outputId": "26079217-37ba-42d7-fefd-2fdccc9d445d"
      },
      "execution_count": 21,
      "outputs": [
        {
          "output_type": "execute_result",
          "data": {
            "text/plain": [
              "<tensorflow.python.training.tracking.util.CheckpointLoadStatus at 0x7f99d7a93a10>"
            ]
          },
          "metadata": {},
          "execution_count": 21
        }
      ]
    },
    {
      "cell_type": "code",
      "source": [
        "# IN CASE you want to train the model\n",
        "result=siamese_model.fit(\n",
        "    train_gen,\n",
        "    validation_data=val_gen,\n",
        "    epochs=10\n",
        ")"
      ],
      "metadata": {
        "colab": {
          "base_uri": "https://localhost:8080/"
        },
        "id": "i7wOkm0nV_EF",
        "outputId": "721941b1-ed64-4f65-8239-4223de9d15bd"
      },
      "execution_count": 16,
      "outputs": [
        {
          "output_type": "stream",
          "name": "stdout",
          "text": [
            "Epoch 1/10\n",
            "60/60 [==============================] - 13s 74ms/step - loss: 0.7230 - accuracy: 0.4607 - val_loss: 0.7076 - val_accuracy: 0.4878\n",
            "Epoch 2/10\n",
            "60/60 [==============================] - 4s 68ms/step - loss: 0.7062 - accuracy: 0.5310 - val_loss: 0.7052 - val_accuracy: 0.5122\n",
            "Epoch 3/10\n",
            "60/60 [==============================] - 4s 67ms/step - loss: 0.7045 - accuracy: 0.5215 - val_loss: 0.7036 - val_accuracy: 0.4878\n",
            "Epoch 4/10\n",
            "60/60 [==============================] - 4s 70ms/step - loss: 0.7026 - accuracy: 0.5310 - val_loss: 0.7030 - val_accuracy: 0.4878\n",
            "Epoch 5/10\n",
            "60/60 [==============================] - 4s 74ms/step - loss: 0.6942 - accuracy: 0.5498 - val_loss: 0.7027 - val_accuracy: 0.6098\n",
            "Epoch 6/10\n",
            "60/60 [==============================] - 4s 70ms/step - loss: 0.6762 - accuracy: 0.5876 - val_loss: 0.7035 - val_accuracy: 0.5854\n",
            "Epoch 7/10\n",
            "60/60 [==============================] - 4s 71ms/step - loss: 0.6574 - accuracy: 0.6044 - val_loss: 0.7835 - val_accuracy: 0.5122\n",
            "Epoch 8/10\n",
            "60/60 [==============================] - 4s 71ms/step - loss: 0.6379 - accuracy: 0.6348 - val_loss: 0.7427 - val_accuracy: 0.6098\n",
            "Epoch 9/10\n",
            "60/60 [==============================] - 6s 103ms/step - loss: 0.6148 - accuracy: 0.6590 - val_loss: 0.8630 - val_accuracy: 0.5122\n",
            "Epoch 10/10\n",
            "60/60 [==============================] - 4s 67ms/step - loss: 0.5808 - accuracy: 0.6925 - val_loss: 0.7932 - val_accuracy: 0.4878\n"
          ]
        }
      ]
    },
    {
      "cell_type": "code",
      "source": [
        "plt.clf()\n",
        "plt.figure(num=None, figsize=(8, 6), dpi=120, facecolor='w', edgecolor='k')\n",
        "loss = result.history['loss']\n",
        "val_loss = result.history['val_loss']\n",
        "epochs = range(1,len(loss)+1)\n",
        "plt.plot(epochs,loss,'bo',label='Training loss') # blue dots\n",
        "plt.plot(epochs,val_loss,'b',label='Validation loss') # blue line\n",
        "plt.title(\"Training and validation loss\")\n",
        "plt.xlabel('Epochs')\n",
        "plt.ylabel('Loss')\n",
        "plt.legend()\n",
        "plt.show()\n",
        "\n",
        "# plot the training and validation accuracy\n",
        "plt.clf()\n",
        "plt.figure(num=None, figsize=(8, 6), dpi=120, facecolor='w', edgecolor='k') \n",
        "acc_values = result.history['accuracy']\n",
        "val_acc_values = result.history['val_accuracy']\n",
        "plt.plot(epochs,acc_values,'bo',label='Training accuracy')\n",
        "plt.plot(epochs,val_acc_values,'b',label='Validation accuracy')\n",
        "plt.title('Training and validation accuracy')\n",
        "plt.xlabel('Epochs')\n",
        "plt.ylabel('Accuracy')\n",
        "plt.legend()\n",
        "plt.show()"
      ],
      "metadata": {
        "colab": {
          "base_uri": "https://localhost:8080/",
          "height": 1000
        },
        "id": "-6AHoANkksty",
        "outputId": "6107baf8-43c8-4856-e49b-1c69819df22d"
      },
      "execution_count": 17,
      "outputs": [
        {
          "output_type": "display_data",
          "data": {
            "text/plain": [
              "<Figure size 432x288 with 0 Axes>"
            ]
          },
          "metadata": {}
        },
        {
          "output_type": "display_data",
          "data": {
            "text/plain": [
              "<Figure size 960x720 with 1 Axes>"
            ],
            "image/png": "[encoded data removed]"
          },
          "metadata": {}
        },
        {
          "output_type": "display_data",
          "data": {
            "text/plain": [
              "<Figure size 432x288 with 0 Axes>"
            ]
          },
          "metadata": {}
        },
        {
          "output_type": "display_data",
          "data": {
            "text/plain": [
              "<Figure size 960x720 with 1 Axes>"
            ],
            "image/png": "[encoded data removed]"
          },
          "metadata": {}
        }
      ]
    },
    {
      "cell_type": "code",
      "source": [
        "siamese_model.evaluate_generator(test_gen)"
      ],
      "metadata": {
        "colab": {
          "base_uri": "https://localhost:8080/"
        },
        "id": "C9_lS5risTNj",
        "outputId": "2340af98-3aa1-4bf1-de58-9a23e457eed7"
      },
      "execution_count": 22,
      "outputs": [
        {
          "output_type": "stream",
          "name": "stderr",
          "text": [
            "/usr/local/lib/python3.7/dist-packages/ipykernel_launcher.py:1: UserWarning: `Model.evaluate_generator` is deprecated and will be removed in a future version. Please use `Model.evaluate`, which supports generators.\n",
            "  \"\"\"Entry point for launching an IPython kernel.\n"
          ]
        },
        {
          "output_type": "execute_result",
          "data": {
            "text/plain": [
              "[0.7340672612190247, 0.557692289352417]"
            ]
          },
          "metadata": {},
          "execution_count": 22
        }
      ]
    },
    {
      "cell_type": "code",
      "source": [
        "y_preds = siamese_model.predict(test_gen)"
      ],
      "metadata": {
        "colab": {
          "base_uri": "https://localhost:8080/"
        },
        "id": "qMpv8JQWc69h",
        "outputId": "b795cb4c-c2c7-413d-b831-9706adb44671"
      },
      "execution_count": 28,
      "outputs": [
        {
          "output_type": "stream",
          "name": "stdout",
          "text": [
            "4/4 [==============================] - 0s 39ms/step\n"
          ]
        }
      ]
    },
    {
      "cell_type": "code",
      "source": [
        "y_true = test_df['label']"
      ],
      "metadata": {
        "id": "5hSD6AgkCB_B"
      },
      "execution_count": 29,
      "outputs": []
    },
    {
      "cell_type": "code",
      "source": [
        "y_preds=np.argmax(y_preds,axis=1)"
      ],
      "metadata": {
        "id": "AkyFUgPxCQBG"
      },
      "execution_count": 35,
      "outputs": []
    },
    {
      "cell_type": "code",
      "source": [
        "import sklearn.metrics as sm\n",
        "import seaborn as sns\n",
        "def confusion_matrix_balanced_acc(y_true, y_preds):\n",
        "  cnfmtrx = sm.confusion_matrix(y_true=y_true, y_pred=y_preds)\n",
        "  group_names = ['True Neg','False Pos','False Neg','True Pos']\n",
        "  group_counts = ['{0:0.0f}'.format(value) for value in\n",
        "                  cnfmtrx.flatten()]\n",
        "  group_percentages = ['{0:.2%}'.format(value) for value in\n",
        "                      cnfmtrx.flatten()/np.sum(cnfmtrx)]\n",
        "  labels = [f'{v1}\\n{v2}\\n{v3}' for v1, v2, v3 in\n",
        "            zip(group_names,group_counts,group_percentages)]\n",
        "  labels = np.asarray(labels).reshape(2,2)\n",
        "  sns.heatmap(cnfmtrx, annot=labels, fmt='', cmap='Blues')\n",
        "\n",
        "  print(f'Balanced Accuracy Score: {sm.balanced_accuracy_score(y_true, y_preds)}')\n",
        "\n",
        "confusion_matrix_balanced_acc(y_true,y_preds)"
      ],
      "metadata": {
        "colab": {
          "base_uri": "https://localhost:8080/",
          "height": 286
        },
        "id": "2tGrc1I6b35O",
        "outputId": "9df9b5b4-e339-43b3-9505-b2a8a0058175"
      },
      "execution_count": 36,
      "outputs": [
        {
          "output_type": "stream",
          "name": "stdout",
          "text": [
            "Balanced Accuracy Score: 0.5565476190476191\n"
          ]
        },
        {
          "output_type": "display_data",
          "data": {
            "text/plain": [
              "<Figure size 432x288 with 2 Axes>"
            ],
            "image/png": "[encoded data removed]"
          },
          "metadata": {
            "needs_background": "light"
          }
        }
      ]
    }
  ]
}