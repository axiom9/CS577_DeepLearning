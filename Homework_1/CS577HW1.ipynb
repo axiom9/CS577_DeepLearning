{
 "cells": [
  {
   "cell_type": "markdown",
   "metadata": {},
   "source": [
    "# CS 577 Homework 1\n",
    "#### Anas Puthawala"
   ]
  },
  {
   "cell_type": "code",
   "execution_count": 348,
   "metadata": {},
   "outputs": [],
   "source": [
    "import numpy as np\n",
    "import scipy\n",
    "import sympy"
   ]
  },
  {
   "cell_type": "markdown",
   "metadata": {},
   "source": [
    "## Part A"
   ]
  },
  {
   "cell_type": "code",
   "execution_count": 358,
   "metadata": {},
   "outputs": [],
   "source": [
    "A = np.array([1,2,3])\n",
    "A = np.reshape(A, newshape=(3,1))\n",
    "\n",
    "B = np.reshape(np.array([4,5,6]), newshape=(3,1))\n",
    "\n",
    "C = np.reshape(np.array([-1, 1, 3]), newshape=(3,1))"
   ]
  },
  {
   "cell_type": "code",
   "execution_count": 359,
   "metadata": {},
   "outputs": [
    {
     "data": {
      "text/plain": [
       "array([[1],\n",
       "       [2],\n",
       "       [3]])"
      ]
     },
     "execution_count": 359,
     "metadata": {},
     "output_type": "execute_result"
    }
   ],
   "source": [
    "A"
   ]
  },
  {
   "cell_type": "code",
   "execution_count": 360,
   "metadata": {},
   "outputs": [
    {
     "data": {
      "text/plain": [
       "array([[4],\n",
       "       [5],\n",
       "       [6]])"
      ]
     },
     "execution_count": 360,
     "metadata": {},
     "output_type": "execute_result"
    }
   ],
   "source": [
    "B"
   ]
  },
  {
   "cell_type": "code",
   "execution_count": 361,
   "metadata": {},
   "outputs": [
    {
     "data": {
      "text/plain": [
       "array([[-1],\n",
       "       [ 1],\n",
       "       [ 3]])"
      ]
     },
     "execution_count": 361,
     "metadata": {},
     "output_type": "execute_result"
    }
   ],
   "source": [
    "C"
   ]
  },
  {
   "cell_type": "markdown",
   "metadata": {},
   "source": [
    "1."
   ]
  },
  {
   "cell_type": "code",
   "execution_count": 362,
   "metadata": {},
   "outputs": [
    {
     "data": {
      "text/plain": [
       "array([[-2],\n",
       "       [-1],\n",
       "       [ 0]])"
      ]
     },
     "execution_count": 362,
     "metadata": {},
     "output_type": "execute_result"
    }
   ],
   "source": [
    "2*A - B"
   ]
  },
  {
   "cell_type": "markdown",
   "metadata": {},
   "source": [
    "2."
   ]
  },
  {
   "cell_type": "code",
   "execution_count": 363,
   "metadata": {},
   "outputs": [
    {
     "name": "stdout",
     "output_type": "stream",
     "text": [
      "A_hat:\n",
      "[[0.26726124]\n",
      " [0.53452248]\n",
      " [0.80178373]]\n"
     ]
    }
   ],
   "source": [
    "A_hat = A / np.linalg.norm(A)\n",
    "print(f'A_hat:\\n{A_hat}')"
   ]
  },
  {
   "cell_type": "markdown",
   "metadata": {},
   "source": [
    "3."
   ]
  },
  {
   "cell_type": "code",
   "execution_count": 364,
   "metadata": {},
   "outputs": [
    {
     "data": {
      "text/plain": [
       "3.7416573867739413"
      ]
     },
     "execution_count": 364,
     "metadata": {},
     "output_type": "execute_result"
    }
   ],
   "source": [
    "np.linalg.norm(A)"
   ]
  },
  {
   "cell_type": "markdown",
   "metadata": {},
   "source": [
    "4."
   ]
  },
  {
   "cell_type": "code",
   "execution_count": 365,
   "metadata": {},
   "outputs": [
    {
     "name": "stdout",
     "output_type": "stream",
     "text": [
      "Directions cosines for A: (array([0.26726124]), array([0.53452248]), array([0.80178373]))\n"
     ]
    }
   ],
   "source": [
    "a_1 = A[0] / np.linalg.norm(A)\n",
    "a_2 = A[1] / np.linalg.norm(A)\n",
    "a_3 = A[2] / np.linalg.norm(A)\n",
    "\n",
    "print(f'Directions cosines for A: {a_1, a_2, a_3}')"
   ]
  },
  {
   "cell_type": "markdown",
   "metadata": {},
   "source": [
    "5."
   ]
  },
  {
   "cell_type": "code",
   "execution_count": 366,
   "metadata": {},
   "outputs": [
    {
     "data": {
      "text/plain": [
       "8.774964387392123"
      ]
     },
     "execution_count": 366,
     "metadata": {},
     "output_type": "execute_result"
    }
   ],
   "source": [
    "np.linalg.norm(B)"
   ]
  },
  {
   "cell_type": "code",
   "execution_count": 367,
   "metadata": {},
   "outputs": [
    {
     "name": "stdout",
     "output_type": "stream",
     "text": [
      "Angle between A and B in degrees: 12.933154491899135\n"
     ]
    }
   ],
   "source": [
    "dot = np.sum(A*B)\n",
    "norms = np.linalg.norm(A) * np.linalg.norm(B)\n",
    "\n",
    "print(f'Angle between A and B in degrees: {np.rad2deg(np.arccos(np.clip(dot/norms, -1, 1)))}')"
   ]
  },
  {
   "cell_type": "markdown",
   "metadata": {},
   "source": [
    "6."
   ]
  },
  {
   "cell_type": "code",
   "execution_count": 368,
   "metadata": {},
   "outputs": [
    {
     "name": "stdout",
     "output_type": "stream",
     "text": [
      "A•B: 32\n",
      "B•A: 32\n"
     ]
    }
   ],
   "source": [
    "print(f'A•B: {np.dot(np.squeeze(A), np.squeeze(B))}\\nB•A: {np.dot(np.squeeze(B), np.squeeze(A))}')"
   ]
  },
  {
   "cell_type": "markdown",
   "metadata": {},
   "source": [
    "7."
   ]
  },
  {
   "cell_type": "code",
   "execution_count": 369,
   "metadata": {},
   "outputs": [
    {
     "name": "stdout",
     "output_type": "stream",
     "text": [
      "A•B using angle between A and B: 32.0\n"
     ]
    }
   ],
   "source": [
    "costheta = dot/norms # from up above\n",
    "print(f'A•B using angle between A and B: {np.linalg.norm(A) * np.linalg.norm(B) * costheta}')"
   ]
  },
  {
   "cell_type": "markdown",
   "metadata": {},
   "source": [
    "8."
   ]
  },
  {
   "cell_type": "code",
   "execution_count": 370,
   "metadata": {},
   "outputs": [
    {
     "data": {
      "text/plain": [
       "8.55235974119758"
      ]
     },
     "execution_count": 370,
     "metadata": {},
     "output_type": "execute_result"
    }
   ],
   "source": [
    "np.dot(np.squeeze(B), np.squeeze(A_hat)) / np.linalg.norm(A_hat)"
   ]
  },
  {
   "cell_type": "markdown",
   "metadata": {},
   "source": [
    "9."
   ]
  },
  {
   "cell_type": "code",
   "execution_count": 371,
   "metadata": {},
   "outputs": [
    {
     "name": "stdout",
     "output_type": "stream",
     "text": [
      "[ 0  3 -2]\n"
     ]
    },
    {
     "data": {
      "text/plain": [
       "True"
      ]
     },
     "execution_count": 371,
     "metadata": {},
     "output_type": "execute_result"
    }
   ],
   "source": [
    "# To find a perpeinduclar vector just take the cross product\n",
    "perp_vect = np.cross(np.squeeze(A), [1,0,0])\n",
    "print(perp_vect)\n",
    "\n",
    "#We can check and ensure it's perpendicular by taking the dot product\n",
    "np.dot(np.squeeze(A), perp_vect)==0"
   ]
  },
  {
   "cell_type": "markdown",
   "metadata": {},
   "source": [
    "10."
   ]
  },
  {
   "cell_type": "code",
   "execution_count": 372,
   "metadata": {},
   "outputs": [
    {
     "name": "stdout",
     "output_type": "stream",
     "text": [
      "AxB: [-3  6 -3]\n",
      "BxA: [ 3 -6  3]\n"
     ]
    }
   ],
   "source": [
    "print(f'AxB: {np.cross(np.squeeze(A), np.squeeze(B))}\\nBxA: {np.cross(np.squeeze(B), np.squeeze(A))}')"
   ]
  },
  {
   "cell_type": "markdown",
   "metadata": {},
   "source": [
    "11."
   ]
  },
  {
   "cell_type": "code",
   "execution_count": 373,
   "metadata": {},
   "outputs": [
    {
     "name": "stdout",
     "output_type": "stream",
     "text": [
      "[-3  6 -3]\n"
     ]
    },
    {
     "data": {
      "text/plain": [
       "[True, True]"
      ]
     },
     "execution_count": 373,
     "metadata": {},
     "output_type": "execute_result"
    }
   ],
   "source": [
    "# To find a vector that is perpendicular to both A and B we must\n",
    "# Take the cross product of of Vectors A and B. The vector returned will be\n",
    "# perpendicular to both A and B\n",
    "perp_vector_AB = np.cross(np.squeeze(A), np.squeeze(B))\n",
    "print(perp_vector_AB)\n",
    "\n",
    "#Verify that this is indeed perpendicular to both A and B by taking the dot products\n",
    "[np.dot(np.squeeze(A), perp_vector_AB)==0,\n",
    "np.dot(np.squeeze(B), perp_vector_AB)==0]"
   ]
  },
  {
   "cell_type": "markdown",
   "metadata": {},
   "source": [
    "12."
   ]
  },
  {
   "cell_type": "code",
   "execution_count": 374,
   "metadata": {},
   "outputs": [
    {
     "name": "stdout",
     "output_type": "stream",
     "text": [
      "Indices of pivot columns: (0, 1)\n",
      "Linearly dependent columns: \n",
      "[[1 4]\n",
      " [2 5]\n",
      " [3 6]]\n"
     ]
    }
   ],
   "source": [
    "combined_matrix = np.array(([1,2,3],[4,5,6],[-1,1,3])).T\n",
    "_, indexes = sympy.Matrix(combined_matrix).rref()\n",
    "print(f'Indices of pivot columns: {indexes}')\n",
    "print(f'Linearly dependent columns: \\n{combined_matrix[:,indexes]}')\n"
   ]
  },
  {
   "cell_type": "markdown",
   "metadata": {},
   "source": [
    "A and B are linearly dependent (as they're pivot columns), C is linearly independent."
   ]
  },
  {
   "cell_type": "markdown",
   "metadata": {},
   "source": [
    "13."
   ]
  },
  {
   "cell_type": "code",
   "execution_count": 375,
   "metadata": {},
   "outputs": [
    {
     "name": "stdout",
     "output_type": "stream",
     "text": [
      "ATb = 32\n",
      "AbT = \n",
      "[[ 4  5  6]\n",
      " [ 8 10 12]\n",
      " [12 15 18]]\n"
     ]
    }
   ],
   "source": [
    "print(f'ATb = {np.matmul(np.squeeze(A.T), np.squeeze(B))}')\n",
    "\n",
    "#abT:\n",
    "print(f'AbT = \\n{np.matmul(A, B.T)}')"
   ]
  },
  {
   "cell_type": "markdown",
   "metadata": {},
   "source": [
    "## Part B"
   ]
  },
  {
   "cell_type": "code",
   "execution_count": 376,
   "metadata": {},
   "outputs": [
    {
     "name": "stdout",
     "output_type": "stream",
     "text": [
      "A: [[ 1  2  3]\n",
      " [ 4 -2  3]\n",
      " [ 0  5 -1]]\n",
      "Shape: (3, 3)\n",
      "\n",
      "B: [[ 1  2  1]\n",
      " [ 2  1 -4]\n",
      " [ 3 -2  1]]\n",
      "Shape: (3, 3)\n",
      "\n",
      "C: [[ 1  2  3]\n",
      " [ 4  5  6]\n",
      " [-1  1  3]]\n",
      "Shape: (3, 3)\n",
      "\n",
      "D: [1 2 3]\n",
      "Shape: (3,)\n",
      "\n"
     ]
    }
   ],
   "source": [
    "A = np.array(([1,2,3], [4,-2,3], [0,5,-1]))\n",
    "B = np.array(([1,2,1], [2,1,-4], [3,-2,1]))\n",
    "C = np.array(([1,2,3], [4,5,6], [-1,1,3]))\n",
    "D = np.array(([1,2,3]))\n",
    "print(f'A: {A}\\nShape: {np.shape(A)}\\n')\n",
    "print(f'B: {B}\\nShape: {np.shape(B)}\\n')\n",
    "print(f'C: {C}\\nShape: {np.shape(C)}\\n')\n",
    "print(f'D: {D}\\nShape: {np.shape(D)}\\n')"
   ]
  },
  {
   "cell_type": "markdown",
   "metadata": {},
   "source": [
    "1."
   ]
  },
  {
   "cell_type": "code",
   "execution_count": 377,
   "metadata": {},
   "outputs": [
    {
     "data": {
      "text/plain": [
       "array([[ 1,  2,  5],\n",
       "       [ 6, -5, 10],\n",
       "       [-3, 12, -3]])"
      ]
     },
     "execution_count": 377,
     "metadata": {},
     "output_type": "execute_result"
    }
   ],
   "source": [
    "2*A - B"
   ]
  },
  {
   "cell_type": "markdown",
   "metadata": {},
   "source": [
    "2."
   ]
  },
  {
   "cell_type": "code",
   "execution_count": 378,
   "metadata": {},
   "outputs": [
    {
     "name": "stdout",
     "output_type": "stream",
     "text": [
      "AB: [[ 14  -2  -4]\n",
      " [  9   0  15]\n",
      " [  7   7 -21]]\n",
      "\n",
      "BA: [[  9   3   8]\n",
      " [  6 -18  13]\n",
      " [ -5  15   2]]\n"
     ]
    }
   ],
   "source": [
    "print(f'AB: {np.matmul(A,B)}\\n')\n",
    "print(f'BA: {np.matmul(B,A)}')\n"
   ]
  },
  {
   "cell_type": "markdown",
   "metadata": {},
   "source": [
    "3."
   ]
  },
  {
   "cell_type": "code",
   "execution_count": 379,
   "metadata": {},
   "outputs": [
    {
     "name": "stdout",
     "output_type": "stream",
     "text": [
      "(AB)T: [[ 14   9   7]\n",
      " [ -2   0   7]\n",
      " [ -4  15 -21]]\n",
      "\n",
      "BTAT: [[ 14   9   7]\n",
      " [ -2   0   7]\n",
      " [ -4  15 -21]]\n"
     ]
    }
   ],
   "source": [
    "print(f'(AB)T: {np.matmul(A,B).T}\\n')\n",
    "print(f'BTAT: {np.matmul(B.T, A.T)}')"
   ]
  },
  {
   "cell_type": "markdown",
   "metadata": {},
   "source": [
    "4."
   ]
  },
  {
   "cell_type": "code",
   "execution_count": 380,
   "metadata": {},
   "outputs": [
    {
     "name": "stdout",
     "output_type": "stream",
     "text": [
      "|A|: 54.999999999999964\n",
      "|C|: 0.0\n"
     ]
    }
   ],
   "source": [
    "print(f'|A|: {np.linalg.det(A)}')\n",
    "print(f'|C|: {np.linalg.det(C)}')"
   ]
  },
  {
   "cell_type": "markdown",
   "metadata": {},
   "source": [
    "5."
   ]
  },
  {
   "cell_type": "code",
   "execution_count": 381,
   "metadata": {},
   "outputs": [
    {
     "data": {
      "text/plain": [
       "(3, 3)"
      ]
     },
     "execution_count": 381,
     "metadata": {},
     "output_type": "execute_result"
    }
   ],
   "source": [
    "np.shape(A)"
   ]
  },
  {
   "cell_type": "code",
   "execution_count": 382,
   "metadata": {},
   "outputs": [],
   "source": [
    "def orthogonal_set(A:np.ndarray, B:np.ndarray, C:np.ndarray) -> np.ndarray:\n",
    "    '''This function will return the matrix of which the row vectors form an orthogonal set'''\n",
    "    \n",
    "    if np.dot(A[0], A[1]) == 0 or np.dot(A[0], A[2]) == 0 or np.dot(A[1], A[2]) == 0:\n",
    "        return A\n",
    "    elif np.dot(B[0], B[1]) == 0 or np.dot(B[0], B[2]) == 0 or np.dot(B[1], B[2]) == 0:\n",
    "        return B\n",
    "    elif np.dot(C[0], C[1]) == 0 or np.dot(C[0], C[2]) == 0 or np.dot(C[1], C[2]) == 0:\n",
    "        return C\n",
    "    "
   ]
  },
  {
   "cell_type": "code",
   "execution_count": 383,
   "metadata": {},
   "outputs": [
    {
     "data": {
      "text/plain": [
       "array([[ 1,  2,  1],\n",
       "       [ 2,  1, -4],\n",
       "       [ 3, -2,  1]])"
      ]
     },
     "execution_count": 383,
     "metadata": {},
     "output_type": "execute_result"
    }
   ],
   "source": [
    "orthogonal_set(A, B, C)"
   ]
  },
  {
   "cell_type": "code",
   "execution_count": 384,
   "metadata": {},
   "outputs": [
    {
     "data": {
      "text/plain": [
       "array([[ 1,  2,  1],\n",
       "       [ 2,  1, -4],\n",
       "       [ 3, -2,  1]])"
      ]
     },
     "execution_count": 384,
     "metadata": {},
     "output_type": "execute_result"
    }
   ],
   "source": [
    "B"
   ]
  },
  {
   "cell_type": "markdown",
   "metadata": {},
   "source": [
    "Matrix B has orthogonal row vectors"
   ]
  },
  {
   "cell_type": "markdown",
   "metadata": {},
   "source": [
    "6."
   ]
  },
  {
   "cell_type": "code",
   "execution_count": 385,
   "metadata": {},
   "outputs": [
    {
     "name": "stdout",
     "output_type": "stream",
     "text": [
      "A^-1: [[-0.23636364  0.30909091  0.21818182]\n",
      " [ 0.07272727 -0.01818182  0.16363636]\n",
      " [ 0.36363636 -0.09090909 -0.18181818]]\n",
      "\n",
      "B^-1: [[ 0.16666667  0.0952381   0.21428571]\n",
      " [ 0.33333333  0.04761905 -0.14285714]\n",
      " [ 0.16666667 -0.19047619  0.07142857]]\n"
     ]
    }
   ],
   "source": [
    "print(f'A^-1: {np.linalg.inv(A)}\\n')\n",
    "print(f'B^-1: {np.linalg.inv(B)}')"
   ]
  },
  {
   "cell_type": "markdown",
   "metadata": {},
   "source": [
    "7."
   ]
  },
  {
   "cell_type": "code",
   "execution_count": 387,
   "metadata": {},
   "outputs": [
    {
     "ename": "LinAlgError",
     "evalue": "Singular matrix",
     "output_type": "error",
     "traceback": [
      "\u001b[0;31m---------------------------------------------------------------------------\u001b[0m",
      "\u001b[0;31mLinAlgError\u001b[0m                               Traceback (most recent call last)",
      "\u001b[1;32m/Users/anasputhawala/Desktop/CS577/Homework_1/CS577HW1.ipynb Cell 55\u001b[0m in \u001b[0;36m<cell line: 1>\u001b[0;34m()\u001b[0m\n\u001b[0;32m----> <a href='vscode-notebook-cell:/Users/anasputhawala/Desktop/CS577/Homework_1/CS577HW1.ipynb#Y150sZmlsZQ%3D%3D?line=0'>1</a>\u001b[0m \u001b[39mprint\u001b[39m(\u001b[39mf\u001b[39m\u001b[39m'\u001b[39m\u001b[39mC^-1: \u001b[39m\u001b[39m{\u001b[39;00mnp\u001b[39m.\u001b[39mlinalg\u001b[39m.\u001b[39minv(C)\u001b[39m}\u001b[39;00m\u001b[39m'\u001b[39m)\n",
      "File \u001b[0;32m<__array_function__ internals>:180\u001b[0m, in \u001b[0;36minv\u001b[0;34m(*args, **kwargs)\u001b[0m\n",
      "File \u001b[0;32m~/Desktop/CS577/.CS577/lib/python3.8/site-packages/numpy/linalg/linalg.py:552\u001b[0m, in \u001b[0;36minv\u001b[0;34m(a)\u001b[0m\n\u001b[1;32m    550\u001b[0m signature \u001b[39m=\u001b[39m \u001b[39m'\u001b[39m\u001b[39mD->D\u001b[39m\u001b[39m'\u001b[39m \u001b[39mif\u001b[39;00m isComplexType(t) \u001b[39melse\u001b[39;00m \u001b[39m'\u001b[39m\u001b[39md->d\u001b[39m\u001b[39m'\u001b[39m\n\u001b[1;32m    551\u001b[0m extobj \u001b[39m=\u001b[39m get_linalg_error_extobj(_raise_linalgerror_singular)\n\u001b[0;32m--> 552\u001b[0m ainv \u001b[39m=\u001b[39m _umath_linalg\u001b[39m.\u001b[39;49minv(a, signature\u001b[39m=\u001b[39;49msignature, extobj\u001b[39m=\u001b[39;49mextobj)\n\u001b[1;32m    553\u001b[0m \u001b[39mreturn\u001b[39;00m wrap(ainv\u001b[39m.\u001b[39mastype(result_t, copy\u001b[39m=\u001b[39m\u001b[39mFalse\u001b[39;00m))\n",
      "File \u001b[0;32m~/Desktop/CS577/.CS577/lib/python3.8/site-packages/numpy/linalg/linalg.py:89\u001b[0m, in \u001b[0;36m_raise_linalgerror_singular\u001b[0;34m(err, flag)\u001b[0m\n\u001b[1;32m     88\u001b[0m \u001b[39mdef\u001b[39;00m \u001b[39m_raise_linalgerror_singular\u001b[39m(err, flag):\n\u001b[0;32m---> 89\u001b[0m     \u001b[39mraise\u001b[39;00m LinAlgError(\u001b[39m\"\u001b[39m\u001b[39mSingular matrix\u001b[39m\u001b[39m\"\u001b[39m)\n",
      "\u001b[0;31mLinAlgError\u001b[0m: Singular matrix"
     ]
    }
   ],
   "source": [
    "print(f'C^-1: {np.linalg.inv(C)}')"
   ]
  },
  {
   "cell_type": "markdown",
   "metadata": {},
   "source": [
    "Since C is a singular matrix, there is no inverse."
   ]
  },
  {
   "cell_type": "markdown",
   "metadata": {},
   "source": [
    "8."
   ]
  },
  {
   "cell_type": "code",
   "execution_count": 388,
   "metadata": {},
   "outputs": [
    {
     "name": "stdout",
     "output_type": "stream",
     "text": [
      "[14  9  7]\n"
     ]
    }
   ],
   "source": [
    "Ad = np.matmul(A,D)\n",
    "print(Ad)"
   ]
  },
  {
   "cell_type": "markdown",
   "metadata": {},
   "source": [
    "9."
   ]
  },
  {
   "cell_type": "code",
   "execution_count": 389,
   "metadata": {},
   "outputs": [
    {
     "data": {
      "text/plain": [
       "array([0.26726124, 0.53452248, 0.80178373])"
      ]
     },
     "execution_count": 389,
     "metadata": {},
     "output_type": "execute_result"
    }
   ],
   "source": [
    "normalized_D = D / np.linalg.norm(D)\n",
    "normalized_D"
   ]
  },
  {
   "cell_type": "code",
   "execution_count": 390,
   "metadata": {},
   "outputs": [],
   "source": [
    "A_1 = A[0]\n",
    "A_2 = A[1]\n",
    "A_3 = A[2]\n",
    "\n",
    "magnitude_D = (np.linalg.norm(D))**2\n",
    "\n",
    "A_1d = np.dot(A_1, normalized_D)\n",
    "A_2d = np.dot(A_2, normalized_D)\n",
    "A_3d = np.dot(A_3, normalized_D)"
   ]
  },
  {
   "cell_type": "markdown",
   "metadata": {},
   "source": [
    "Row 1, A"
   ]
  },
  {
   "cell_type": "code",
   "execution_count": 391,
   "metadata": {},
   "outputs": [
    {
     "data": {
      "text/plain": [
       "1.0"
      ]
     },
     "execution_count": 391,
     "metadata": {},
     "output_type": "execute_result"
    }
   ],
   "source": [
    "(A_1d / np.sqrt(magnitude_D))"
   ]
  },
  {
   "cell_type": "markdown",
   "metadata": {},
   "source": [
    "Row 2, A"
   ]
  },
  {
   "cell_type": "code",
   "execution_count": 392,
   "metadata": {},
   "outputs": [
    {
     "data": {
      "text/plain": [
       "0.6428571428571429"
      ]
     },
     "execution_count": 392,
     "metadata": {},
     "output_type": "execute_result"
    }
   ],
   "source": [
    "(A_2d / np.sqrt(magnitude_D))"
   ]
  },
  {
   "cell_type": "markdown",
   "metadata": {},
   "source": [
    "Row 3, A"
   ]
  },
  {
   "cell_type": "code",
   "execution_count": 393,
   "metadata": {},
   "outputs": [
    {
     "data": {
      "text/plain": [
       "0.49999999999999994"
      ]
     },
     "execution_count": 393,
     "metadata": {},
     "output_type": "execute_result"
    }
   ],
   "source": [
    "(A_3d / np.sqrt(magnitude_D))"
   ]
  },
  {
   "cell_type": "markdown",
   "metadata": {},
   "source": [
    "10."
   ]
  },
  {
   "cell_type": "code",
   "execution_count": 394,
   "metadata": {},
   "outputs": [
    {
     "data": {
      "text/plain": [
       "array([0.26726124, 0.53452248, 0.80178373])"
      ]
     },
     "execution_count": 394,
     "metadata": {},
     "output_type": "execute_result"
    }
   ],
   "source": [
    "normalized_D = D / np.linalg.norm(D)\n",
    "normalized_D"
   ]
  },
  {
   "cell_type": "markdown",
   "metadata": {},
   "source": [
    "Row 1, A"
   ]
  },
  {
   "cell_type": "code",
   "execution_count": 395,
   "metadata": {},
   "outputs": [
    {
     "data": {
      "text/plain": [
       "array([0.07142857, 0.14285714, 0.21428571])"
      ]
     },
     "execution_count": 395,
     "metadata": {},
     "output_type": "execute_result"
    }
   ],
   "source": [
    "(np.dot(A_1, normalized_D) / magnitude_D) * normalized_D"
   ]
  },
  {
   "cell_type": "markdown",
   "metadata": {},
   "source": [
    "Row 2, A"
   ]
  },
  {
   "cell_type": "code",
   "execution_count": 396,
   "metadata": {},
   "outputs": [
    {
     "data": {
      "text/plain": [
       "array([0.04591837, 0.09183673, 0.1377551 ])"
      ]
     },
     "execution_count": 396,
     "metadata": {},
     "output_type": "execute_result"
    }
   ],
   "source": [
    "(np.dot(A_2, normalized_D) / magnitude_D) * normalized_D"
   ]
  },
  {
   "cell_type": "markdown",
   "metadata": {},
   "source": [
    "Row 3, A"
   ]
  },
  {
   "cell_type": "code",
   "execution_count": 397,
   "metadata": {},
   "outputs": [
    {
     "data": {
      "text/plain": [
       "array([0.03571429, 0.07142857, 0.10714286])"
      ]
     },
     "execution_count": 397,
     "metadata": {},
     "output_type": "execute_result"
    }
   ],
   "source": [
    "(np.dot(A_3, normalized_D) / magnitude_D) * normalized_D"
   ]
  },
  {
   "cell_type": "markdown",
   "metadata": {},
   "source": [
    "11."
   ]
  },
  {
   "cell_type": "code",
   "execution_count": 398,
   "metadata": {},
   "outputs": [
    {
     "data": {
      "text/plain": [
       "array([ 9, 13,  6])"
      ]
     },
     "execution_count": 398,
     "metadata": {},
     "output_type": "execute_result"
    }
   ],
   "source": [
    "(A_1)*D[0] + (A_2)*D[1] + (A_3)*D[2]"
   ]
  },
  {
   "cell_type": "markdown",
   "metadata": {},
   "source": [
    "12."
   ]
  },
  {
   "cell_type": "markdown",
   "metadata": {},
   "source": [
    "Bx = D"
   ]
  },
  {
   "cell_type": "code",
   "execution_count": 399,
   "metadata": {},
   "outputs": [
    {
     "name": "stdout",
     "output_type": "stream",
     "text": [
      "X: [ 1.00000000e+00  5.55111512e-17 -2.77555756e-17]\n"
     ]
    }
   ],
   "source": [
    "x = np.matmul(np.linalg.inv(B), D)\n",
    "print(f'X: {x}')"
   ]
  },
  {
   "cell_type": "markdown",
   "metadata": {},
   "source": [
    "This is basically equivalent to [1 0 0] "
   ]
  },
  {
   "cell_type": "markdown",
   "metadata": {},
   "source": [
    "13."
   ]
  },
  {
   "cell_type": "code",
   "execution_count": 414,
   "metadata": {},
   "outputs": [
    {
     "ename": "LinAlgError",
     "evalue": "Singular matrix",
     "output_type": "error",
     "traceback": [
      "\u001b[0;31m---------------------------------------------------------------------------\u001b[0m",
      "\u001b[0;31mLinAlgError\u001b[0m                               Traceback (most recent call last)",
      "\u001b[1;32m/Users/anasputhawala/Desktop/CS577/Homework_1/CS577HW1.ipynb Cell 83\u001b[0m in \u001b[0;36m<cell line: 1>\u001b[0;34m()\u001b[0m\n\u001b[0;32m----> <a href='vscode-notebook-cell:/Users/anasputhawala/Desktop/CS577/Homework_1/CS577HW1.ipynb#Y155sZmlsZQ%3D%3D?line=0'>1</a>\u001b[0m np\u001b[39m.\u001b[39mmatmul(np\u001b[39m.\u001b[39;49mlinalg\u001b[39m.\u001b[39;49minv(C), D)\n",
      "File \u001b[0;32m<__array_function__ internals>:180\u001b[0m, in \u001b[0;36minv\u001b[0;34m(*args, **kwargs)\u001b[0m\n",
      "File \u001b[0;32m~/Desktop/CS577/.CS577/lib/python3.8/site-packages/numpy/linalg/linalg.py:552\u001b[0m, in \u001b[0;36minv\u001b[0;34m(a)\u001b[0m\n\u001b[1;32m    550\u001b[0m signature \u001b[39m=\u001b[39m \u001b[39m'\u001b[39m\u001b[39mD->D\u001b[39m\u001b[39m'\u001b[39m \u001b[39mif\u001b[39;00m isComplexType(t) \u001b[39melse\u001b[39;00m \u001b[39m'\u001b[39m\u001b[39md->d\u001b[39m\u001b[39m'\u001b[39m\n\u001b[1;32m    551\u001b[0m extobj \u001b[39m=\u001b[39m get_linalg_error_extobj(_raise_linalgerror_singular)\n\u001b[0;32m--> 552\u001b[0m ainv \u001b[39m=\u001b[39m _umath_linalg\u001b[39m.\u001b[39;49minv(a, signature\u001b[39m=\u001b[39;49msignature, extobj\u001b[39m=\u001b[39;49mextobj)\n\u001b[1;32m    553\u001b[0m \u001b[39mreturn\u001b[39;00m wrap(ainv\u001b[39m.\u001b[39mastype(result_t, copy\u001b[39m=\u001b[39m\u001b[39mFalse\u001b[39;00m))\n",
      "File \u001b[0;32m~/Desktop/CS577/.CS577/lib/python3.8/site-packages/numpy/linalg/linalg.py:89\u001b[0m, in \u001b[0;36m_raise_linalgerror_singular\u001b[0;34m(err, flag)\u001b[0m\n\u001b[1;32m     88\u001b[0m \u001b[39mdef\u001b[39;00m \u001b[39m_raise_linalgerror_singular\u001b[39m(err, flag):\n\u001b[0;32m---> 89\u001b[0m     \u001b[39mraise\u001b[39;00m LinAlgError(\u001b[39m\"\u001b[39m\u001b[39mSingular matrix\u001b[39m\u001b[39m\"\u001b[39m)\n",
      "\u001b[0;31mLinAlgError\u001b[0m: Singular matrix"
     ]
    }
   ],
   "source": [
    "np.matmul(np.linalg.inv(C), D)"
   ]
  },
  {
   "cell_type": "markdown",
   "metadata": {},
   "source": [
    "There is no solution x to the equation Cx=D because the matrix C is singular and therefore cannot find the inverse for that matrix."
   ]
  },
  {
   "cell_type": "markdown",
   "metadata": {},
   "source": [
    "## Part C"
   ]
  },
  {
   "cell_type": "code",
   "execution_count": 415,
   "metadata": {},
   "outputs": [
    {
     "name": "stdout",
     "output_type": "stream",
     "text": [
      "D:\n",
      "[[1 2]\n",
      " [3 2]]\n",
      "\n",
      "E:\n",
      "[[ 2 -2]\n",
      " [-2  5]]\n",
      "\n",
      "F:\n",
      "[[1 2]\n",
      " [2 4]]\n",
      "\n"
     ]
    }
   ],
   "source": [
    "D = np.array(([1, 2], [3,2]))\n",
    "E = np.array(([2, -2], [-2, 5]))\n",
    "F = np.array(([1, 2], [2, 4]))\n",
    "\n",
    "print(f'D:\\n{D}\\n\\nE:\\n{E}\\n\\nF:\\n{F}\\n')"
   ]
  },
  {
   "cell_type": "markdown",
   "metadata": {},
   "source": [
    "1."
   ]
  },
  {
   "cell_type": "markdown",
   "metadata": {},
   "source": [
    "Note: Using np.linalg.eig normalizes the returned eigenvectors so that the norm is of unit length (i.e. 1)"
   ]
  },
  {
   "cell_type": "code",
   "execution_count": 416,
   "metadata": {},
   "outputs": [
    {
     "name": "stdout",
     "output_type": "stream",
     "text": [
      "Eigenvalues: \n",
      "[-1.  4.]\n",
      "Eigenvectors: \n",
      "[[-0.70710678 -0.5547002 ]\n",
      " [ 0.70710678 -0.83205029]]\n",
      "--------\n",
      "\n",
      "Eigenvector corresponding to Eigenvalue -1.0 is \n",
      "[-0.70710678  0.70710678]\n",
      " with norm: 1.0\n",
      "\n",
      "Eigenvector corresponding to Eigenvalue 4.0 is \n",
      "[-0.5547002  -0.83205029]\n",
      " with norm: 1.0\n"
     ]
    }
   ],
   "source": [
    "eigenvalues_D, eigenvectors_D = np.linalg.eig(D)\n",
    "\n",
    "print(f'Eigenvalues: \\n{eigenvalues_D}')\n",
    "print(f'Eigenvectors: \\n{eigenvectors_D}')\n",
    "print('--------')\n",
    "for dim in range(np.shape(eigenvalues_D)[0]):\n",
    "    print('')\n",
    "    print(f'Eigenvector corresponding to Eigenvalue {eigenvalues_D[dim]} is \\n{eigenvectors_D.T[dim]}\\n with norm: {np.round(np.linalg.norm(eigenvectors_D.T[dim]))}')"
   ]
  },
  {
   "cell_type": "markdown",
   "metadata": {},
   "source": [
    "From my answer in the homework, i had that the eigenvector corresponding to eigenvalue -1 is [-1, 1] and that the eigenvector corresponding to eigenvalue 4 is [2, 3]. We can manually check and confirm this:"
   ]
  },
  {
   "cell_type": "code",
   "execution_count": 417,
   "metadata": {},
   "outputs": [
    {
     "name": "stdout",
     "output_type": "stream",
     "text": [
      "[ 0.70710678 -0.70710678]\n",
      "[0.5547002  0.83205029]\n"
     ]
    }
   ],
   "source": [
    "eigenvector_1 = np.array(([1,-1]))\n",
    "\n",
    "#perform normalization\n",
    "print(eigenvector_1 / np.linalg.norm(eigenvector_1))\n",
    "\n",
    "eigenvector_4 = np.array([2,3])\n",
    "\n",
    "#perform normalization\n",
    "print(eigenvector_4/np.linalg.norm(eigenvector_4))"
   ]
  },
  {
   "cell_type": "markdown",
   "metadata": {},
   "source": [
    "Same values except the only difference is the sign. When np calculates the eig (using np.linalg.eig) the sign may get altered especially during normalization. we can also use sympy"
   ]
  },
  {
   "cell_type": "code",
   "execution_count": 418,
   "metadata": {},
   "outputs": [
    {
     "name": "stdout",
     "output_type": "stream",
     "text": [
      "d:\n",
      "Matrix([[1, 2], [3, 2]])\n",
      "e:\n",
      "Matrix([[2, -2], [-2, 5]])\n",
      "f:\n",
      "Matrix([[1, 2], [2, 4]])\n"
     ]
    }
   ],
   "source": [
    "import sympy\n",
    "\n",
    "d = sympy.Matrix([[1,2], [3,2]])\n",
    "print(f'd:\\n{d}')\n",
    "\n",
    "e = sympy.Matrix([[2,-2], [-2,5]])\n",
    "print(f'e:\\n{e}')\n",
    "\n",
    "f = sympy.Matrix([[1,2], [2,4]])\n",
    "print(f'f:\\n{f}')"
   ]
  },
  {
   "cell_type": "code",
   "execution_count": 419,
   "metadata": {},
   "outputs": [
    {
     "data": {
      "text/plain": [
       "[(-1,\n",
       "  1,\n",
       "  [Matrix([\n",
       "   [-1],\n",
       "   [ 1]])]),\n",
       " (4,\n",
       "  1,\n",
       "  [Matrix([\n",
       "   [2/3],\n",
       "   [  1]])])]"
      ]
     },
     "execution_count": 419,
     "metadata": {},
     "output_type": "execute_result"
    }
   ],
   "source": [
    "d.eigenvects()"
   ]
  },
  {
   "cell_type": "markdown",
   "metadata": {},
   "source": [
    "2."
   ]
  },
  {
   "cell_type": "code",
   "execution_count": 420,
   "metadata": {},
   "outputs": [
    {
     "name": "stdout",
     "output_type": "stream",
     "text": [
      "Dot product between eigenvectors: -0.19611613513818388\n"
     ]
    }
   ],
   "source": [
    "print(f'Dot product between eigenvectors: {np.dot(eigenvectors_D.T[0], eigenvectors_D.T[1])}')"
   ]
  },
  {
   "cell_type": "markdown",
   "metadata": {},
   "source": [
    "3."
   ]
  },
  {
   "cell_type": "code",
   "execution_count": 421,
   "metadata": {},
   "outputs": [
    {
     "data": {
      "text/plain": [
       "[(1,\n",
       "  1,\n",
       "  [Matrix([\n",
       "   [2],\n",
       "   [1]])]),\n",
       " (6,\n",
       "  1,\n",
       "  [Matrix([\n",
       "   [-1/2],\n",
       "   [   1]])])]"
      ]
     },
     "execution_count": 421,
     "metadata": {},
     "output_type": "execute_result"
    }
   ],
   "source": [
    "sympy.Matrix([[2,-2], [-2,5]]).eigenvects()"
   ]
  },
  {
   "cell_type": "code",
   "execution_count": 422,
   "metadata": {},
   "outputs": [
    {
     "name": "stdout",
     "output_type": "stream",
     "text": [
      "Eigenvalues of E: \n",
      "[1. 6.]\n",
      "Eigenvectors of E: \n",
      "[[-0.89442719  0.4472136 ]\n",
      " [-0.4472136  -0.89442719]]\n",
      "Dot product between eigenvectors: 0.0\n"
     ]
    }
   ],
   "source": [
    "eigenvalues_E, eigenvectors_E = np.linalg.eig(E)\n",
    "print(f'Eigenvalues of E: \\n{eigenvalues_E}')\n",
    "print(f'Eigenvectors of E: \\n{eigenvectors_E}')\n",
    "\n",
    "\n",
    "print(f'Dot product between eigenvectors: {np.dot(eigenvectors_E.T[0], eigenvectors_E.T[1])}')"
   ]
  },
  {
   "cell_type": "markdown",
   "metadata": {},
   "source": [
    "4."
   ]
  },
  {
   "cell_type": "code",
   "execution_count": 423,
   "metadata": {},
   "outputs": [
    {
     "data": {
      "text/plain": [
       "array([[ True,  True],\n",
       "       [ True,  True]])"
      ]
     },
     "execution_count": 423,
     "metadata": {},
     "output_type": "execute_result"
    }
   ],
   "source": [
    "E.T == E"
   ]
  },
  {
   "cell_type": "markdown",
   "metadata": {},
   "source": [
    "E Transpose is equivalent to E, it's a symmetric (hermitian) matrix and therefore the eigenvectors are orthogonal and hence the dot product between the eigenvectors will be 0."
   ]
  },
  {
   "cell_type": "markdown",
   "metadata": {},
   "source": [
    "5."
   ]
  },
  {
   "cell_type": "code",
   "execution_count": 424,
   "metadata": {},
   "outputs": [
    {
     "name": "stderr",
     "output_type": "stream",
     "text": [
      "/var/folders/rf/k8mctbjd57n99_khq2tj1q480000gn/T/ipykernel_5873/4134326771.py:1: FutureWarning: `rcond` parameter will change to the default of machine precision times ``max(M, N)`` where M and N are the input matrix dimensions.\n",
      "To use the future default and silence this warning we advise to pass `rcond=None`, to keep using the old, explicitly pass `rcond=-1`.\n",
      "  np.linalg.lstsq(F, np.zeros((F.shape[0],1)))[0]\n"
     ]
    },
    {
     "data": {
      "text/plain": [
       "array([[0.],\n",
       "       [0.]])"
      ]
     },
     "execution_count": 424,
     "metadata": {},
     "output_type": "execute_result"
    }
   ],
   "source": [
    "np.linalg.lstsq(F, np.zeros((F.shape[0],1)))[0]"
   ]
  },
  {
   "cell_type": "markdown",
   "metadata": {},
   "source": [
    "[0,0] is a trivial solution"
   ]
  },
  {
   "cell_type": "markdown",
   "metadata": {},
   "source": [
    "6."
   ]
  },
  {
   "cell_type": "code",
   "execution_count": 425,
   "metadata": {},
   "outputs": [
    {
     "name": "stderr",
     "output_type": "stream",
     "text": [
      "/var/folders/rf/k8mctbjd57n99_khq2tj1q480000gn/T/ipykernel_5873/238139554.py:1: DeprecationWarning: `np.float` is a deprecated alias for the builtin `float`. To silence this warning, use `float` by itself. Doing this will not modify any behavior and is safe. If you specifically wanted the numpy scalar type, use `np.float64` here.\n",
      "Deprecated in NumPy 1.20; for more details and guidance: https://numpy.org/devdocs/release/1.20.0-notes.html#deprecations\n",
      "  np.linalg.lstsq(F, np.zeros((F.shape[0],1), dtype=np.float))\n",
      "/var/folders/rf/k8mctbjd57n99_khq2tj1q480000gn/T/ipykernel_5873/238139554.py:1: FutureWarning: `rcond` parameter will change to the default of machine precision times ``max(M, N)`` where M and N are the input matrix dimensions.\n",
      "To use the future default and silence this warning we advise to pass `rcond=None`, to keep using the old, explicitly pass `rcond=-1`.\n",
      "  np.linalg.lstsq(F, np.zeros((F.shape[0],1), dtype=np.float))\n"
     ]
    },
    {
     "data": {
      "text/plain": [
       "(array([[0.],\n",
       "        [0.]]),\n",
       " array([], dtype=float64),\n",
       " 1,\n",
       " array([5.00000000e+00, 1.98602732e-16]))"
      ]
     },
     "execution_count": 425,
     "metadata": {},
     "output_type": "execute_result"
    }
   ],
   "source": [
    "np.linalg.lstsq(F, np.zeros((F.shape[0],1), dtype=np.float))"
   ]
  },
  {
   "cell_type": "markdown",
   "metadata": {},
   "source": [
    "The trivial solution is [0,0]"
   ]
  },
  {
   "cell_type": "markdown",
   "metadata": {},
   "source": [
    "7."
   ]
  },
  {
   "cell_type": "code",
   "execution_count": 426,
   "metadata": {},
   "outputs": [
    {
     "name": "stderr",
     "output_type": "stream",
     "text": [
      "/var/folders/rf/k8mctbjd57n99_khq2tj1q480000gn/T/ipykernel_5873/3588471221.py:1: DeprecationWarning: `np.float` is a deprecated alias for the builtin `float`. To silence this warning, use `float` by itself. Doing this will not modify any behavior and is safe. If you specifically wanted the numpy scalar type, use `np.float64` here.\n",
      "Deprecated in NumPy 1.20; for more details and guidance: https://numpy.org/devdocs/release/1.20.0-notes.html#deprecations\n",
      "  np.linalg.lstsq(D, np.zeros((D.shape[0],1), dtype=np.float))\n",
      "/var/folders/rf/k8mctbjd57n99_khq2tj1q480000gn/T/ipykernel_5873/3588471221.py:1: FutureWarning: `rcond` parameter will change to the default of machine precision times ``max(M, N)`` where M and N are the input matrix dimensions.\n",
      "To use the future default and silence this warning we advise to pass `rcond=None`, to keep using the old, explicitly pass `rcond=-1`.\n",
      "  np.linalg.lstsq(D, np.zeros((D.shape[0],1), dtype=np.float))\n"
     ]
    },
    {
     "data": {
      "text/plain": [
       "(array([[0.],\n",
       "        [0.]]),\n",
       " array([], dtype=float64),\n",
       " 2,\n",
       " array([4.13064859, 0.96837093]))"
      ]
     },
     "execution_count": 426,
     "metadata": {},
     "output_type": "execute_result"
    }
   ],
   "source": [
    "np.linalg.lstsq(D, np.zeros((D.shape[0],1), dtype=np.float))"
   ]
  },
  {
   "cell_type": "code",
   "execution_count": 427,
   "metadata": {},
   "outputs": [
    {
     "data": {
      "text/plain": [
       "array([[0.],\n",
       "       [0.]])"
      ]
     },
     "execution_count": 427,
     "metadata": {},
     "output_type": "execute_result"
    }
   ],
   "source": [
    "np.linalg.solve(D, np.zeros(shape=(np.shape(D)[0], 1)))"
   ]
  },
  {
   "cell_type": "markdown",
   "metadata": {},
   "source": [
    "Need to check linear dependency of the rows of D"
   ]
  },
  {
   "cell_type": "code",
   "execution_count": 428,
   "metadata": {},
   "outputs": [
    {
     "name": "stdout",
     "output_type": "stream",
     "text": [
      "(0, 1)\n"
     ]
    }
   ],
   "source": [
    "_, indexes = sympy.Matrix(D).T.rref()\n",
    "print(indexes)"
   ]
  },
  {
   "cell_type": "code",
   "execution_count": 429,
   "metadata": {},
   "outputs": [
    {
     "name": "stdout",
     "output_type": "stream",
     "text": [
      "[[1 2]\n",
      " [3 2]]\n"
     ]
    }
   ],
   "source": [
    "print(D[indexes,:])"
   ]
  },
  {
   "cell_type": "markdown",
   "metadata": {},
   "source": [
    "According to the documentation of sympy.Matrix (https://www.geeksforgeeks.org/python-sympy-matrix-rref-method/) this also helps\n",
    "\n",
    "the rref module of sympy matrix returns two things: The first is the reduced row echelon form, and the second is a tuple of indices of the pivot columns. The tuple of indices of the pivot columns (i.e. linearly independence). See the following https://math.stackexchange.com/questions/2577895/pivots-and-linear-independence to get a better understanding of linear independence and how pivots relate.\n",
    "\n",
    "Finally, since all the columns are pivot columns then we can say that they're linearly independent and that the only solution to Dx=0 is x=0. (see: https://web.mit.edu/14.102/www/notes/lecturenotes0916.pdf)"
   ]
  },
  {
   "cell_type": "code",
   "execution_count": 438,
   "metadata": {},
   "outputs": [
    {
     "data": {
      "text/plain": [
       "0.2672612419124244"
      ]
     },
     "execution_count": 438,
     "metadata": {},
     "output_type": "execute_result"
    }
   ],
   "source": [
    "np.linalg.norm(np.array(([1/14,2/14,3/14])))"
   ]
  }
 ],
 "metadata": {
  "kernelspec": {
   "display_name": "Python 3.8.9 ('.CS577': venv)",
   "language": "python",
   "name": "python3"
  },
  "language_info": {
   "codemirror_mode": {
    "name": "ipython",
    "version": 3
   },
   "file_extension": ".py",
   "mimetype": "text/x-python",
   "name": "python",
   "nbconvert_exporter": "python",
   "pygments_lexer": "ipython3",
   "version": "3.8.9"
  },
  "orig_nbformat": 4,
  "vscode": {
   "interpreter": {
    "hash": "6ba610591e526a7b490ed1e55c3dc3a2959fc59dd8c1ca337498fb17a4685fa0"
   }
  }
 },
 "nbformat": 4,
 "nbformat_minor": 2
}
