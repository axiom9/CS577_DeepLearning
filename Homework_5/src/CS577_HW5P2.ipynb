{
  "nbformat": 4,
  "nbformat_minor": 0,
  "metadata": {
    "colab": {
      "provenance": [],
      "machine_shape": "hm"
    },
    "kernelspec": {
      "name": "python3",
      "display_name": "Python 3"
    },
    "language_info": {
      "name": "python"
    },
    "accelerator": "GPU",
    "gpuClass": "premium"
  },
  "cells": [
    {
      "cell_type": "markdown",
      "source": [
        "# Topic Classification\n",
        "\n",
        "(a) Load the Reuters newswire topic classification data provided in Keras.\n",
        "\n",
        "(b) Split the data into training,validation and testing subsets\n",
        "\n",
        "(c) Build a network with a trainable embedding layer and two fully connected layers (including the output layer)\n",
        "\n",
        "(d) Train and evaluate accuracy for topic classification with both trainable and loaded embedding layer.\n",
        "\n",
        "(e) Compare the results and draw conclusion\n",
        "\n",
        "(f) Use an LSTM layer to replace the fully connected layer. Then train and evaluate. Compare the results and draw conclusions.\n",
        "\n",
        "(g) Add an additional LSTM layer and repeat the evaluation. Make sure that the first LSTM layer is set to return the full sequence of output"
      ],
      "metadata": {
        "id": "sdOu_HMCFgIy"
      }
    },
    {
      "cell_type": "code",
      "source": [
        "# Imports\n",
        "from keras.datasets import reuters\n",
        "from keras import preprocessing\n",
        "from keras import Sequential\n",
        "from keras.layers import Flatten, Dense, Embedding\n",
        "from keras.utils import to_categorical\n",
        "import tensorflow as tf\n",
        "import matplotlib.pyplot as plt\n",
        "import os\n",
        "import numpy as np"
      ],
      "metadata": {
        "id": "_tJz9V6RF243"
      },
      "execution_count": 5,
      "outputs": []
    },
    {
      "cell_type": "code",
      "source": [
        "# plotting function:\n",
        "def generate_plots(history):\n",
        "    #accuracies\n",
        "    plt.plot(history.history['categorical_accuracy'])\n",
        "    plt.plot(history.history['val_categorical_accuracy'])\n",
        "    plt.title('model accuracy')\n",
        "    plt.ylabel('accuracy')\n",
        "    plt.xlabel('epoch')\n",
        "    plt.legend(['train', 'val'], loc='upper left')\n",
        "    plt.show()\n",
        "    #loss curves\n",
        "    plt.plot(history.history['loss'])\n",
        "    plt.plot(history.history['val_loss'])\n",
        "    plt.title('model loss')\n",
        "    plt.ylabel('loss')\n",
        "    plt.xlabel('epoch')\n",
        "    plt.legend(['train', 'val'], loc='upper left')\n",
        "    plt.show()"
      ],
      "metadata": {
        "id": "F0QKWk2QN1ws"
      },
      "execution_count": 36,
      "outputs": []
    },
    {
      "cell_type": "markdown",
      "source": [
        "### (a) Load the Reuters newswire topic classification data provided in Keras."
      ],
      "metadata": {
        "id": "7YO0j9OQFi0g"
      }
    },
    {
      "cell_type": "code",
      "source": [
        "max_features = 10000\n",
        "embedding_dim = 100\n",
        "maxlen = 100\n",
        "\n",
        "(X_train,y_train),(X_test,y_test) = reuters.load_data(num_words = max_features)\n",
        "\n",
        "X_train = tf.keras.preprocessing.sequence.pad_sequences(X_train,maxlen=maxlen)\n",
        "X_test = tf.keras.preprocessing.sequence.pad_sequences(X_test,maxlen=maxlen)\n",
        "\n",
        "y_train = to_categorical(y_train)\n",
        "y_test = to_categorical(y_test)"
      ],
      "metadata": {
        "id": "e8MuLSjoFxiS"
      },
      "execution_count": 18,
      "outputs": []
    },
    {
      "cell_type": "markdown",
      "source": [
        "### (b) Split the data into training,validation and testing subsets"
      ],
      "metadata": {
        "id": "UKUkNuyeFkBL"
      }
    },
    {
      "cell_type": "code",
      "source": [
        "print(f'Size X_train: {len(X_train)}')\n",
        "print(f'Size y_train: {len(y_train)}')\n",
        "\n",
        "print(f'Size X_test: {len(X_test)}')\n",
        "print(f'Size y_test: {len(y_test)}')"
      ],
      "metadata": {
        "colab": {
          "base_uri": "https://localhost:8080/"
        },
        "id": "zKuC1Wr1Fygd",
        "outputId": "30d2dbb4-e44a-4488-ed38-75962856b897"
      },
      "execution_count": 19,
      "outputs": [
        {
          "output_type": "stream",
          "name": "stdout",
          "text": [
            "Size X_train: 8982\n",
            "Size y_train: 8982\n",
            "Size X_test: 2246\n",
            "Size y_test: 2246\n"
          ]
        }
      ]
    },
    {
      "cell_type": "markdown",
      "source": [
        "Total of 11,228 samples.\n",
        "Want a 70, 15, 15 split:\n",
        "\n",
        "7860 train, 1684 test, 1684, val"
      ],
      "metadata": {
        "id": "yBX0XE8fOrsN"
      }
    },
    {
      "cell_type": "code",
      "source": [
        "# Let's start by taking samples from training set and adding to test set to get us to 7860 train samples:\n",
        "num_to_take = 8982 - 7860\n",
        "X_test = np.concatenate((X_test, X_train[-num_to_take:])) # taking the last 1122 samples and adding to X_test,\n",
        "y_test = np.concatenate((y_test, y_train[-num_to_take:]))\n",
        "\n",
        "# Now we need to make sure that we only take from 0:7860 in X-test and y_test\n",
        "X_train = X_train[0:7860]\n",
        "y_train = y_train[0:7860]\n",
        "\n",
        "#Now we need to split up the testing sets by dividing them equally so there is 1684 test samples, 1684 val samples\n",
        "#We'll accomplish this by just taking the first 1684 from test and making those the validation samples\n",
        "X_val = X_test[0:1684]\n",
        "y_val = y_test[0:1684]\n",
        "\n",
        "#Now re-assign X-test and y_test\n",
        "X_test = X_test[1684:]\n",
        "y_test = y_test[1684:]\n",
        "\n",
        "#Print shapes\n",
        "print(f'Train set shape X: {X_train.shape}')\n",
        "print(f'Train set shape y: {y_train.shape}')\n",
        "\n",
        "print(f'Val set shape X: {X_val.shape}')\n",
        "print(f'Val set shape y: {y_val.shape}')\n",
        "\n",
        "print(f'Test set shape X: {X_test.shape}')\n",
        "print(f'Test set shape y: {y_test.shape}')\n"
      ],
      "metadata": {
        "colab": {
          "base_uri": "https://localhost:8080/"
        },
        "id": "WJ77URIBO11s",
        "outputId": "1932780e-9c08-4f6d-87a2-717df7c330e7"
      },
      "execution_count": 20,
      "outputs": [
        {
          "output_type": "stream",
          "name": "stdout",
          "text": [
            "Train set shape X: (7860, 100)\n",
            "Train set shape y: (7860, 46)\n",
            "Val set shape X: (1684, 100)\n",
            "Val set shape y: (1684, 46)\n",
            "Test set shape X: (1684, 100)\n",
            "Test set shape y: (1684, 46)\n"
          ]
        }
      ]
    },
    {
      "cell_type": "code",
      "source": [
        "#Print shapes\n",
        "print(f'Train set shape X: {X_train.shape}')\n",
        "print(f'Train set shape y: {y_train.shape}')\n",
        "\n",
        "print(f'Val set shape X: {X_val.shape}')\n",
        "print(f'Val set shape y: {y_val.shape}')\n",
        "\n",
        "print(f'Test set shape X: {X_test.shape}')\n",
        "print(f'Test set shape y: {y_test.shape}')"
      ],
      "metadata": {
        "colab": {
          "base_uri": "https://localhost:8080/"
        },
        "id": "2L_Yn5UVRf50",
        "outputId": "0eb5e107-2cce-4119-ffb8-8845d5da19a1"
      },
      "execution_count": 24,
      "outputs": [
        {
          "output_type": "stream",
          "name": "stdout",
          "text": [
            "Train set shape X: (7860, 100)\n",
            "Train set shape y: (7860, 46)\n",
            "Val set shape X: (1684, 100)\n",
            "Val set shape y: (1684, 46)\n",
            "Test set shape X: (1684, 100)\n",
            "Test set shape y: (1684, 46)\n"
          ]
        }
      ]
    },
    {
      "cell_type": "markdown",
      "source": [
        "### (c) Build a network with a trainable embedding layer and two fully connected layers (including the output layer)"
      ],
      "metadata": {
        "id": "CjAFE97zFljv"
      }
    },
    {
      "cell_type": "code",
      "source": [
        "def model_init():\n",
        "\n",
        "  max_features = 10000\n",
        "  embedding_dim = 100\n",
        "  maxlen = 100\n",
        "  model = Sequential()\n",
        "\n",
        "  model.add(Embedding(max_features, embedding_dim, input_length=maxlen))\n",
        "  model.add(Flatten())\n",
        "  model.add(Dense(8,activation='relu'))\n",
        "  model.add(Dense(46,activation='softmax'))\n",
        "\n",
        "  return model"
      ],
      "metadata": {
        "id": "FSCsb-imF0Hv"
      },
      "execution_count": 25,
      "outputs": []
    },
    {
      "cell_type": "code",
      "source": [
        "model = model_init()\n",
        "model.summary()"
      ],
      "metadata": {
        "colab": {
          "base_uri": "https://localhost:8080/"
        },
        "id": "OTgLtU_1SrE1",
        "outputId": "a37ad9c7-f292-46a1-e2ff-4d4f166d78fc"
      },
      "execution_count": 30,
      "outputs": [
        {
          "output_type": "stream",
          "name": "stdout",
          "text": [
            "Model: \"sequential_6\"\n",
            "_________________________________________________________________\n",
            " Layer (type)                Output Shape              Param #   \n",
            "=================================================================\n",
            " embedding_6 (Embedding)     (None, 100, 100)          1000000   \n",
            "                                                                 \n",
            " flatten_6 (Flatten)         (None, 10000)             0         \n",
            "                                                                 \n",
            " dense_12 (Dense)            (None, 8)                 80008     \n",
            "                                                                 \n",
            " dense_13 (Dense)            (None, 46)                414       \n",
            "                                                                 \n",
            "=================================================================\n",
            "Total params: 1,080,422\n",
            "Trainable params: 1,080,422\n",
            "Non-trainable params: 0\n",
            "_________________________________________________________________\n"
          ]
        }
      ]
    },
    {
      "cell_type": "code",
      "source": [
        "model = model_init()\n",
        "\n",
        "#compile model\n",
        "model.compile(optimizer='adam',loss='categorical_crossentropy',metrics=['categorical_accuracy'])\n",
        "\n",
        "#fit and plot results\n",
        "history = model.fit(x=X_train, y=y_train, batch_size=16, epochs=20, validation_data=(X_val, y_val))\n",
        "\n",
        "generate_plots(history)"
      ],
      "metadata": {
        "colab": {
          "base_uri": "https://localhost:8080/",
          "height": 1000
        },
        "id": "1GomCSF0Sryj",
        "outputId": "2f701a17-26be-4feb-ae64-baed16587fa5"
      },
      "execution_count": 37,
      "outputs": [
        {
          "output_type": "stream",
          "name": "stdout",
          "text": [
            "Epoch 1/20\n",
            "492/492 [==============================] - 2s 3ms/step - loss: 1.9821 - categorical_accuracy: 0.5108 - val_loss: 1.5648 - val_categorical_accuracy: 0.6223\n",
            "Epoch 2/20\n",
            "492/492 [==============================] - 1s 3ms/step - loss: 1.2002 - categorical_accuracy: 0.7070 - val_loss: 1.3806 - val_categorical_accuracy: 0.6681\n",
            "Epoch 3/20\n",
            "492/492 [==============================] - 1s 3ms/step - loss: 0.7696 - categorical_accuracy: 0.8019 - val_loss: 1.3880 - val_categorical_accuracy: 0.6728\n",
            "Epoch 4/20\n",
            "492/492 [==============================] - 1s 3ms/step - loss: 0.5101 - categorical_accuracy: 0.8729 - val_loss: 1.4314 - val_categorical_accuracy: 0.6675\n",
            "Epoch 5/20\n",
            "492/492 [==============================] - 1s 3ms/step - loss: 0.3647 - categorical_accuracy: 0.9187 - val_loss: 1.4673 - val_categorical_accuracy: 0.6770\n",
            "Epoch 6/20\n",
            "492/492 [==============================] - 1s 3ms/step - loss: 0.2879 - categorical_accuracy: 0.9384 - val_loss: 1.5069 - val_categorical_accuracy: 0.6817\n",
            "Epoch 7/20\n",
            "492/492 [==============================] - 1s 3ms/step - loss: 0.2417 - categorical_accuracy: 0.9478 - val_loss: 1.6081 - val_categorical_accuracy: 0.6663\n",
            "Epoch 8/20\n",
            "492/492 [==============================] - 1s 3ms/step - loss: 0.2147 - categorical_accuracy: 0.9517 - val_loss: 1.5997 - val_categorical_accuracy: 0.6787\n",
            "Epoch 9/20\n",
            "492/492 [==============================] - 1s 3ms/step - loss: 0.2059 - categorical_accuracy: 0.9523 - val_loss: 1.7053 - val_categorical_accuracy: 0.6580\n",
            "Epoch 10/20\n",
            "492/492 [==============================] - 1s 3ms/step - loss: 0.1832 - categorical_accuracy: 0.9539 - val_loss: 1.6963 - val_categorical_accuracy: 0.6781\n",
            "Epoch 11/20\n",
            "492/492 [==============================] - 1s 3ms/step - loss: 0.1776 - categorical_accuracy: 0.9559 - val_loss: 1.7633 - val_categorical_accuracy: 0.6764\n",
            "Epoch 12/20\n",
            "492/492 [==============================] - 1s 3ms/step - loss: 0.1707 - categorical_accuracy: 0.9566 - val_loss: 1.8985 - val_categorical_accuracy: 0.6597\n",
            "Epoch 13/20\n",
            "492/492 [==============================] - 1s 3ms/step - loss: 0.1698 - categorical_accuracy: 0.9548 - val_loss: 1.9952 - val_categorical_accuracy: 0.6681\n",
            "Epoch 14/20\n",
            "492/492 [==============================] - 1s 3ms/step - loss: 0.1577 - categorical_accuracy: 0.9557 - val_loss: 1.9346 - val_categorical_accuracy: 0.6639\n",
            "Epoch 15/20\n",
            "492/492 [==============================] - 1s 3ms/step - loss: 0.1544 - categorical_accuracy: 0.9566 - val_loss: 1.9196 - val_categorical_accuracy: 0.6698\n",
            "Epoch 16/20\n",
            "492/492 [==============================] - 2s 3ms/step - loss: 0.1542 - categorical_accuracy: 0.9557 - val_loss: 1.9425 - val_categorical_accuracy: 0.6799\n",
            "Epoch 17/20\n",
            "492/492 [==============================] - 1s 3ms/step - loss: 0.1497 - categorical_accuracy: 0.9555 - val_loss: 2.0220 - val_categorical_accuracy: 0.6722\n",
            "Epoch 18/20\n",
            "492/492 [==============================] - 2s 3ms/step - loss: 0.1485 - categorical_accuracy: 0.9550 - val_loss: 2.0338 - val_categorical_accuracy: 0.6692\n",
            "Epoch 19/20\n",
            "492/492 [==============================] - 2s 3ms/step - loss: 0.1410 - categorical_accuracy: 0.9575 - val_loss: 1.9876 - val_categorical_accuracy: 0.6764\n",
            "Epoch 20/20\n",
            "492/492 [==============================] - 2s 3ms/step - loss: 0.1398 - categorical_accuracy: 0.9565 - val_loss: 2.2555 - val_categorical_accuracy: 0.6615\n"
          ]
        },
        {
          "output_type": "display_data",
          "data": {
            "text/plain": [
              "<Figure size 432x288 with 1 Axes>"
            ],
            "image/png": "[encoded data removed]"
          },
          "metadata": {
            "needs_background": "light"
          }
        },
        {
          "output_type": "display_data",
          "data": {
            "text/plain": [
              "<Figure size 432x288 with 1 Axes>"
            ],
            "image/png": "[encoded data removed]"
          },
          "metadata": {
            "needs_background": "light"
          }
        }
      ]
    },
    {
      "cell_type": "markdown",
      "source": [
        "Let's set the cutoff to 6 epochs, combine training and val sets and re-train and evaluate the performance\n"
      ],
      "metadata": {
        "id": "_ZoW1b9zS3RB"
      }
    },
    {
      "cell_type": "code",
      "source": [
        "def eval_model(model, X_test, y_test):\n",
        "  res = model.evaluate(X_test, y_test)\n",
        "  print(f'Loss: {np.round(res[0], 3)}')\n",
        "  print(f'Acc: {np.round(res[1], 3)}')\n",
        "  # return res"
      ],
      "metadata": {
        "id": "c91DjWeuTyN8"
      },
      "execution_count": 48,
      "outputs": []
    },
    {
      "cell_type": "code",
      "source": [
        "model = model_init()\n",
        "\n",
        "#compile model\n",
        "model.compile(optimizer='adam',loss='categorical_crossentropy',metrics=['categorical_accuracy'])\n",
        "\n",
        "#fit and plot results\n",
        "history = model.fit(x=np.concatenate((X_train, X_val)), y=np.concatenate((y_train, y_val)), batch_size=16, epochs=6)\n",
        "\n",
        "# generate_plots(history)\n",
        "eval_model(model)"
      ],
      "metadata": {
        "colab": {
          "base_uri": "https://localhost:8080/"
        },
        "id": "2QOcOA_ITlAa",
        "outputId": "eedb00aa-c21f-4ea6-be70-fe2c54e6bb3e"
      },
      "execution_count": 41,
      "outputs": [
        {
          "output_type": "stream",
          "name": "stdout",
          "text": [
            "Epoch 1/6\n",
            "597/597 [==============================] - 2s 3ms/step - loss: 1.9085 - categorical_accuracy: 0.5088\n",
            "Epoch 2/6\n",
            "597/597 [==============================] - 2s 3ms/step - loss: 1.0899 - categorical_accuracy: 0.7310\n",
            "Epoch 3/6\n",
            "597/597 [==============================] - 2s 3ms/step - loss: 0.6730 - categorical_accuracy: 0.8339\n",
            "Epoch 4/6\n",
            "597/597 [==============================] - 2s 3ms/step - loss: 0.4421 - categorical_accuracy: 0.9008\n",
            "Epoch 5/6\n",
            "597/597 [==============================] - 2s 3ms/step - loss: 0.3252 - categorical_accuracy: 0.9305\n",
            "Epoch 6/6\n",
            "597/597 [==============================] - 2s 3ms/step - loss: 0.2781 - categorical_accuracy: 0.9381\n",
            "53/53 [==============================] - 0s 2ms/step - loss: 1.5629 - categorical_accuracy: 0.7013\n",
            "Loss: 1.563\n",
            "Acc: 0.701\n"
          ]
        }
      ]
    },
    {
      "cell_type": "code",
      "source": [
        "model.save('naive_topicmodel.h5')"
      ],
      "metadata": {
        "id": "Ql7HRcQEVYBL"
      },
      "execution_count": 47,
      "outputs": []
    },
    {
      "cell_type": "markdown",
      "source": [
        "### (d) Train and evaluate accuracy for topic classification with both trainable and loaded embedding layer. and \n",
        "### (e) Compare the results and draw conclusion"
      ],
      "metadata": {
        "id": "ovSUrUKJFoFP"
      }
    },
    {
      "cell_type": "markdown",
      "source": [
        "Using glove again"
      ],
      "metadata": {
        "id": "ut6IXFQOUHDe"
      }
    },
    {
      "cell_type": "code",
      "source": [
        "glove_dir = '/content/'\n",
        "embeddings_index = {}\n",
        "\n",
        "f = open(os.path.join(glove_dir,'glove.6B.100d.txt'),encoding=\"utf8\")\n",
        "for line in f:\n",
        "    values = line.split()\n",
        "    word = values[0]\n",
        "    coefs = np.asarray(values[1:],dtype='float32')\n",
        "    embeddings_index[word] = coefs\n",
        "f.close()\n",
        "print(\"Found %s words vectors.\" %len(embeddings_index))\n",
        "\n",
        "# Build an embedding matrix to load the embedding layer\n",
        "embedding_matrix = np.zeros((max_features,embedding_dim))\n",
        "\n",
        "for word,i in reuters.get_word_index().items():\n",
        "    if i < max_features:\n",
        "        embeddings_vector = embeddings_index.get(word)\n",
        "        if embeddings_vector is not None:\n",
        "            embedding_matrix[i] = embeddings_vector"
      ],
      "metadata": {
        "colab": {
          "base_uri": "https://localhost:8080/"
        },
        "id": "A4-X_nOUUFym",
        "outputId": "125baedd-4312-4d10-a076-05ffe65b2704"
      },
      "execution_count": 42,
      "outputs": [
        {
          "output_type": "stream",
          "name": "stdout",
          "text": [
            "Found 31776 words vectors.\n",
            "Downloading data from https://storage.googleapis.com/tensorflow/tf-keras-datasets/reuters_word_index.json\n",
            "550378/550378 [==============================] - 0s 0us/step\n"
          ]
        }
      ]
    },
    {
      "cell_type": "code",
      "source": [
        "def model_glove(trainable:bool):\n",
        "\n",
        "  model = Sequential()\n",
        "  max_features = 10000\n",
        "  embedding_dim = 100\n",
        "  maxlen = 100\n",
        "\n",
        "  model.add(Embedding(max_features,embedding_dim,input_length=maxlen))\n",
        "  model.add(Flatten())\n",
        "  model.add(Dense(8,activation='relu'))\n",
        "  model.add(Dense(46,activation='softmax'))\n",
        "\n",
        "  model.layers[0].set_weights([embedding_matrix])\n",
        "  model.layers[0].trainable = trainable\n",
        "\n",
        "  return model\n"
      ],
      "metadata": {
        "id": "Xd0GGdlEStbp"
      },
      "execution_count": 43,
      "outputs": []
    },
    {
      "cell_type": "code",
      "source": [
        "modelglovetF = model_glove(False)\n",
        "modelglovetF.summary()"
      ],
      "metadata": {
        "colab": {
          "base_uri": "https://localhost:8080/"
        },
        "id": "dbycH8kDF1F1",
        "outputId": "659476f8-03de-496c-e83c-5cfd9047c21a"
      },
      "execution_count": 44,
      "outputs": [
        {
          "output_type": "stream",
          "name": "stdout",
          "text": [
            "Model: \"sequential_14\"\n",
            "_________________________________________________________________\n",
            " Layer (type)                Output Shape              Param #   \n",
            "=================================================================\n",
            " embedding_14 (Embedding)    (None, 100, 100)          1000000   \n",
            "                                                                 \n",
            " flatten_14 (Flatten)        (None, 10000)             0         \n",
            "                                                                 \n",
            " dense_28 (Dense)            (None, 8)                 80008     \n",
            "                                                                 \n",
            " dense_29 (Dense)            (None, 46)                414       \n",
            "                                                                 \n",
            "=================================================================\n",
            "Total params: 1,080,422\n",
            "Trainable params: 80,422\n",
            "Non-trainable params: 1,000,000\n",
            "_________________________________________________________________\n"
          ]
        }
      ]
    },
    {
      "cell_type": "code",
      "source": [
        "modelglovetF = model_glove(False)\n",
        "\n",
        "#compile model\n",
        "modelglovetF.compile(optimizer='adam',loss='categorical_crossentropy',metrics=['categorical_accuracy'])\n",
        "\n",
        "#fit and plot results\n",
        "# history = model.fit(x=np.concatenate((X_train, X_val)), y=np.concatenate((y_train, y_val)), batch_size=16, epochs=6)\n",
        "history = modelglovetF.fit(x=X_train, y=y_train, batch_size=16, epochs=10, validation_data=(X_val, y_val))\n",
        "\n",
        "generate_plots(history)\n",
        "\n",
        "# eval_model(model)"
      ],
      "metadata": {
        "colab": {
          "base_uri": "https://localhost:8080/",
          "height": 901
        },
        "id": "xyiAF2cqU2Fk",
        "outputId": "c95a4913-8bbb-4c7b-df67-a8ffbe9fa66b"
      },
      "execution_count": 45,
      "outputs": [
        {
          "output_type": "stream",
          "name": "stdout",
          "text": [
            "Epoch 1/10\n",
            "492/492 [==============================] - 2s 3ms/step - loss: 2.3160 - categorical_accuracy: 0.4223 - val_loss: 2.1276 - val_categorical_accuracy: 0.4780\n",
            "Epoch 2/10\n",
            "492/492 [==============================] - 1s 3ms/step - loss: 1.7685 - categorical_accuracy: 0.5282 - val_loss: 2.0762 - val_categorical_accuracy: 0.4638\n",
            "Epoch 3/10\n",
            "492/492 [==============================] - 1s 3ms/step - loss: 1.5412 - categorical_accuracy: 0.5817 - val_loss: 2.1360 - val_categorical_accuracy: 0.4952\n",
            "Epoch 4/10\n",
            "492/492 [==============================] - 1s 3ms/step - loss: 1.3690 - categorical_accuracy: 0.6221 - val_loss: 2.1488 - val_categorical_accuracy: 0.4852\n",
            "Epoch 5/10\n",
            "492/492 [==============================] - 1s 3ms/step - loss: 1.2406 - categorical_accuracy: 0.6553 - val_loss: 2.2528 - val_categorical_accuracy: 0.4863\n",
            "Epoch 6/10\n",
            "492/492 [==============================] - 1s 3ms/step - loss: 1.1158 - categorical_accuracy: 0.6911 - val_loss: 2.3870 - val_categorical_accuracy: 0.4733\n",
            "Epoch 7/10\n",
            "492/492 [==============================] - 1s 3ms/step - loss: 1.0207 - categorical_accuracy: 0.7130 - val_loss: 2.5292 - val_categorical_accuracy: 0.4798\n",
            "Epoch 8/10\n",
            "492/492 [==============================] - 1s 3ms/step - loss: 0.9528 - categorical_accuracy: 0.7303 - val_loss: 2.6873 - val_categorical_accuracy: 0.4757\n",
            "Epoch 9/10\n",
            "492/492 [==============================] - 1s 3ms/step - loss: 0.8916 - categorical_accuracy: 0.7434 - val_loss: 2.9307 - val_categorical_accuracy: 0.4917\n",
            "Epoch 10/10\n",
            "492/492 [==============================] - 1s 3ms/step - loss: 0.8333 - categorical_accuracy: 0.7565 - val_loss: 3.0939 - val_categorical_accuracy: 0.4745\n"
          ]
        },
        {
          "output_type": "display_data",
          "data": {
            "text/plain": [
              "<Figure size 432x288 with 1 Axes>"
            ],
            "image/png": "[encoded data removed]"
          },
          "metadata": {
            "needs_background": "light"
          }
        },
        {
          "output_type": "display_data",
          "data": {
            "text/plain": [
              "<Figure size 432x288 with 1 Axes>"
            ],
            "image/png": "[encoded data removed]"
          },
          "metadata": {
            "needs_background": "light"
          }
        }
      ]
    },
    {
      "cell_type": "markdown",
      "source": [
        "Let's set the cutoff for epochs at around 3, combine data and re-train and report results for using pre-trained embedding with trainable = false"
      ],
      "metadata": {
        "id": "Z8dAHb18VGjW"
      }
    },
    {
      "cell_type": "code",
      "source": [
        "modelglovetF = model_glove(False)\n",
        "\n",
        "#compile model\n",
        "modelglovetF.compile(optimizer='adam',loss='categorical_crossentropy',metrics=['categorical_accuracy'])\n",
        "\n",
        "#fit and plot results\n",
        "history = modelglovetF.fit(x=np.concatenate((X_train, X_val)), y=np.concatenate((y_train, y_val)), batch_size=16, epochs=6)\n",
        "# history = modelglovetF.fit(x=X_train, y=y_train, batch_size=16, epochs=10, validation_data=(X_val, y_val))\n",
        "\n",
        "# generate_plots(history)\n",
        "\n",
        "eval_model(modelglovetF, X_test, y_test)\n"
      ],
      "metadata": {
        "colab": {
          "base_uri": "https://localhost:8080/"
        },
        "id": "fG8mnSX2VLFd",
        "outputId": "224ea415-df71-4279-989f-7490f8cd0ef4"
      },
      "execution_count": 50,
      "outputs": [
        {
          "output_type": "stream",
          "name": "stdout",
          "text": [
            "Epoch 1/6\n",
            "597/597 [==============================] - 2s 2ms/step - loss: 2.4248 - categorical_accuracy: 0.4119\n",
            "Epoch 2/6\n",
            "597/597 [==============================] - 1s 2ms/step - loss: 1.9217 - categorical_accuracy: 0.4829\n",
            "Epoch 3/6\n",
            "597/597 [==============================] - 1s 2ms/step - loss: 1.7728 - categorical_accuracy: 0.5105\n",
            "Epoch 4/6\n",
            "597/597 [==============================] - 1s 2ms/step - loss: 1.6533 - categorical_accuracy: 0.5372\n",
            "Epoch 5/6\n",
            "597/597 [==============================] - 1s 2ms/step - loss: 1.5401 - categorical_accuracy: 0.5614\n",
            "Epoch 6/6\n",
            "597/597 [==============================] - 1s 2ms/step - loss: 1.4527 - categorical_accuracy: 0.5796\n",
            "53/53 [==============================] - 0s 2ms/step - loss: 2.3039 - categorical_accuracy: 0.4644\n",
            "Loss: 2.304\n",
            "Acc: 0.464\n"
          ]
        }
      ]
    },
    {
      "cell_type": "code",
      "source": [
        "modelglovetF.save('glovetopicmodel_trainableFalse.h5')"
      ],
      "metadata": {
        "id": "rV1gqdMMV_pY"
      },
      "execution_count": 51,
      "outputs": []
    },
    {
      "cell_type": "markdown",
      "source": [
        ".46% categorical accuracy, let's set trainable=True and re-evaluate"
      ],
      "metadata": {
        "id": "5Hn1fNvWV4dE"
      }
    },
    {
      "cell_type": "code",
      "source": [
        "modelglovetT = model_glove(True)\n",
        "\n",
        "#compile model\n",
        "modelglovetT.compile(optimizer='adam',loss='categorical_crossentropy',metrics=['categorical_accuracy'])\n",
        "\n",
        "#fit and plot results\n",
        "# history = model.fit(x=np.concatenate((X_train, X_val)), y=np.concatenate((y_train, y_val)), batch_size=16, epochs=6)\n",
        "history = modelglovetT.fit(x=X_train, y=y_train, batch_size=16, epochs=10, validation_data=(X_val, y_val))\n",
        "\n",
        "generate_plots(history)\n",
        "\n",
        "# eval_model(model)"
      ],
      "metadata": {
        "colab": {
          "base_uri": "https://localhost:8080/",
          "height": 901
        },
        "id": "RvVyojtiV8ur",
        "outputId": "371ff498-bdd5-4f7b-8321-98dc260f7190"
      },
      "execution_count": 52,
      "outputs": [
        {
          "output_type": "stream",
          "name": "stdout",
          "text": [
            "Epoch 1/10\n",
            "492/492 [==============================] - 2s 3ms/step - loss: 2.2935 - categorical_accuracy: 0.4427 - val_loss: 1.9069 - val_categorical_accuracy: 0.5042\n",
            "Epoch 2/10\n",
            "492/492 [==============================] - 2s 3ms/step - loss: 1.6444 - categorical_accuracy: 0.5636 - val_loss: 1.8021 - val_categorical_accuracy: 0.5392\n",
            "Epoch 3/10\n",
            "492/492 [==============================] - 2s 3ms/step - loss: 1.3772 - categorical_accuracy: 0.6192 - val_loss: 1.7884 - val_categorical_accuracy: 0.5570\n",
            "Epoch 4/10\n",
            "492/492 [==============================] - 1s 3ms/step - loss: 1.1998 - categorical_accuracy: 0.6537 - val_loss: 1.8506 - val_categorical_accuracy: 0.5665\n",
            "Epoch 5/10\n",
            "492/492 [==============================] - 2s 3ms/step - loss: 1.0602 - categorical_accuracy: 0.6831 - val_loss: 1.8941 - val_categorical_accuracy: 0.5760\n",
            "Epoch 6/10\n",
            "492/492 [==============================] - 1s 3ms/step - loss: 0.9535 - categorical_accuracy: 0.7126 - val_loss: 2.0245 - val_categorical_accuracy: 0.5802\n",
            "Epoch 7/10\n",
            "492/492 [==============================] - 1s 3ms/step - loss: 0.8632 - categorical_accuracy: 0.7497 - val_loss: 2.1452 - val_categorical_accuracy: 0.5719\n",
            "Epoch 8/10\n",
            "492/492 [==============================] - 2s 3ms/step - loss: 0.7889 - categorical_accuracy: 0.7743 - val_loss: 2.2996 - val_categorical_accuracy: 0.5713\n",
            "Epoch 9/10\n",
            "492/492 [==============================] - 2s 3ms/step - loss: 0.7337 - categorical_accuracy: 0.7875 - val_loss: 2.5138 - val_categorical_accuracy: 0.5671\n",
            "Epoch 10/10\n",
            "492/492 [==============================] - 2s 3ms/step - loss: 0.6853 - categorical_accuracy: 0.8038 - val_loss: 2.5461 - val_categorical_accuracy: 0.5766\n"
          ]
        },
        {
          "output_type": "display_data",
          "data": {
            "text/plain": [
              "<Figure size 432x288 with 1 Axes>"
            ],
            "image/png": "[encoded data removed]"
          },
          "metadata": {
            "needs_background": "light"
          }
        },
        {
          "output_type": "display_data",
          "data": {
            "text/plain": [
              "<Figure size 432x288 with 1 Axes>"
            ],
            "image/png": "[encoded data removed]"
          },
          "metadata": {
            "needs_background": "light"
          }
        }
      ]
    },
    {
      "cell_type": "markdown",
      "source": [
        "Let's set the epoch cutoff to 7, combine training + val data and re-train and evaluate the results"
      ],
      "metadata": {
        "id": "uSX2xtVrWKQg"
      }
    },
    {
      "cell_type": "code",
      "source": [
        "modelglovetT = model_glove(True)\n",
        "\n",
        "#compile model\n",
        "modelglovetT.compile(optimizer='adam',loss='categorical_crossentropy',metrics=['categorical_accuracy'])\n",
        "\n",
        "#fit and plot results\n",
        "history = modelglovetT.fit(x=np.concatenate((X_train, X_val)), y=np.concatenate((y_train, y_val)), batch_size=16, epochs=7)\n",
        "# history = modelglovetT.fit(x=X_train, y=y_train, batch_size=16, epochs=10, validation_data=(X_val, y_val))\n",
        "\n",
        "# generate_plots(history)\n",
        "\n",
        "eval_model(modelglovetT, X_test, y_test)\n"
      ],
      "metadata": {
        "colab": {
          "base_uri": "https://localhost:8080/"
        },
        "id": "fwsgCyrDWI8V",
        "outputId": "4b9c9903-b65a-450f-f950-cb352ef4d150"
      },
      "execution_count": 53,
      "outputs": [
        {
          "output_type": "stream",
          "name": "stdout",
          "text": [
            "Epoch 1/7\n",
            "597/597 [==============================] - 2s 3ms/step - loss: 2.2335 - categorical_accuracy: 0.4539\n",
            "Epoch 2/7\n",
            "597/597 [==============================] - 2s 3ms/step - loss: 1.5200 - categorical_accuracy: 0.5831\n",
            "Epoch 3/7\n",
            "597/597 [==============================] - 2s 3ms/step - loss: 1.2123 - categorical_accuracy: 0.6547\n",
            "Epoch 4/7\n",
            "597/597 [==============================] - 2s 3ms/step - loss: 0.9928 - categorical_accuracy: 0.7164\n",
            "Epoch 5/7\n",
            "597/597 [==============================] - 2s 3ms/step - loss: 0.8279 - categorical_accuracy: 0.7688\n",
            "Epoch 6/7\n",
            "597/597 [==============================] - 2s 3ms/step - loss: 0.7202 - categorical_accuracy: 0.7991\n",
            "Epoch 7/7\n",
            "597/597 [==============================] - 2s 3ms/step - loss: 0.6402 - categorical_accuracy: 0.8273\n",
            "53/53 [==============================] - 0s 2ms/step - loss: 2.2152 - categorical_accuracy: 0.6051\n",
            "Loss: 2.215\n",
            "Acc: 0.605\n"
          ]
        }
      ]
    },
    {
      "cell_type": "markdown",
      "source": [
        "Comparing results: with using just the glove embedding layer, we get an accuracy of .46 w/ loss of 2.304 but when we fine-tune (i.e. set trainable=True) we get an accuracy of .605 and loss of 2.215"
      ],
      "metadata": {
        "id": "yeQmjsxeWein"
      }
    },
    {
      "cell_type": "code",
      "source": [
        "modelglovetT.save('glovetopicmodel_trainableTrue.h5')"
      ],
      "metadata": {
        "id": "PEs-_Y99XGO0"
      },
      "execution_count": 55,
      "outputs": []
    },
    {
      "cell_type": "markdown",
      "source": [
        "### (f) Use an LSTM layer to replace the fully connected layer. Then train and evaluate. Compare the results and draw conclusions."
      ],
      "metadata": {
        "id": "xXl65Zx4FsmQ"
      }
    },
    {
      "cell_type": "code",
      "source": [
        "# We'll fine-tune i.e. set trainable=True\n",
        "def model_glovelstm():\n",
        "\n",
        "  model = Sequential()\n",
        "  max_features = 10000\n",
        "  embedding_dim = 100\n",
        "  maxlen = 100\n",
        "\n",
        "  model.add(Embedding(max_features,embedding_dim,input_length=maxlen))\n",
        "  model.add(tf.keras.layers.LSTM(64,return_sequences=True))\n",
        "  model.add(Flatten())\n",
        "  # model.add(Dense(8,activation='relu'))\n",
        "  model.add(Dense(46,activation='softmax'))\n",
        "\n",
        "  model.layers[0].set_weights([embedding_matrix])\n",
        "  model.layers[0].trainable = True\n",
        "\n",
        "  return model"
      ],
      "metadata": {
        "id": "rff9jfiXF1SW"
      },
      "execution_count": 56,
      "outputs": []
    },
    {
      "cell_type": "code",
      "source": [
        "modelgloveLSTM1 = model_glovelstm()\n",
        "\n",
        "#compile model\n",
        "modelgloveLSTM1.compile(optimizer='adam',loss='categorical_crossentropy',metrics=['categorical_accuracy'])\n",
        "\n",
        "#fit and plot results\n",
        "# history = model.fit(x=np.concatenate((X_train, X_val)), y=np.concatenate((y_train, y_val)), batch_size=16, epochs=6)\n",
        "history = modelgloveLSTM1.fit(x=X_train, y=y_train, batch_size=16, epochs=10, validation_data=(X_val, y_val))\n",
        "\n",
        "generate_plots(history)\n",
        "\n",
        "# eval_model(model)"
      ],
      "metadata": {
        "colab": {
          "base_uri": "https://localhost:8080/",
          "height": 901
        },
        "id": "qTVTGkoAXCCO",
        "outputId": "eb8e097b-0fbb-412b-b682-5e7785b046c0"
      },
      "execution_count": 59,
      "outputs": [
        {
          "output_type": "stream",
          "name": "stdout",
          "text": [
            "Epoch 1/10\n",
            "492/492 [==============================] - 9s 9ms/step - loss: 1.7653 - categorical_accuracy: 0.5532 - val_loss: 1.4371 - val_categorical_accuracy: 0.6342\n",
            "Epoch 2/10\n",
            "492/492 [==============================] - 4s 8ms/step - loss: 0.8777 - categorical_accuracy: 0.7698 - val_loss: 1.3499 - val_categorical_accuracy: 0.6550\n",
            "Epoch 3/10\n",
            "492/492 [==============================] - 4s 8ms/step - loss: 0.3796 - categorical_accuracy: 0.9136 - val_loss: 1.5194 - val_categorical_accuracy: 0.6734\n",
            "Epoch 4/10\n",
            "492/492 [==============================] - 4s 8ms/step - loss: 0.2597 - categorical_accuracy: 0.9487 - val_loss: 1.5715 - val_categorical_accuracy: 0.6615\n",
            "Epoch 5/10\n",
            "492/492 [==============================] - 4s 8ms/step - loss: 0.2315 - categorical_accuracy: 0.9552 - val_loss: 1.4198 - val_categorical_accuracy: 0.6734\n",
            "Epoch 6/10\n",
            "492/492 [==============================] - 4s 8ms/step - loss: 0.2189 - categorical_accuracy: 0.9545 - val_loss: 1.4890 - val_categorical_accuracy: 0.6627\n",
            "Epoch 7/10\n",
            "492/492 [==============================] - 4s 8ms/step - loss: 0.2057 - categorical_accuracy: 0.9569 - val_loss: 1.4628 - val_categorical_accuracy: 0.6776\n",
            "Epoch 8/10\n",
            "492/492 [==============================] - 4s 8ms/step - loss: 0.1988 - categorical_accuracy: 0.9570 - val_loss: 1.4011 - val_categorical_accuracy: 0.6817\n",
            "Epoch 9/10\n",
            "492/492 [==============================] - 4s 8ms/step - loss: 0.1798 - categorical_accuracy: 0.9575 - val_loss: 1.4827 - val_categorical_accuracy: 0.6746\n",
            "Epoch 10/10\n",
            "492/492 [==============================] - 4s 8ms/step - loss: 0.1768 - categorical_accuracy: 0.9589 - val_loss: 1.5164 - val_categorical_accuracy: 0.6645\n"
          ]
        },
        {
          "output_type": "display_data",
          "data": {
            "text/plain": [
              "<Figure size 432x288 with 1 Axes>"
            ],
            "image/png": "[encoded data removed]"
          },
          "metadata": {
            "needs_background": "light"
          }
        },
        {
          "output_type": "display_data",
          "data": {
            "text/plain": [
              "<Figure size 432x288 with 1 Axes>"
            ],
            "image/png": "[encoded data removed]"
          },
          "metadata": {
            "needs_background": "light"
          }
        }
      ]
    },
    {
      "cell_type": "markdown",
      "source": [
        "Setting epoch cutoff to 7 epochs, combining training and val data and re-training to evaluate performance"
      ],
      "metadata": {
        "id": "-cT0OtYZXYvi"
      }
    },
    {
      "cell_type": "code",
      "source": [
        "modelgloveLSTM1 = model_glovelstm()\n",
        "\n",
        "#compile model\n",
        "modelgloveLSTM1.compile(optimizer='adam',loss='categorical_crossentropy',metrics=['categorical_accuracy'])\n",
        "\n",
        "#fit and plot results\n",
        "history = modelgloveLSTM1.fit(x=np.concatenate((X_train, X_val)), y=np.concatenate((y_train, y_val)), batch_size=16, epochs=7)\n",
        "# history = modelgloveLSTM1.fit(x=X_train, y=y_train, batch_size=16, epochs=10, validation_data=(X_val, y_val))\n",
        "\n",
        "# generate_plots(history)\n",
        "\n",
        "eval_model(modelgloveLSTM1, X_test, y_test)\n"
      ],
      "metadata": {
        "colab": {
          "base_uri": "https://localhost:8080/"
        },
        "id": "zMiWy8KpXiki",
        "outputId": "dc289dc0-5cb9-4e10-8168-d287b1ba82b5"
      },
      "execution_count": 60,
      "outputs": [
        {
          "output_type": "stream",
          "name": "stdout",
          "text": [
            "Epoch 1/7\n",
            "597/597 [==============================] - 6s 7ms/step - loss: 1.7071 - categorical_accuracy: 0.5738\n",
            "Epoch 2/7\n",
            "597/597 [==============================] - 4s 7ms/step - loss: 0.8218 - categorical_accuracy: 0.7827\n",
            "Epoch 3/7\n",
            "597/597 [==============================] - 4s 7ms/step - loss: 0.3738 - categorical_accuracy: 0.9129\n",
            "Epoch 4/7\n",
            "597/597 [==============================] - 4s 7ms/step - loss: 0.2789 - categorical_accuracy: 0.9426\n",
            "Epoch 5/7\n",
            "597/597 [==============================] - 4s 7ms/step - loss: 0.2499 - categorical_accuracy: 0.9478\n",
            "Epoch 6/7\n",
            "597/597 [==============================] - 4s 7ms/step - loss: 0.2287 - categorical_accuracy: 0.9520\n",
            "Epoch 7/7\n",
            "597/597 [==============================] - 4s 7ms/step - loss: 0.2205 - categorical_accuracy: 0.9517\n",
            "53/53 [==============================] - 1s 5ms/step - loss: 1.4506 - categorical_accuracy: 0.6942\n",
            "Loss: 1.451\n",
            "Acc: 0.694\n"
          ]
        }
      ]
    },
    {
      "cell_type": "markdown",
      "source": [
        "When using dense layer we had accuracy of around .605 and loss of around 2.2, now with using LSTM with 64 units we get an accuracy of .694 and a loss of 1.451. So there is definite improvement"
      ],
      "metadata": {
        "id": "jkFhL7smXwY1"
      }
    },
    {
      "cell_type": "code",
      "source": [
        "modelgloveLSTM1.save('modelglove1LSTM.h5')"
      ],
      "metadata": {
        "id": "SQRBpHQ0X7M7"
      },
      "execution_count": 61,
      "outputs": []
    },
    {
      "cell_type": "markdown",
      "source": [
        "### (g) Add an additional LSTM layer and repeat the evaluation. Make sure that the first LSTM layer is set to return the full sequence of outputs"
      ],
      "metadata": {
        "id": "cEkkgKAjFv5H"
      }
    },
    {
      "cell_type": "code",
      "source": [
        "# We'll fine-tune i.e. set trainable=True\n",
        "def model_glovelstm2():\n",
        "\n",
        "  model = Sequential()\n",
        "  max_features = 10000\n",
        "  embedding_dim = 100\n",
        "  maxlen = 100\n",
        "\n",
        "  model.add(Embedding(max_features,embedding_dim,input_length=maxlen))\n",
        "  model.add(tf.keras.layers.LSTM(64,return_sequences=True))\n",
        "  model.add(tf.keras.layers.LSTM(32,return_sequences=True))\n",
        "\n",
        "  model.add(Flatten())\n",
        "  # model.add(Dense(8,activation='relu'))\n",
        "  model.add(Dense(46,activation='softmax'))\n",
        "\n",
        "  model.layers[0].set_weights([embedding_matrix])\n",
        "  model.layers[0].trainable = True\n",
        "\n",
        "  return model"
      ],
      "metadata": {
        "id": "Q-ccFsc7F1mT"
      },
      "execution_count": 62,
      "outputs": []
    },
    {
      "cell_type": "code",
      "execution_count": 63,
      "metadata": {
        "colab": {
          "base_uri": "https://localhost:8080/",
          "height": 901
        },
        "id": "Ym6P8PS6FbiG",
        "outputId": "a09c3781-e088-427c-b0ed-38917fe33bd9"
      },
      "outputs": [
        {
          "output_type": "stream",
          "name": "stdout",
          "text": [
            "Epoch 1/10\n",
            "492/492 [==============================] - 9s 13ms/step - loss: 1.8737 - categorical_accuracy: 0.5187 - val_loss: 1.5042 - val_categorical_accuracy: 0.6128\n",
            "Epoch 2/10\n",
            "492/492 [==============================] - 6s 12ms/step - loss: 1.2255 - categorical_accuracy: 0.6816 - val_loss: 1.2929 - val_categorical_accuracy: 0.6704\n",
            "Epoch 3/10\n",
            "492/492 [==============================] - 6s 12ms/step - loss: 0.8061 - categorical_accuracy: 0.7883 - val_loss: 1.2225 - val_categorical_accuracy: 0.6912\n",
            "Epoch 4/10\n",
            "492/492 [==============================] - 6s 12ms/step - loss: 0.4684 - categorical_accuracy: 0.8770 - val_loss: 1.4128 - val_categorical_accuracy: 0.6859\n",
            "Epoch 5/10\n",
            "492/492 [==============================] - 6s 12ms/step - loss: 0.2957 - categorical_accuracy: 0.9317 - val_loss: 1.4341 - val_categorical_accuracy: 0.6882\n",
            "Epoch 6/10\n",
            "492/492 [==============================] - 6s 12ms/step - loss: 0.2340 - categorical_accuracy: 0.9459 - val_loss: 1.4730 - val_categorical_accuracy: 0.6894\n",
            "Epoch 7/10\n",
            "492/492 [==============================] - 6s 12ms/step - loss: 0.2047 - categorical_accuracy: 0.9506 - val_loss: 1.7203 - val_categorical_accuracy: 0.6692\n",
            "Epoch 8/10\n",
            "492/492 [==============================] - 6s 12ms/step - loss: 0.1900 - categorical_accuracy: 0.9541 - val_loss: 1.6219 - val_categorical_accuracy: 0.6906\n",
            "Epoch 9/10\n",
            "492/492 [==============================] - 6s 12ms/step - loss: 0.1767 - categorical_accuracy: 0.9559 - val_loss: 1.5972 - val_categorical_accuracy: 0.6918\n",
            "Epoch 10/10\n",
            "492/492 [==============================] - 6s 12ms/step - loss: 0.1637 - categorical_accuracy: 0.9550 - val_loss: 1.7828 - val_categorical_accuracy: 0.6758\n"
          ]
        },
        {
          "output_type": "display_data",
          "data": {
            "text/plain": [
              "<Figure size 432x288 with 1 Axes>"
            ],
            "image/png": "[encoded data removed]"
          },
          "metadata": {
            "needs_background": "light"
          }
        },
        {
          "output_type": "display_data",
          "data": {
            "text/plain": [
              "<Figure size 432x288 with 1 Axes>"
            ],
            "image/png": "[encoded data removed]"
          },
          "metadata": {
            "needs_background": "light"
          }
        }
      ],
      "source": [
        "modelgloveLSTM2 = model_glovelstm2()\n",
        "\n",
        "#compile model\n",
        "modelgloveLSTM2.compile(optimizer='adam',loss='categorical_crossentropy',metrics=['categorical_accuracy'])\n",
        "\n",
        "#fit and plot results\n",
        "# history = model.fit(x=np.concatenate((X_train, X_val)), y=np.concatenate((y_train, y_val)), batch_size=16, epochs=6)\n",
        "history = modelgloveLSTM2.fit(x=X_train, y=y_train, batch_size=16, epochs=10, validation_data=(X_val, y_val))\n",
        "\n",
        "generate_plots(history)\n",
        "\n",
        "# eval_model(model)"
      ]
    },
    {
      "cell_type": "markdown",
      "source": [
        "Setting epoch cutoff to 5 epochs, combining training and val data and re-training to evaluate performance of the model"
      ],
      "metadata": {
        "id": "d4DuRsxiYNRL"
      }
    },
    {
      "cell_type": "code",
      "source": [
        "modelgloveLSTM2 = model_glovelstm2()\n",
        "\n",
        "#compile model\n",
        "modelgloveLSTM2.compile(optimizer='adam',loss='categorical_crossentropy',metrics=['categorical_accuracy'])\n",
        "\n",
        "#fit and plot results\n",
        "history = modelgloveLSTM2.fit(x=np.concatenate((X_train, X_val)), y=np.concatenate((y_train, y_val)), batch_size=16, epochs=5)\n",
        "# history = modelgloveLSTM2.fit(x=X_train, y=y_train, batch_size=16, epochs=10, validation_data=(X_val, y_val))\n",
        "\n",
        "# generate_plots(history)\n",
        "\n",
        "eval_model(modelgloveLSTM2, X_test, y_test)"
      ],
      "metadata": {
        "colab": {
          "base_uri": "https://localhost:8080/"
        },
        "id": "986ltWn5YKx9",
        "outputId": "025e5d1b-43bc-473e-cfb8-89946c302c05"
      },
      "execution_count": 64,
      "outputs": [
        {
          "output_type": "stream",
          "name": "stdout",
          "text": [
            "Epoch 1/5\n",
            "597/597 [==============================] - 9s 11ms/step - loss: 1.7790 - categorical_accuracy: 0.5435\n",
            "Epoch 2/5\n",
            "597/597 [==============================] - 7s 11ms/step - loss: 1.1463 - categorical_accuracy: 0.7038\n",
            "Epoch 3/5\n",
            "597/597 [==============================] - 6s 11ms/step - loss: 0.7567 - categorical_accuracy: 0.8023\n",
            "Epoch 4/5\n",
            "597/597 [==============================] - 6s 11ms/step - loss: 0.4495 - categorical_accuracy: 0.8853\n",
            "Epoch 5/5\n",
            "597/597 [==============================] - 6s 11ms/step - loss: 0.3047 - categorical_accuracy: 0.9209\n",
            "53/53 [==============================] - 1s 6ms/step - loss: 1.4612 - categorical_accuracy: 0.7001\n",
            "Loss: 1.461\n",
            "Acc: 0.7\n"
          ]
        }
      ]
    },
    {
      "cell_type": "markdown",
      "source": [
        "Conclusion: Slight improvement (.69 --> .7) using two lstm layers instead of one"
      ],
      "metadata": {
        "id": "rL15y0U5Yo9B"
      }
    },
    {
      "cell_type": "code",
      "source": [
        "modelgloveLSTM2.save('modelglove2LSTM.h5')"
      ],
      "metadata": {
        "id": "oAoCEJ7WYmuf"
      },
      "execution_count": 65,
      "outputs": []
    },
    {
      "cell_type": "code",
      "source": [],
      "metadata": {
        "id": "pWAaQ7TuY450"
      },
      "execution_count": null,
      "outputs": []
    }
  ]
}