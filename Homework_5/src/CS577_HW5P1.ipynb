{
  "nbformat": 4,
  "nbformat_minor": 0,
  "metadata": {
    "colab": {
      "provenance": [],
      "machine_shape": "hm"
    },
    "kernelspec": {
      "name": "python3",
      "display_name": "Python 3"
    },
    "language_info": {
      "name": "python"
    },
    "accelerator": "GPU",
    "gpuClass": "premium"
  },
  "cells": [
    {
      "cell_type": "markdown",
      "source": [
        "# Sentiment Classification\n",
        "\n",
        "(a) Load the IMDB movie reviews sentiment classification data provided in Keras\n",
        "\n",
        "(b) Split the data into a training, validation and testing subsets.\n",
        "\n",
        "(c) Build a network with a trainable embedding layer and two fully connected layers (including the output layer)\n",
        "\n",
        "(d) Train and evaluate accuracy for sentiment classification\n",
        "\n",
        "(e) Download the GloVe word embedding file and load it into an embedding matrix. Initialize the embedding layer using the embedding matrix you loaded and freeze the weights.\n",
        "\n",
        "(f) Train and evaluate accuracy for sentiment classification with the embedding layer weights fixed.\n",
        "\n",
        "(g) Compare the results of trainable and loaded embedding layer and draw conclusions\n",
        "\n",
        "(h) Replace the fully connected layer with an LSTM layer and repeat training (Choose whether you want pretrained or trainable embedding layer).\n",
        "\n",
        "(i) Train, evaluate and draw conclusion"
      ],
      "metadata": {
        "id": "JzmIypUT1ZGd"
      }
    },
    {
      "cell_type": "markdown",
      "source": [
        "### (a) Load the IMDB movie reviews sentiment classification data provided in Keras and (b) Split the data into a training, validation and testing subsets."
      ],
      "metadata": {
        "id": "3ZlhP6os1edR"
      }
    },
    {
      "cell_type": "code",
      "execution_count": null,
      "metadata": {
        "id": "Exiuf9AA1TVz"
      },
      "outputs": [],
      "source": [
        "from keras.datasets import imdb\n",
        "from keras import preprocessing\n",
        "import tensorflow as tf\n",
        "import matplotlib.pyplot as plt\n",
        "import os\n",
        "import numpy as np"
      ]
    },
    {
      "cell_type": "code",
      "source": [
        "max_features = 10000\n",
        "embedding_dim = 100\n",
        "maxlen = 100\n",
        "\n",
        "(X_train, y_train), (X_test, y_test) = imdb.load_data(num_words=max_features)\n",
        "\n",
        "X_train = tf.keras.preprocessing.sequence.pad_sequences(X_train,maxlen=maxlen)\n",
        "X_test = tf.keras.preprocessing.sequence.pad_sequences(X_test,maxlen=maxlen)"
      ],
      "metadata": {
        "colab": {
          "base_uri": "https://localhost:8080/"
        },
        "id": "VosrQ8_-1vSb",
        "outputId": "a59fe1e4-704c-46ac-bdea-cb6b7a8dfc90"
      },
      "execution_count": null,
      "outputs": [
        {
          "output_type": "stream",
          "name": "stdout",
          "text": [
            "Downloading data from https://storage.googleapis.com/tensorflow/tf-keras-datasets/imdb.npz\n",
            "17464789/17464789 [==============================] - 0s 0us/step\n"
          ]
        }
      ]
    },
    {
      "cell_type": "code",
      "source": [
        "print(f'Size X_train: {len(X_train)}')\n",
        "print(f'Size y_train: {len(y_train)}')\n",
        "\n",
        "print(f'Size X_test: {len(X_test)}')\n",
        "print(f'Size y_test: {len(y_test)}')"
      ],
      "metadata": {
        "colab": {
          "base_uri": "https://localhost:8080/"
        },
        "id": "tZzmbrIH2AJM",
        "outputId": "55c2b9a1-c1fd-4494-c9b0-3cad9f112d84"
      },
      "execution_count": null,
      "outputs": [
        {
          "output_type": "stream",
          "name": "stdout",
          "text": [
            "Size X_train: 25000\n",
            "Size y_train: 25000\n",
            "Size X_test: 25000\n",
            "Size y_test: 25000\n"
          ]
        }
      ]
    },
    {
      "cell_type": "markdown",
      "source": [
        "So we have 50,000 total samples. Currently split in 25 25, this wont be a good split. I'm going to take a chunk from the test set and add it to the training set and then split the remaining of the test set into a test set and validation set"
      ],
      "metadata": {
        "id": "_37gHEIu2W7t"
      }
    },
    {
      "cell_type": "code",
      "source": [
        "X_train = np.concatenate((X_train, X_test[0:10000]))\n",
        "y_train = np.concatenate((y_train, y_test[0:10000]))\n",
        "\n",
        "#So the first 10,000 samples from X_test and y_test are now UNUSABLE, so we have to shrink X-test and ytest respectively\n",
        "X_test = X_test[10000:]\n",
        "y_test = y_test[10000:]\n",
        "\n",
        "#Currently the train set is of size 35,000. the test set is of size 15000, let's split the test set in half now so we have 7500 for val set and the remaining for test set\n",
        "X_val = X_test[0:7500]\n",
        "y_val = y_test[0:7500]\n",
        "\n",
        "# Now again, we need to reduce the size of the test set since we just split from it. the first 7500 samples from xtest and ytest are UNUSABLE for testing\n",
        "X_test = X_test[7500:]\n",
        "y_test = y_test[7500:]\n",
        "\n",
        "#print shapes\n",
        "print(f'Train set shape X: {X_train.shape}')\n",
        "print(f'Train set shape y: {y_train.shape}')\n",
        "\n",
        "print(f'Val set shape X: {X_val.shape}')\n",
        "print(f'Val set shape y: {y_val.shape}')\n",
        "\n",
        "print(f'Test set shape X: {X_test.shape}')\n",
        "print(f'Test set shape y: {y_test.shape}')\n",
        "\n"
      ],
      "metadata": {
        "colab": {
          "base_uri": "https://localhost:8080/"
        },
        "id": "_dquV0sF2Ugz",
        "outputId": "cbc4d95e-d746-4f91-baee-a1f7f907c7e8"
      },
      "execution_count": null,
      "outputs": [
        {
          "output_type": "stream",
          "name": "stdout",
          "text": [
            "Train set shape X: (35000, 100)\n",
            "Train set shape y: (35000,)\n",
            "Val set shape X: (7500, 100)\n",
            "Val set shape y: (7500,)\n",
            "Test set shape X: (7500, 100)\n",
            "Test set shape y: (7500,)\n"
          ]
        }
      ]
    },
    {
      "cell_type": "markdown",
      "source": [
        "We've now acquired a 70, 15, 15 split for the data. Lets proceed"
      ],
      "metadata": {
        "id": "q1JRUurf4KeO"
      }
    },
    {
      "cell_type": "markdown",
      "source": [
        "### (c) Build a network with a trainable embedding layer and two fully connected layers (including the output layer)"
      ],
      "metadata": {
        "id": "PG9Lrf-94TW5"
      }
    },
    {
      "cell_type": "code",
      "source": [
        "from keras import Sequential\n",
        "from keras.layers import Flatten, Dense, Embedding"
      ],
      "metadata": {
        "id": "b_2xs_a43T5x"
      },
      "execution_count": null,
      "outputs": []
    },
    {
      "cell_type": "code",
      "source": [
        "def model_init():\n",
        "\n",
        "  max_features = 10000\n",
        "  embedding_dim = 100\n",
        "  maxlen = 100\n",
        "  model = Sequential()\n",
        "\n",
        "  model.add(Embedding(max_features, embedding_dim, input_length=maxlen))\n",
        "  model.add(Flatten())\n",
        "  model.add(Dense(8,activation='relu'))\n",
        "  model.add(Dense(1,activation='sigmoid'))\n",
        "\n",
        "  return model"
      ],
      "metadata": {
        "id": "D3BLITcc4ajm"
      },
      "execution_count": null,
      "outputs": []
    },
    {
      "cell_type": "code",
      "source": [
        "model = model_init()\n",
        "model.summary()"
      ],
      "metadata": {
        "colab": {
          "base_uri": "https://localhost:8080/"
        },
        "id": "fxzhYC1E4igw",
        "outputId": "c93e9f1c-afa8-40ce-cd91-cd99a87f5c43"
      },
      "execution_count": null,
      "outputs": [
        {
          "output_type": "stream",
          "name": "stdout",
          "text": [
            "Model: \"sequential_3\"\n",
            "_________________________________________________________________\n",
            " Layer (type)                Output Shape              Param #   \n",
            "=================================================================\n",
            " embedding_3 (Embedding)     (None, 100, 100)          1000000   \n",
            "                                                                 \n",
            " flatten_3 (Flatten)         (None, 10000)             0         \n",
            "                                                                 \n",
            " dense_6 (Dense)             (None, 8)                 80008     \n",
            "                                                                 \n",
            " dense_7 (Dense)             (None, 1)                 9         \n",
            "                                                                 \n",
            "=================================================================\n",
            "Total params: 1,080,017\n",
            "Trainable params: 1,080,017\n",
            "Non-trainable params: 0\n",
            "_________________________________________________________________\n"
          ]
        }
      ]
    },
    {
      "cell_type": "markdown",
      "source": [
        "### (d) Train and evaluate accuracy for sentiment classification"
      ],
      "metadata": {
        "id": "dk9Bfgx44mgf"
      }
    },
    {
      "cell_type": "code",
      "source": [
        "# plotting function:\n",
        "def generate_plots(history):\n",
        "    #accuracies\n",
        "    plt.plot(history.history['acc'])\n",
        "    plt.plot(history.history['val_acc'])\n",
        "    plt.title('model accuracy')\n",
        "    plt.ylabel('accuracy')\n",
        "    plt.xlabel('epoch')\n",
        "    plt.legend(['train', 'val'], loc='upper left')\n",
        "    plt.show()\n",
        "    #loss curves\n",
        "    plt.plot(history.history['loss'])\n",
        "    plt.plot(history.history['val_loss'])\n",
        "    plt.title('model loss')\n",
        "    plt.ylabel('loss')\n",
        "    plt.xlabel('epoch')\n",
        "    plt.legend(['train', 'val'], loc='upper left')\n",
        "    plt.show()"
      ],
      "metadata": {
        "id": "k1WUHgn447TV"
      },
      "execution_count": null,
      "outputs": []
    },
    {
      "cell_type": "code",
      "source": [
        "model = model_init()\n",
        "\n",
        "#compile model\n",
        "model.compile(optimizer='adam',loss='binary_crossentropy',metrics=['acc'])\n",
        "\n",
        "#fit and plot results\n",
        "history = model.fit(x=X_train, y=y_train, batch_size=64, epochs=10, validation_data=(X_val, y_val))\n",
        "\n",
        "generate_plots(history)"
      ],
      "metadata": {
        "colab": {
          "base_uri": "https://localhost:8080/",
          "height": 901
        },
        "id": "U_LOXFmJ4kzo",
        "outputId": "c694a554-6683-40c0-b6f4-1355053afb15"
      },
      "execution_count": null,
      "outputs": [
        {
          "output_type": "stream",
          "name": "stdout",
          "text": [
            "Epoch 1/10\n",
            "547/547 [==============================] - 3s 4ms/step - loss: 0.4136 - acc: 0.8011 - val_loss: 0.3232 - val_acc: 0.8596\n",
            "Epoch 2/10\n",
            "547/547 [==============================] - 2s 3ms/step - loss: 0.1443 - acc: 0.9524 - val_loss: 0.3823 - val_acc: 0.8452\n",
            "Epoch 3/10\n",
            "547/547 [==============================] - 2s 3ms/step - loss: 0.0198 - acc: 0.9972 - val_loss: 0.4730 - val_acc: 0.8424\n",
            "Epoch 4/10\n",
            "547/547 [==============================] - 2s 3ms/step - loss: 0.0030 - acc: 0.9999 - val_loss: 0.5039 - val_acc: 0.8465\n",
            "Epoch 5/10\n",
            "547/547 [==============================] - 2s 3ms/step - loss: 9.2837e-04 - acc: 1.0000 - val_loss: 0.5382 - val_acc: 0.8469\n",
            "Epoch 6/10\n",
            "547/547 [==============================] - 2s 3ms/step - loss: 4.9304e-04 - acc: 1.0000 - val_loss: 0.5665 - val_acc: 0.8476\n",
            "Epoch 7/10\n",
            "547/547 [==============================] - 2s 3ms/step - loss: 3.0241e-04 - acc: 1.0000 - val_loss: 0.5883 - val_acc: 0.8491\n",
            "Epoch 8/10\n",
            "547/547 [==============================] - 2s 3ms/step - loss: 1.9614e-04 - acc: 1.0000 - val_loss: 0.6119 - val_acc: 0.8484\n",
            "Epoch 9/10\n",
            "547/547 [==============================] - 2s 3ms/step - loss: 1.3200e-04 - acc: 1.0000 - val_loss: 0.6319 - val_acc: 0.8491\n",
            "Epoch 10/10\n",
            "547/547 [==============================] - 2s 3ms/step - loss: 9.0615e-05 - acc: 1.0000 - val_loss: 0.6520 - val_acc: 0.8497\n"
          ]
        },
        {
          "output_type": "display_data",
          "data": {
            "text/plain": [
              "<Figure size 432x288 with 1 Axes>"
            ],
            "image/png": "[encoded data removed]"
          },
          "metadata": {
            "needs_background": "light"
          }
        },
        {
          "output_type": "display_data",
          "data": {
            "text/plain": [
              "<Figure size 432x288 with 1 Axes>"
            ],
            "image/png": "[encoded data removed]"
          },
          "metadata": {
            "needs_background": "light"
          }
        }
      ]
    },
    {
      "cell_type": "code",
      "source": [
        "model = model_init()\n",
        "\n",
        "#compile model\n",
        "model.compile(optimizer='adam',loss='binary_crossentropy',metrics=['acc'])\n",
        "\n",
        "#fit and plot results\n",
        "history = model.fit(x=X_train, y=y_train, batch_size=16, epochs=10, validation_data=(X_val, y_val)) #changed batch size\n",
        "\n",
        "generate_plots(history)"
      ],
      "metadata": {
        "colab": {
          "base_uri": "https://localhost:8080/",
          "height": 901
        },
        "id": "zbJsGL648Bw0",
        "outputId": "3839c7b6-e83a-4da0-88a3-4053c1162368"
      },
      "execution_count": null,
      "outputs": [
        {
          "output_type": "stream",
          "name": "stdout",
          "text": [
            "Epoch 1/10\n",
            "2188/2188 [==============================] - 8s 3ms/step - loss: 0.3907 - acc: 0.8164 - val_loss: 0.3260 - val_acc: 0.8568\n",
            "Epoch 2/10\n",
            "2188/2188 [==============================] - 7s 3ms/step - loss: 0.1172 - acc: 0.9586 - val_loss: 0.4547 - val_acc: 0.8328\n",
            "Epoch 3/10\n",
            "2188/2188 [==============================] - 7s 3ms/step - loss: 0.0152 - acc: 0.9955 - val_loss: 0.7224 - val_acc: 0.8305\n",
            "Epoch 4/10\n",
            "2188/2188 [==============================] - 7s 3ms/step - loss: 0.0047 - acc: 0.9988 - val_loss: 0.9816 - val_acc: 0.8175\n",
            "Epoch 5/10\n",
            "2188/2188 [==============================] - 7s 3ms/step - loss: 0.0121 - acc: 0.9957 - val_loss: 0.9771 - val_acc: 0.8209\n",
            "Epoch 6/10\n",
            "2188/2188 [==============================] - 7s 3ms/step - loss: 0.0122 - acc: 0.9960 - val_loss: 0.9835 - val_acc: 0.8315\n",
            "Epoch 7/10\n",
            "2188/2188 [==============================] - 7s 3ms/step - loss: 0.0028 - acc: 0.9990 - val_loss: 1.1556 - val_acc: 0.8276\n",
            "Epoch 8/10\n",
            "2188/2188 [==============================] - 7s 3ms/step - loss: 0.0057 - acc: 0.9980 - val_loss: 1.1750 - val_acc: 0.8212\n",
            "Epoch 9/10\n",
            "2188/2188 [==============================] - 7s 3ms/step - loss: 0.0055 - acc: 0.9983 - val_loss: 1.2250 - val_acc: 0.8191\n",
            "Epoch 10/10\n",
            "2188/2188 [==============================] - 7s 3ms/step - loss: 0.0040 - acc: 0.9983 - val_loss: 1.3056 - val_acc: 0.8109\n"
          ]
        },
        {
          "output_type": "display_data",
          "data": {
            "text/plain": [
              "<Figure size 432x288 with 1 Axes>"
            ],
            "image/png": "[encoded data removed]"
          },
          "metadata": {
            "needs_background": "light"
          }
        },
        {
          "output_type": "display_data",
          "data": {
            "text/plain": [
              "<Figure size 432x288 with 1 Axes>"
            ],
            "image/png": "[encoded data removed]"
          },
          "metadata": {
            "needs_background": "light"
          }
        }
      ]
    },
    {
      "cell_type": "markdown",
      "source": [
        "Model overfits very quickly, not a good model. – Let's evaluate performance by re-training on all training and val data and evaluating on test set for ONLY 2 EPOCHS."
      ],
      "metadata": {
        "id": "L9RqeOYq7SNk"
      }
    },
    {
      "cell_type": "code",
      "source": [
        "model = model_init()\n",
        "\n",
        "#compile model\n",
        "model.compile(optimizer='adam',loss='binary_crossentropy',metrics=['acc'])\n",
        "\n",
        "#fit and plot results\n",
        "history = model.fit(x=np.concatenate((X_train, X_val)), y=np.concatenate((y_train, y_val)), batch_size=64, epochs=2) #keeping batch size 64\n",
        "                    # validation_data=(X_val, y_val))\n",
        "\n",
        "# generate_plots(history)"
      ],
      "metadata": {
        "colab": {
          "base_uri": "https://localhost:8080/"
        },
        "id": "tTRyzTkF70N4",
        "outputId": "78aab67f-ef67-43b1-e0e1-fc0878841aa9"
      },
      "execution_count": null,
      "outputs": [
        {
          "output_type": "stream",
          "name": "stdout",
          "text": [
            "Epoch 1/2\n",
            "665/665 [==============================] - 3s 3ms/step - loss: 0.4007 - acc: 0.8098\n",
            "Epoch 2/2\n",
            "665/665 [==============================] - 2s 3ms/step - loss: 0.1506 - acc: 0.9498\n"
          ]
        }
      ]
    },
    {
      "cell_type": "code",
      "source": [
        "res = model.evaluate(X_test, y_test)\n",
        "print(f'Loss: {np.round(res[0], 3)}')\n",
        "print(f'Acc: {np.round(res[1], 3)}')"
      ],
      "metadata": {
        "colab": {
          "base_uri": "https://localhost:8080/"
        },
        "id": "WK8xdpVJ5Uwj",
        "outputId": "8855f6a2-f643-4b59-a597-2f521782237c"
      },
      "execution_count": null,
      "outputs": [
        {
          "output_type": "stream",
          "name": "stdout",
          "text": [
            "235/235 [==============================] - 1s 2ms/step - loss: 0.3586 - acc: 0.8507\n",
            "Loss: 0.359\n",
            "Acc: 0.851\n"
          ]
        }
      ]
    },
    {
      "cell_type": "code",
      "source": [
        "model.save('simple_model.h5')"
      ],
      "metadata": {
        "id": "5N02v8lnBNmZ"
      },
      "execution_count": null,
      "outputs": []
    },
    {
      "cell_type": "markdown",
      "source": [
        "### (e) Download the GloVe word embedding file and load it into an embedding matrix. Initialize the embedding layer using the embedding matrix you loaded and freeze the weights."
      ],
      "metadata": {
        "id": "RqPojB0k8ljf"
      }
    },
    {
      "cell_type": "code",
      "source": [
        "#download it\n",
        "!wget http://nlp.stanford.edu/data/glove.6B.zip\n",
        "\n",
        "#unzip it\n",
        "!unzip -q glove*.zip"
      ],
      "metadata": {
        "colab": {
          "base_uri": "https://localhost:8080/"
        },
        "id": "awB-er5R7pvg",
        "outputId": "141a5a42-0c34-422d-ae9c-97908040630b"
      },
      "execution_count": null,
      "outputs": [
        {
          "output_type": "stream",
          "name": "stdout",
          "text": [
            "--2022-11-19 22:13:02--  http://nlp.stanford.edu/data/glove.6B.zip\n",
            "Resolving nlp.stanford.edu (nlp.stanford.edu)... 171.64.67.140\n",
            "Connecting to nlp.stanford.edu (nlp.stanford.edu)|171.64.67.140|:80... connected.\n",
            "HTTP request sent, awaiting response... 302 Found\n",
            "Location: https://nlp.stanford.edu/data/glove.6B.zip [following]\n",
            "--2022-11-19 22:13:02--  https://nlp.stanford.edu/data/glove.6B.zip\n",
            "Connecting to nlp.stanford.edu (nlp.stanford.edu)|171.64.67.140|:443... connected.\n",
            "HTTP request sent, awaiting response... 301 Moved Permanently\n",
            "Location: https://downloads.cs.stanford.edu/nlp/data/glove.6B.zip [following]\n",
            "--2022-11-19 22:13:02--  https://downloads.cs.stanford.edu/nlp/data/glove.6B.zip\n",
            "Resolving downloads.cs.stanford.edu (downloads.cs.stanford.edu)... 171.64.64.22\n",
            "Connecting to downloads.cs.stanford.edu (downloads.cs.stanford.edu)|171.64.64.22|:443... connected.\n",
            "HTTP request sent, awaiting response... 200 OK\n",
            "Length: 862182613 (822M) [application/zip]\n",
            "Saving to: ‘glove.6B.zip.1’\n",
            "\n",
            "glove.6B.zip.1      100%[===================>] 822.24M  5.02MB/s    in 2m 39s  \n",
            "\n",
            "2022-11-19 22:15:42 (5.16 MB/s) - ‘glove.6B.zip.1’ saved [862182613/862182613]\n",
            "\n",
            "Archive:  glove.6B.zip\n",
            "  End-of-central-directory signature not found.  Either this file is not\n",
            "  a zipfile, or it constitutes one disk of a multi-part archive.  In the\n",
            "  latter case the central directory and zipfile comment will be found on\n",
            "  the last disk(s) of this archive.\n",
            "unzip:  cannot find zipfile directory in one of glove.6B.zip or\n",
            "        glove.6B.zip.zip, and cannot find glove.6B.zip.ZIP, period.\n"
          ]
        }
      ]
    },
    {
      "cell_type": "code",
      "source": [
        "glove_dir = '/content/'\n",
        "embeddings_index = {}\n",
        "f = open(os.path.join(glove_dir,'glove.6B.100d.txt'),encoding=\"utf8\")\n",
        "for line in f:\n",
        "    values = line.split()\n",
        "    word = values[0]\n",
        "    coefs = np.asarray(values[1:],dtype='float32')\n",
        "    embeddings_index[word] = coefs\n",
        "f.close()\n",
        "print(\"Found %s words vectors.\" %len(embeddings_index))\n",
        "# Build an embedding matrix to load the embedding layer\n",
        "embedding_matrix = np.zeros((max_features,embedding_dim))\n",
        "for word,i in imdb.get_word_index().items():\n",
        "    if i < max_features:\n",
        "        embeddings_vector = embeddings_index.get(word)\n",
        "        if embeddings_vector is not None:\n",
        "            embedding_matrix[i] = embeddings_vector"
      ],
      "metadata": {
        "colab": {
          "base_uri": "https://localhost:8080/"
        },
        "id": "eIHmVOlRAZv0",
        "outputId": "73a6cc6a-8727-4230-ac5c-7faa197500dc"
      },
      "execution_count": null,
      "outputs": [
        {
          "output_type": "stream",
          "name": "stdout",
          "text": [
            "Found 400000 words vectors.\n"
          ]
        }
      ]
    },
    {
      "cell_type": "code",
      "source": [
        "def model_glove():\n",
        "    model = Sequential()\n",
        "    model.add(tf.keras.layers.Embedding(10000,embedding_dim,input_length=maxlen))\n",
        "    model.add(Flatten())\n",
        "    model.add(tf.keras.layers.Dense(64,activation='relu'))\n",
        "    model.add(tf.keras.layers.Dense(1,activation='sigmoid'))\n",
        "    model.summary()\n",
        "\n",
        "    model.layers[0].set_weights([embedding_matrix])\n",
        "    model.layers[0].trainable = False\n",
        "\n",
        "    return model"
      ],
      "metadata": {
        "id": "jJbkPRauA0Bd"
      },
      "execution_count": null,
      "outputs": []
    },
    {
      "cell_type": "markdown",
      "source": [
        "### (f) Train and evaluate accuracy for sentiment classification with the embedding layer weights fixed."
      ],
      "metadata": {
        "id": "LUYQoffJBKee"
      }
    },
    {
      "cell_type": "code",
      "source": [
        "glovemodel = model_glove()\n",
        "\n",
        "glovemodel.compile(optimizer='adam',loss='binary_crossentropy',metrics=['acc'])\n",
        "\n",
        "history = glovemodel.fit(x=X_train, y=y_train, batch_size=64, epochs=10, validation_data=(X_val, y_val)) #changed batch size\n",
        "\n",
        "generate_plots(history)"
      ],
      "metadata": {
        "colab": {
          "base_uri": "https://localhost:8080/",
          "height": 1000
        },
        "id": "f_egxvR3BHkf",
        "outputId": "0272bdaf-0dd3-45e1-8d15-156747f38c60"
      },
      "execution_count": null,
      "outputs": [
        {
          "output_type": "stream",
          "name": "stdout",
          "text": [
            "Model: \"sequential_9\"\n",
            "_________________________________________________________________\n",
            " Layer (type)                Output Shape              Param #   \n",
            "=================================================================\n",
            " embedding_9 (Embedding)     (None, 100, 100)          1000000   \n",
            "                                                                 \n",
            " flatten_9 (Flatten)         (None, 10000)             0         \n",
            "                                                                 \n",
            " dense_18 (Dense)            (None, 64)                640064    \n",
            "                                                                 \n",
            " dense_19 (Dense)            (None, 1)                 65        \n",
            "                                                                 \n",
            "=================================================================\n",
            "Total params: 1,640,129\n",
            "Trainable params: 1,640,129\n",
            "Non-trainable params: 0\n",
            "_________________________________________________________________\n",
            "Epoch 1/10\n",
            "547/547 [==============================] - 2s 3ms/step - loss: 0.6940 - acc: 0.5459 - val_loss: 0.6806 - val_acc: 0.5556\n",
            "Epoch 2/10\n",
            "547/547 [==============================] - 2s 3ms/step - loss: 0.6507 - acc: 0.6171 - val_loss: 0.6807 - val_acc: 0.5743\n",
            "Epoch 3/10\n",
            "547/547 [==============================] - 2s 3ms/step - loss: 0.6153 - acc: 0.6620 - val_loss: 0.6798 - val_acc: 0.5975\n",
            "Epoch 4/10\n",
            "547/547 [==============================] - 2s 3ms/step - loss: 0.5892 - acc: 0.6861 - val_loss: 0.6913 - val_acc: 0.5957\n",
            "Epoch 5/10\n",
            "547/547 [==============================] - 2s 3ms/step - loss: 0.5669 - acc: 0.7055 - val_loss: 0.7182 - val_acc: 0.5793\n",
            "Epoch 6/10\n",
            "547/547 [==============================] - 2s 3ms/step - loss: 0.5471 - acc: 0.7203 - val_loss: 0.7190 - val_acc: 0.5895\n",
            "Epoch 7/10\n",
            "547/547 [==============================] - 2s 3ms/step - loss: 0.5294 - acc: 0.7314 - val_loss: 0.7563 - val_acc: 0.5913\n",
            "Epoch 8/10\n",
            "547/547 [==============================] - 2s 3ms/step - loss: 0.5044 - acc: 0.7473 - val_loss: 0.7612 - val_acc: 0.5907\n",
            "Epoch 9/10\n",
            "547/547 [==============================] - 2s 3ms/step - loss: 0.4774 - acc: 0.7630 - val_loss: 0.7944 - val_acc: 0.5891\n",
            "Epoch 10/10\n",
            "547/547 [==============================] - 2s 3ms/step - loss: 0.4500 - acc: 0.7801 - val_loss: 0.8594 - val_acc: 0.5848\n"
          ]
        },
        {
          "output_type": "display_data",
          "data": {
            "text/plain": [
              "<Figure size 432x288 with 1 Axes>"
            ],
            "image/png": "[encoded data removed]"
          },
          "metadata": {
            "needs_background": "light"
          }
        },
        {
          "output_type": "display_data",
          "data": {
            "text/plain": [
              "<Figure size 432x288 with 1 Axes>"
            ],
            "image/png": "[encoded data removed]"
          },
          "metadata": {
            "needs_background": "light"
          }
        }
      ]
    },
    {
      "cell_type": "code",
      "source": [
        "# Let's combine the data, and evaluate performance (and only train for 3 epochs)\n",
        "glovemodel = model_glove()\n",
        "\n",
        "glovemodel.compile(optimizer='adam',loss='binary_crossentropy',metrics=['acc'])\n",
        "\n",
        "history = glovemodel.fit(x=np.concatenate((X_train, X_val)), y=np.concatenate((y_train, y_val)), batch_size=64, epochs=3)\n",
        "                        #  validation_data=(X_val, y_val))\n",
        "\n",
        "# generate_plots(history)\n",
        "res_glove_trainablefalse = glovemodel.evaluate(X_test, y_test)\n",
        "print(f'Loss: {np.round(res_glove_trainablefalse[0], 3)}')\n",
        "print(f'Acc: {np.round(res_glove_trainablefalse[1], 3)}')\n"
      ],
      "metadata": {
        "colab": {
          "base_uri": "https://localhost:8080/"
        },
        "id": "vUPvjwOFB1z3",
        "outputId": "8cc28c59-c7e9-4f98-8e9b-e4aa207535f6"
      },
      "execution_count": null,
      "outputs": [
        {
          "output_type": "stream",
          "name": "stdout",
          "text": [
            "Model: \"sequential_11\"\n",
            "_________________________________________________________________\n",
            " Layer (type)                Output Shape              Param #   \n",
            "=================================================================\n",
            " embedding_11 (Embedding)    (None, 100, 100)          1000000   \n",
            "                                                                 \n",
            " flatten_11 (Flatten)        (None, 10000)             0         \n",
            "                                                                 \n",
            " dense_22 (Dense)            (None, 64)                640064    \n",
            "                                                                 \n",
            " dense_23 (Dense)            (None, 1)                 65        \n",
            "                                                                 \n",
            "=================================================================\n",
            "Total params: 1,640,129\n",
            "Trainable params: 1,640,129\n",
            "Non-trainable params: 0\n",
            "_________________________________________________________________\n",
            "Epoch 1/3\n",
            "665/665 [==============================] - 2s 3ms/step - loss: 0.6922 - acc: 0.5440\n",
            "Epoch 2/3\n",
            "665/665 [==============================] - 2s 3ms/step - loss: 0.6509 - acc: 0.6187\n",
            "Epoch 3/3\n",
            "665/665 [==============================] - 2s 3ms/step - loss: 0.6202 - acc: 0.6571\n",
            "235/235 [==============================] - 1s 2ms/step - loss: 0.6879 - acc: 0.5855\n",
            "Loss: 0.688\n",
            "Acc: 0.585\n"
          ]
        }
      ]
    },
    {
      "cell_type": "markdown",
      "source": [
        "Not good, model got worst from last time"
      ],
      "metadata": {
        "id": "wnkuBxKWCMHk"
      }
    },
    {
      "cell_type": "code",
      "source": [
        "glovemodel.save('trainablefalse_glove.h5')"
      ],
      "metadata": {
        "id": "YO0sIaL4CSM1"
      },
      "execution_count": null,
      "outputs": []
    },
    {
      "cell_type": "markdown",
      "source": [
        "### (g) Compare the results of trainable and loaded embedding layer and draw conclusions."
      ],
      "metadata": {
        "id": "UEybmRXqBiuV"
      }
    },
    {
      "cell_type": "code",
      "source": [
        "def model_glove_trainableTrue():\n",
        "    model = Sequential()\n",
        "    model.add(tf.keras.layers.Embedding(10000,embedding_dim,input_length=maxlen))\n",
        "    model.add(Flatten())\n",
        "    model.add(tf.keras.layers.Dense(64,activation='relu'))\n",
        "    model.add(tf.keras.layers.Dense(1,activation='sigmoid'))\n",
        "    # model.summary()\n",
        "\n",
        "    model.layers[0].set_weights([embedding_matrix])\n",
        "    model.layers[0].trainable = True\n",
        "\n",
        "    return model"
      ],
      "metadata": {
        "id": "ADKag29hCOlb"
      },
      "execution_count": null,
      "outputs": []
    },
    {
      "cell_type": "code",
      "source": [
        "glovemodel_2 = model_glove_trainableTrue()\n",
        "\n",
        "glovemodel_2.compile(optimizer='adam',loss='binary_crossentropy',metrics=['acc'])\n",
        "\n",
        "history = glovemodel_2.fit(x=X_train, y=y_train, batch_size=64, epochs=10, validation_data=(X_val, y_val)) #changed batch size\n",
        "\n",
        "generate_plots(history)"
      ],
      "metadata": {
        "colab": {
          "base_uri": "https://localhost:8080/",
          "height": 901
        },
        "id": "e7CluMb0Ck-s",
        "outputId": "86d9267c-b208-4795-8bf9-2dbc910a4a1a"
      },
      "execution_count": null,
      "outputs": [
        {
          "output_type": "stream",
          "name": "stdout",
          "text": [
            "Epoch 1/10\n",
            "547/547 [==============================] - 3s 4ms/step - loss: 0.7016 - acc: 0.5024 - val_loss: 0.6932 - val_acc: 0.4989\n",
            "Epoch 2/10\n",
            "547/547 [==============================] - 2s 4ms/step - loss: 0.6933 - acc: 0.4971 - val_loss: 0.6931 - val_acc: 0.5013\n",
            "Epoch 3/10\n",
            "547/547 [==============================] - 2s 3ms/step - loss: 0.6932 - acc: 0.4990 - val_loss: 0.6931 - val_acc: 0.4987\n",
            "Epoch 4/10\n",
            "547/547 [==============================] - 2s 3ms/step - loss: 0.6926 - acc: 0.5020 - val_loss: 0.6925 - val_acc: 0.5069\n",
            "Epoch 5/10\n",
            "547/547 [==============================] - 2s 3ms/step - loss: 0.6507 - acc: 0.5776 - val_loss: 0.4722 - val_acc: 0.7737\n",
            "Epoch 6/10\n",
            "547/547 [==============================] - 2s 3ms/step - loss: 0.3466 - acc: 0.8477 - val_loss: 0.3726 - val_acc: 0.8329\n",
            "Epoch 7/10\n",
            "547/547 [==============================] - 2s 3ms/step - loss: 0.1997 - acc: 0.9245 - val_loss: 0.3885 - val_acc: 0.8383\n",
            "Epoch 8/10\n",
            "547/547 [==============================] - 2s 3ms/step - loss: 0.1030 - acc: 0.9685 - val_loss: 0.4748 - val_acc: 0.8288\n",
            "Epoch 9/10\n",
            "547/547 [==============================] - 2s 4ms/step - loss: 0.0382 - acc: 0.9930 - val_loss: 0.5584 - val_acc: 0.8296\n",
            "Epoch 10/10\n",
            "547/547 [==============================] - 2s 3ms/step - loss: 0.0136 - acc: 0.9982 - val_loss: 0.6360 - val_acc: 0.8300\n"
          ]
        },
        {
          "output_type": "display_data",
          "data": {
            "text/plain": [
              "<Figure size 432x288 with 1 Axes>"
            ],
            "image/png": "[encoded data removed]"
          },
          "metadata": {
            "needs_background": "light"
          }
        },
        {
          "output_type": "display_data",
          "data": {
            "text/plain": [
              "<Figure size 432x288 with 1 Axes>"
            ],
            "image/png": "[encoded data removed]"
          },
          "metadata": {
            "needs_background": "light"
          }
        }
      ]
    },
    {
      "cell_type": "markdown",
      "source": [
        "Interesting. Let's set the cutoff to like 7 epochs and re-train and evaluate the performance"
      ],
      "metadata": {
        "id": "Zh8VwiY3CyNt"
      }
    },
    {
      "cell_type": "code",
      "source": [
        "glovemodel_2 = model_glove_trainableTrue()\n",
        "\n",
        "glovemodel_2.compile(optimizer='adam',loss='binary_crossentropy',metrics=['acc'])\n",
        "\n",
        "glovemodel_2.fit(x=np.concatenate((X_train, X_val)), y=np.concatenate((y_train, y_val)), batch_size=64, epochs=7)\n",
        "\n",
        "# generate_plots(history)\n",
        "\n",
        "# generate_plots(history)\n",
        "res_glove_trainableTrue = glovemodel_2.evaluate(X_test, y_test)\n",
        "print(f'Loss: {np.round(res_glove_trainableTrue[0], 3)}')\n",
        "print(f'Acc: {np.round(res_glove_trainableTrue[1], 3)}')\n"
      ],
      "metadata": {
        "colab": {
          "base_uri": "https://localhost:8080/"
        },
        "id": "7sayqK7SC12X",
        "outputId": "3840f38e-5342-494a-b6d1-2c4177cb1b41"
      },
      "execution_count": null,
      "outputs": [
        {
          "output_type": "stream",
          "name": "stdout",
          "text": [
            "Epoch 1/7\n",
            "665/665 [==============================] - 3s 3ms/step - loss: 0.6956 - acc: 0.5131\n",
            "Epoch 2/7\n",
            "665/665 [==============================] - 2s 3ms/step - loss: 0.4734 - acc: 0.7616\n",
            "Epoch 3/7\n",
            "665/665 [==============================] - 2s 3ms/step - loss: 0.2603 - acc: 0.8929\n",
            "Epoch 4/7\n",
            "665/665 [==============================] - 2s 3ms/step - loss: 0.1646 - acc: 0.9421\n",
            "Epoch 5/7\n",
            "665/665 [==============================] - 2s 3ms/step - loss: 0.0837 - acc: 0.9772\n",
            "Epoch 6/7\n",
            "665/665 [==============================] - 2s 3ms/step - loss: 0.0311 - acc: 0.9960\n",
            "Epoch 7/7\n",
            "665/665 [==============================] - 2s 3ms/step - loss: 0.0121 - acc: 0.9989\n",
            "235/235 [==============================] - 1s 2ms/step - loss: 0.5501 - acc: 0.8437\n",
            "Loss: 0.55\n",
            "Acc: 0.844\n"
          ]
        }
      ]
    },
    {
      "cell_type": "markdown",
      "source": [
        "### (h) Replace the fully connected layer with an LSTM layer and repeat training (choose whether you want pretrained or trainable embedding layer)"
      ],
      "metadata": {
        "id": "ek6qOmNUBj15"
      }
    },
    {
      "cell_type": "code",
      "source": [
        "def model_glove_trainableTrue_LSTM():\n",
        "    model = Sequential()\n",
        "    model.add(tf.keras.layers.Embedding(10000,embedding_dim,input_length=maxlen))\n",
        "    # model.add(Flatten())\n",
        "    # model.add(tf.keras.layers.Dense(64,activation='relu'))\n",
        "    model.add(tf.keras.layers.LSTM(units=64,return_sequences = True))\n",
        "    model.add(Flatten())\n",
        "    model.add(tf.keras.layers.Dense(1,activation='sigmoid'))\n",
        "    model.layers[0].set_weights([embedding_matrix])\n",
        "    model.layers[0].trainable = True\n",
        "\n",
        "    return model"
      ],
      "metadata": {
        "id": "rZ5ZK4WCDaXH"
      },
      "execution_count": null,
      "outputs": []
    },
    {
      "cell_type": "code",
      "source": [
        "modelglove3 = model_glove_trainableTrue_LSTM()\n",
        "modelglove3.summary()"
      ],
      "metadata": {
        "colab": {
          "base_uri": "https://localhost:8080/"
        },
        "id": "dOZxpAE6DqUJ",
        "outputId": "5385d366-102b-45a0-8c31-e21c4e3dcc61"
      },
      "execution_count": null,
      "outputs": [
        {
          "output_type": "stream",
          "name": "stdout",
          "text": [
            "Model: \"sequential_19\"\n",
            "_________________________________________________________________\n",
            " Layer (type)                Output Shape              Param #   \n",
            "=================================================================\n",
            " embedding_19 (Embedding)    (None, 100, 100)          1000000   \n",
            "                                                                 \n",
            " lstm_3 (LSTM)               (None, 100, 64)           42240     \n",
            "                                                                 \n",
            " flatten_18 (Flatten)        (None, 6400)              0         \n",
            "                                                                 \n",
            " dense_33 (Dense)            (None, 1)                 6401      \n",
            "                                                                 \n",
            "=================================================================\n",
            "Total params: 1,048,641\n",
            "Trainable params: 1,048,641\n",
            "Non-trainable params: 0\n",
            "_________________________________________________________________\n"
          ]
        }
      ]
    },
    {
      "cell_type": "markdown",
      "source": [
        "### (i) Train, evaluate, and draw conclusion.\n"
      ],
      "metadata": {
        "id": "eIZXJsFPBnlD"
      }
    },
    {
      "cell_type": "code",
      "source": [
        "modelglove3 = model_glove_trainableTrue_LSTM()\n",
        "\n",
        "modelglove3.compile(optimizer='adam',loss='binary_crossentropy',metrics=['acc'])\n",
        "\n",
        "history = modelglove3.fit(x=X_train, y=y_train, batch_size=64, epochs=10, validation_data=(X_val, y_val)) #changed batch size\n",
        "\n",
        "generate_plots(history)"
      ],
      "metadata": {
        "colab": {
          "base_uri": "https://localhost:8080/",
          "height": 901
        },
        "id": "QhW5Oes_Bc8z",
        "outputId": "35d53e1f-fcf9-4b5e-c851-7b0b7b3e32e5"
      },
      "execution_count": null,
      "outputs": [
        {
          "output_type": "stream",
          "name": "stdout",
          "text": [
            "Epoch 1/10\n",
            "547/547 [==============================] - 10s 10ms/step - loss: 0.4965 - acc: 0.7310 - val_loss: 0.3451 - val_acc: 0.8464\n",
            "Epoch 2/10\n",
            "547/547 [==============================] - 5s 9ms/step - loss: 0.2802 - acc: 0.8811 - val_loss: 0.3313 - val_acc: 0.8565\n",
            "Epoch 3/10\n",
            "547/547 [==============================] - 5s 9ms/step - loss: 0.2081 - acc: 0.9169 - val_loss: 0.3432 - val_acc: 0.8559\n",
            "Epoch 4/10\n",
            "547/547 [==============================] - 5s 9ms/step - loss: 0.1409 - acc: 0.9481 - val_loss: 0.4155 - val_acc: 0.8493\n",
            "Epoch 5/10\n",
            "547/547 [==============================] - 5s 9ms/step - loss: 0.0763 - acc: 0.9757 - val_loss: 0.5195 - val_acc: 0.8407\n",
            "Epoch 6/10\n",
            "547/547 [==============================] - 5s 9ms/step - loss: 0.0323 - acc: 0.9913 - val_loss: 0.7308 - val_acc: 0.8368\n",
            "Epoch 7/10\n",
            "547/547 [==============================] - 5s 9ms/step - loss: 0.0122 - acc: 0.9976 - val_loss: 0.8941 - val_acc: 0.8351\n",
            "Epoch 8/10\n",
            "547/547 [==============================] - 5s 9ms/step - loss: 0.0052 - acc: 0.9992 - val_loss: 1.0365 - val_acc: 0.8415\n",
            "Epoch 9/10\n",
            "547/547 [==============================] - 5s 9ms/step - loss: 0.0049 - acc: 0.9987 - val_loss: 1.0238 - val_acc: 0.8399\n",
            "Epoch 10/10\n",
            "547/547 [==============================] - 5s 9ms/step - loss: 0.0046 - acc: 0.9993 - val_loss: 1.1409 - val_acc: 0.8353\n"
          ]
        },
        {
          "output_type": "display_data",
          "data": {
            "text/plain": [
              "<Figure size 432x288 with 1 Axes>"
            ],
            "image/png": "[encoded data removed]"
          },
          "metadata": {
            "needs_background": "light"
          }
        },
        {
          "output_type": "display_data",
          "data": {
            "text/plain": [
              "<Figure size 432x288 with 1 Axes>"
            ],
            "image/png": "[encoded data removed]"
          },
          "metadata": {
            "needs_background": "light"
          }
        }
      ]
    },
    {
      "cell_type": "markdown",
      "source": [
        "Tuning a bit"
      ],
      "metadata": {
        "id": "6Dfsk6jREXWH"
      }
    },
    {
      "cell_type": "code",
      "source": [
        "modelglove3 = model_glove_trainableTrue_LSTM()\n",
        "\n",
        "modelglove3.compile(optimizer='adam',loss='binary_crossentropy',metrics=['acc'])\n",
        "\n",
        "history = modelglove3.fit(x=X_train, y=y_train, batch_size=128, epochs=10, validation_data=(X_val, y_val)) #changed batch size\n",
        "\n",
        "generate_plots(history)"
      ],
      "metadata": {
        "colab": {
          "base_uri": "https://localhost:8080/",
          "height": 901
        },
        "id": "sE2L2HeZEJJo",
        "outputId": "b7c2ed94-3089-46c0-d93a-ee4c7eea592e"
      },
      "execution_count": null,
      "outputs": [
        {
          "output_type": "stream",
          "name": "stdout",
          "text": [
            "Epoch 1/10\n",
            "274/274 [==============================] - 5s 12ms/step - loss: 0.5316 - acc: 0.7108 - val_loss: 0.3796 - val_acc: 0.8343\n",
            "Epoch 2/10\n",
            "274/274 [==============================] - 3s 10ms/step - loss: 0.3138 - acc: 0.8655 - val_loss: 0.3355 - val_acc: 0.8555\n",
            "Epoch 3/10\n",
            "274/274 [==============================] - 3s 10ms/step - loss: 0.2439 - acc: 0.8993 - val_loss: 0.3432 - val_acc: 0.8568\n",
            "Epoch 4/10\n",
            "274/274 [==============================] - 3s 10ms/step - loss: 0.1933 - acc: 0.9234 - val_loss: 0.3894 - val_acc: 0.8515\n",
            "Epoch 5/10\n",
            "274/274 [==============================] - 3s 11ms/step - loss: 0.1443 - acc: 0.9455 - val_loss: 0.4139 - val_acc: 0.8471\n",
            "Epoch 6/10\n",
            "274/274 [==============================] - 3s 11ms/step - loss: 0.0974 - acc: 0.9665 - val_loss: 0.5280 - val_acc: 0.8393\n",
            "Epoch 7/10\n",
            "274/274 [==============================] - 3s 11ms/step - loss: 0.0553 - acc: 0.9829 - val_loss: 0.6664 - val_acc: 0.8403\n",
            "Epoch 8/10\n",
            "274/274 [==============================] - 3s 11ms/step - loss: 0.0266 - acc: 0.9929 - val_loss: 0.7976 - val_acc: 0.8345\n",
            "Epoch 9/10\n",
            "274/274 [==============================] - 3s 11ms/step - loss: 0.0133 - acc: 0.9969 - val_loss: 0.9828 - val_acc: 0.8384\n",
            "Epoch 10/10\n",
            "274/274 [==============================] - 3s 10ms/step - loss: 0.0054 - acc: 0.9993 - val_loss: 1.1113 - val_acc: 0.8352\n"
          ]
        },
        {
          "output_type": "display_data",
          "data": {
            "text/plain": [
              "<Figure size 432x288 with 1 Axes>"
            ],
            "image/png": "[encoded data removed]"
          },
          "metadata": {
            "needs_background": "light"
          }
        },
        {
          "output_type": "display_data",
          "data": {
            "text/plain": [
              "<Figure size 432x288 with 1 Axes>"
            ],
            "image/png": "[encoded data removed]"
          },
          "metadata": {
            "needs_background": "light"
          }
        }
      ]
    },
    {
      "cell_type": "markdown",
      "source": [
        "Let's combine data, re-train and evaluate performance"
      ],
      "metadata": {
        "id": "plGKjybMEgpu"
      }
    },
    {
      "cell_type": "code",
      "source": [
        "modelglove3 = model_glove_trainableTrue_LSTM()\n",
        "\n",
        "modelglove3.compile(optimizer='adam',loss='binary_crossentropy',metrics=['acc'])\n",
        "\n",
        "history = modelglove3.fit(x=np.concatenate((X_train, X_val)), y=np.concatenate((y_train, y_val)), batch_size=64, epochs=3)\n",
        "\n",
        "# generate_plots(history)\n",
        "res_glove_trainableTrue_lstm = modelglove3.evaluate(X_test, y_test)\n",
        "print(f'Loss: {np.round(res_glove_trainableTrue_lstm[0], 3)}')\n",
        "print(f'Acc: {np.round(res_glove_trainableTrue_lstm[1], 3)}')\n"
      ],
      "metadata": {
        "colab": {
          "base_uri": "https://localhost:8080/"
        },
        "id": "ElcvePVoEcL0",
        "outputId": "9049ccdd-645b-42e2-ab08-77940641eece"
      },
      "execution_count": null,
      "outputs": [
        {
          "output_type": "stream",
          "name": "stdout",
          "text": [
            "Epoch 1/3\n",
            "665/665 [==============================] - 7s 8ms/step - loss: 0.4636 - acc: 0.7622\n",
            "Epoch 2/3\n",
            "665/665 [==============================] - 5s 8ms/step - loss: 0.2745 - acc: 0.8853\n",
            "Epoch 3/3\n",
            "665/665 [==============================] - 5s 8ms/step - loss: 0.2115 - acc: 0.9142\n",
            "235/235 [==============================] - 1s 4ms/step - loss: 0.3105 - acc: 0.8688\n",
            "Loss: 0.311\n",
            "Acc: 0.869\n"
          ]
        }
      ]
    },
    {
      "cell_type": "code",
      "source": [
        "modelglove3.save('trainabletrue_glove_lstm.h5')"
      ],
      "metadata": {
        "id": "4fwUEgRtFKEE"
      },
      "execution_count": null,
      "outputs": []
    },
    {
      "cell_type": "markdown",
      "source": [
        "Best performance yet.\n",
        "\n",
        "Conclusion:\n",
        "Having a trainable glove embedding layer with LSTM delivers best performance, followed by making our own embedding layer & dense network, then lastly we have fixed weights glove embedding layer with fully connected network"
      ],
      "metadata": {
        "id": "TRz20PJCE8Og"
      }
    },
    {
      "cell_type": "code",
      "source": [],
      "metadata": {
        "id": "p9UZvsYWE0SG"
      },
      "execution_count": null,
      "outputs": []
    }
  ]
}