{
  "nbformat": 4,
  "nbformat_minor": 0,
  "metadata": {
    "colab": {
      "provenance": [],
      "collapsed_sections": []
    },
    "kernelspec": {
      "name": "python3",
      "display_name": "Python 3"
    },
    "language_info": {
      "name": "python"
    },
    "accelerator": "GPU",
    "gpuClass": "standard"
  },
  "cells": [
    {
      "cell_type": "code",
      "execution_count": 1,
      "metadata": {
        "id": "_IjnsKn_ppJD"
      },
      "outputs": [],
      "source": [
        "import tensorflow as tf\n",
        "import os\n",
        "import random\n",
        "import shutil\n",
        "from keras.preprocessing.image import ImageDataGenerator"
      ]
    },
    {
      "cell_type": "markdown",
      "source": [
        "## Pre-Processing"
      ],
      "metadata": {
        "id": "eqXCnFZnEI7O"
      }
    },
    {
      "cell_type": "code",
      "source": [
        "def get_data():\n",
        "    !wget 'https://download.microsoft.com/download/3/E/1/3E1C3F21-ECDB-4869-8368-6DEBA77B919F/kagglecatsanddogs_5340.zip'\n",
        "    try:\n",
        "        from zipfile import ZipFile\n",
        "    except ImportError:\n",
        "        return\n",
        "    \n",
        "    fname = \"kagglecatsanddogs_5340.zip\"\n",
        "\n",
        "    with ZipFile(fname,'r') as zip:\n",
        "        zip.extractall()\n",
        "    \n",
        "    #corrupt images\n",
        "    !rm PetImages/Cat/666.jpg\n",
        "    !rm PetImages/Dog/11702.jpg\n",
        "    \n",
        "    print('Done Extracting data')\n"
      ],
      "metadata": {
        "id": "n1sAM-0du3K4"
      },
      "execution_count": 2,
      "outputs": []
    },
    {
      "cell_type": "code",
      "source": [
        "get_data()"
      ],
      "metadata": {
        "colab": {
          "base_uri": "https://localhost:8080/"
        },
        "id": "w_DEIUMI8H-v",
        "outputId": "77322f6e-f141-4074-8a55-de2cfcf76c25"
      },
      "execution_count": 3,
      "outputs": [
        {
          "output_type": "stream",
          "name": "stdout",
          "text": [
            "--2022-11-11 21:42:54--  https://download.microsoft.com/download/3/E/1/3E1C3F21-ECDB-4869-8368-6DEBA77B919F/kagglecatsanddogs_5340.zip\n",
            "Resolving download.microsoft.com (download.microsoft.com)... 23.55.181.109, 2600:1413:b000:793::317f, 2600:1413:b000:78a::317f\n",
            "Connecting to download.microsoft.com (download.microsoft.com)|23.55.181.109|:443... connected.\n",
            "HTTP request sent, awaiting response... 200 OK\n",
            "Length: 824887076 (787M) [application/octet-stream]\n",
            "Saving to: ‘kagglecatsanddogs_5340.zip’\n",
            "\n",
            "kagglecatsanddogs_5 100%[===================>] 786.67M   230MB/s    in 3.4s    \n",
            "\n",
            "2022-11-11 21:42:58 (231 MB/s) - ‘kagglecatsanddogs_5340.zip’ saved [824887076/824887076]\n",
            "\n",
            "Done Extracting data\n"
          ]
        }
      ]
    },
    {
      "cell_type": "code",
      "source": [
        "path_cat='/content/PetImages/Cat/'\n",
        "path_dog='/content/PetImages/Dog'\n",
        "\n",
        "#randomly selecting 2000 cat images and dog images\n",
        "img_list_cat = random.sample(os.listdir('/content/PetImages/Cat/'), k=2000)\n",
        "img_list_dog = random.sample(os.listdir('/content/PetImages/Dog'), k=2000)\n",
        "\n",
        "# deleting images so only 2000 randomly selected images remain\n",
        "[os.remove(os.path.join(path_cat, file)) for file in os.listdir('/content/PetImages/Cat/') if file not in img_list_cat]\n",
        "[os.remove(os.path.join(path_dog, file)) for file in os.listdir('/content/PetImages/Dog/') if file not in img_list_dog]\n",
        "print('Done')"
      ],
      "metadata": {
        "colab": {
          "base_uri": "https://localhost:8080/"
        },
        "id": "G-28XLb4Bnhr",
        "outputId": "d1316c78-cb5a-45ec-dd01-115cf2e107f0"
      },
      "execution_count": 4,
      "outputs": [
        {
          "output_type": "stream",
          "name": "stdout",
          "text": [
            "Done\n"
          ]
        }
      ]
    },
    {
      "cell_type": "code",
      "source": [
        "print(len(os.listdir(path_cat)))\n",
        "print(len(os.listdir(path_dog)))"
      ],
      "metadata": {
        "colab": {
          "base_uri": "https://localhost:8080/"
        },
        "id": "OGT3DrzeAfHq",
        "outputId": "c71a0fa6-75e1-47de-db69-cccea89b49b6"
      },
      "execution_count": 5,
      "outputs": [
        {
          "output_type": "stream",
          "name": "stdout",
          "text": [
            "2000\n",
            "2000\n"
          ]
        }
      ]
    },
    {
      "cell_type": "markdown",
      "source": [
        "### Making test, train and val folders for generator"
      ],
      "metadata": {
        "id": "JolKW3qyErmv"
      }
    },
    {
      "cell_type": "code",
      "source": [
        "def train_test_val():\n",
        "    path='Data/'\n",
        "\n",
        "    #if files already exist, remove all the data in them\n",
        "    try:\n",
        "        os.mkdir('Data/')\n",
        "    except FileExistsError:\n",
        "        !rm 'Data/' -r\n",
        "    \n",
        "    !mkdir 'Data/'\n",
        "    !mkdir 'Data/Train/'\n",
        "    !mkdir 'Data/Train/Cat/'\n",
        "    !mkdir 'Data/Train/Dog/'\n",
        "    !mkdir 'Data/Test/'\n",
        "    !mkdir 'Data/Test/Cat/'\n",
        "    !mkdir 'Data/Test/Dog/'\n",
        "    !mkdir 'Data/Val/'\n",
        "    !mkdir 'Data/Val/Cat/'\n",
        "    !mkdir 'Data/Val/Dog/'\n",
        "\n",
        "\n",
        "    # Now need to move files around\n",
        "    # We'll use a 70 15 15 split, 70% training data, 15% validation data, 15% testing data\n",
        "    \n",
        "    # Cats\n",
        "    src_cat = '/content/PetImages/Cat/'\n",
        "    dst_train_cat = '/content/Data/Train/Cat/'\n",
        "    dst_test_cat = '/content/Data/Test/Cat/'\n",
        "    dst_val_cat = '/content/Data/Val/Cat/'\n",
        "\n",
        "    train_cat_data =os.listdir('/content/PetImages/Cat/')[0:1400] #70%\n",
        "    test_cat_data = os.listdir('/content/PetImages/Cat/')[1401:1700] #~15%\n",
        "    val_cat_data = os.listdir('/content/PetImages/Cat/')[1701:] #~15%\n",
        "    \n",
        "    # Dogs\n",
        "    src_dog = '/content/PetImages/Dog/'\n",
        "    dst_train_dog = '/content/Data/Train/Dog/'\n",
        "    dst_test_dog = '/content/Data/Test/Dog/'\n",
        "    dst_val_dog = '/content/Data/Val/Dog/'\n",
        "\n",
        "    train_dog_data =os.listdir('/content/PetImages/Dog/')[0:1400] #70%\n",
        "    test_dog_data = os.listdir('/content/PetImages/Dog/')[1401:1700] #15%\n",
        "    val_dog_data = os.listdir('/content/PetImages/Dog/')[1701:] #15%\n",
        "\n",
        "    # using shutil.move()\n",
        "    print('Moving dogs...')\n",
        "    [shutil.move(src=os.path.join(src_dog, file), dst=os.path.join(dst_train_dog, file)) for file in train_dog_data]\n",
        "    [shutil.move(src=os.path.join(src_dog, file), dst=os.path.join(dst_test_dog, file)) for file in test_dog_data]\n",
        "    [shutil.move(src=os.path.join(src_dog, file), dst=os.path.join(dst_val_dog, file)) for file in val_dog_data]\n",
        "    print('Done moving dogs')\n",
        "\n",
        "    print('Moving cats...')\n",
        "    [shutil.move(src=os.path.join(src_cat, file), dst=os.path.join(dst_train_cat, file)) for file in train_cat_data]\n",
        "    [shutil.move(src=os.path.join(src_cat, file), dst=os.path.join(dst_test_cat, file)) for file in test_cat_data]\n",
        "    [shutil.move(src=os.path.join(src_cat, file), dst=os.path.join(dst_val_cat, file)) for file in val_cat_data]\n",
        "    print('Done moving cats')\n",
        "\n",
        "    print(f'Size of train cat dir: {len(os.listdir(dst_train_cat))}')\n",
        "    print(f'Size of test cat dir: {len(os.listdir(dst_test_cat))}')\n",
        "    print(f'Size of val cat dir: {len(os.listdir(dst_val_cat))}')\n",
        "    print(f'Size of train dog dir: {len(os.listdir(dst_train_dog))}')\n",
        "    print(f'Size of test dog dir: {len(os.listdir(dst_test_dog))}')\n",
        "    print(f'Size of val dog dir: {len(os.listdir(dst_val_dog))}')\n"
      ],
      "metadata": {
        "id": "I3ktyBCZD-0a"
      },
      "execution_count": 6,
      "outputs": []
    },
    {
      "cell_type": "code",
      "source": [
        "train_test_val()"
      ],
      "metadata": {
        "colab": {
          "base_uri": "https://localhost:8080/"
        },
        "id": "xTLcMAmjSPku",
        "outputId": "2afdb6a9-d72c-4985-df84-d9329aab8c64"
      },
      "execution_count": 7,
      "outputs": [
        {
          "output_type": "stream",
          "name": "stdout",
          "text": [
            "mkdir: cannot create directory ‘Data/’: File exists\n",
            "Moving dogs...\n",
            "Done moving dogs\n",
            "Moving cats...\n",
            "Done moving cats\n",
            "Size of train cat dir: 1400\n",
            "Size of test cat dir: 299\n",
            "Size of val cat dir: 299\n",
            "Size of train dog dir: 1400\n",
            "Size of test dog dir: 299\n",
            "Size of val dog dir: 299\n"
          ]
        }
      ]
    },
    {
      "cell_type": "markdown",
      "source": [
        "#### Instantiating generators"
      ],
      "metadata": {
        "id": "xfNUgZFxaMHF"
      }
    },
    {
      "cell_type": "code",
      "source": [
        "train_dir = '/content/Data/Train/'\n",
        "test_dir = '/content/Data/Test/'\n",
        "val_dir = '/content/Data/Val/'\n",
        "\n",
        "img_dim = 150\n",
        "batch_size = 32\n",
        "datagen = ImageDataGenerator()\n",
        "\n",
        "train_generator = datagen.flow_from_directory(\n",
        "    train_dir,\n",
        "    target_size=(img_dim, img_dim),\n",
        "    batch_size=batch_size,\n",
        "    class_mode='binary',\n",
        "    subset='training')\n",
        "\n",
        "\n",
        "test_generator = datagen.flow_from_directory(\n",
        "    test_dir,\n",
        "    target_size=(img_dim, img_dim),\n",
        "    batch_size=batch_size,\n",
        "    class_mode='binary',\n",
        "    subset='training') \n",
        "\n",
        "\n",
        "val_generator = datagen.flow_from_directory(\n",
        "    val_dir,\n",
        "    target_size=(img_dim, img_dim),\n",
        "    batch_size=batch_size,\n",
        "    class_mode='binary',\n",
        "    subset='training')"
      ],
      "metadata": {
        "colab": {
          "base_uri": "https://localhost:8080/"
        },
        "id": "kT_hYKhGUO4Q",
        "outputId": "594efc0b-d968-4658-af2b-2048b38928ab"
      },
      "execution_count": 8,
      "outputs": [
        {
          "output_type": "stream",
          "name": "stdout",
          "text": [
            "Found 2800 images belonging to 2 classes.\n",
            "Found 598 images belonging to 2 classes.\n",
            "Found 598 images belonging to 2 classes.\n"
          ]
        }
      ]
    },
    {
      "cell_type": "markdown",
      "source": [
        "## Model Development"
      ],
      "metadata": {
        "id": "NW5_EcTVbpEE"
      }
    },
    {
      "cell_type": "code",
      "source": [
        "#Imports\n",
        "from keras import layers\n",
        "from keras import models\n",
        "from keras import optimizers\n",
        "import matplotlib.pyplot as plt"
      ],
      "metadata": {
        "id": "lQOYwEuRXWhP"
      },
      "execution_count": 9,
      "outputs": []
    },
    {
      "cell_type": "code",
      "source": [
        "def model_init():\n",
        "    model = models.Sequential()\n",
        "\n",
        "    model.add(layers.Conv2D(filters=32, kernel_size=(3,3), activation='relu', input_shape=(img_dim, img_dim, 3)))\n",
        "    model.add(layers.MaxPooling2D(2,2))\n",
        "    \n",
        "    model.add(layers.Conv2D(64, (3,3), activation='relu'))\n",
        "    model.add(layers.BatchNormalization())\n",
        "    model.add(layers.MaxPooling2D(2,2))\n",
        "    model.add(layers.Dropout(rate=0.25))\n",
        "\n",
        "    model.add(layers.Conv2D(128, (3,3), activation='relu'))\n",
        "    model.add(layers.MaxPooling2D(2,2))\n",
        "    \n",
        "    model.add(layers.Conv2D(128, (3,3), activation='relu'))\n",
        "    model.add(layers.MaxPooling2D(2,2))\n",
        "\n",
        "    model.add(layers.Flatten())\n",
        "    model.add(layers.Dense(units=256, activation='relu'))\n",
        "\n",
        "    model.add(layers.Dense(units=1, activation='sigmoid'))\n",
        "\n",
        "    return model\n",
        "\n"
      ],
      "metadata": {
        "id": "m-efyKQpUR8E"
      },
      "execution_count": null,
      "outputs": []
    },
    {
      "cell_type": "code",
      "source": [
        "model = model_init()\n",
        "model.summary()"
      ],
      "metadata": {
        "colab": {
          "base_uri": "https://localhost:8080/"
        },
        "id": "Z3VHmrDcaIRk",
        "outputId": "7fcb3718-abb7-4c60-bf71-03e7811e7a2b"
      },
      "execution_count": null,
      "outputs": [
        {
          "output_type": "stream",
          "name": "stdout",
          "text": [
            "Model: \"sequential_4\"\n",
            "_________________________________________________________________\n",
            " Layer (type)                Output Shape              Param #   \n",
            "=================================================================\n",
            " conv2d_12 (Conv2D)          (None, 148, 148, 32)      896       \n",
            "                                                                 \n",
            " max_pooling2d_12 (MaxPoolin  (None, 74, 74, 32)       0         \n",
            " g2D)                                                            \n",
            "                                                                 \n",
            " conv2d_13 (Conv2D)          (None, 72, 72, 64)        18496     \n",
            "                                                                 \n",
            " batch_normalization_3 (Batc  (None, 72, 72, 64)       256       \n",
            " hNormalization)                                                 \n",
            "                                                                 \n",
            " max_pooling2d_13 (MaxPoolin  (None, 36, 36, 64)       0         \n",
            " g2D)                                                            \n",
            "                                                                 \n",
            " dropout_3 (Dropout)         (None, 36, 36, 64)        0         \n",
            "                                                                 \n",
            " conv2d_14 (Conv2D)          (None, 34, 34, 128)       73856     \n",
            "                                                                 \n",
            " max_pooling2d_14 (MaxPoolin  (None, 17, 17, 128)      0         \n",
            " g2D)                                                            \n",
            "                                                                 \n",
            " conv2d_15 (Conv2D)          (None, 15, 15, 128)       147584    \n",
            "                                                                 \n",
            " max_pooling2d_15 (MaxPoolin  (None, 7, 7, 128)        0         \n",
            " g2D)                                                            \n",
            "                                                                 \n",
            " flatten_4 (Flatten)         (None, 6272)              0         \n",
            "                                                                 \n",
            " dense_8 (Dense)             (None, 256)               1605888   \n",
            "                                                                 \n",
            " dense_9 (Dense)             (None, 1)                 257       \n",
            "                                                                 \n",
            "=================================================================\n",
            "Total params: 1,847,233\n",
            "Trainable params: 1,847,105\n",
            "Non-trainable params: 128\n",
            "_________________________________________________________________\n"
          ]
        }
      ]
    },
    {
      "cell_type": "markdown",
      "source": [
        "### Training model"
      ],
      "metadata": {
        "id": "nRBFrMSvaRgI"
      }
    },
    {
      "cell_type": "code",
      "source": [
        "# compile the model\n",
        "model.compile(loss='binary_crossentropy', optimizer='adam', metrics=['acc'])"
      ],
      "metadata": {
        "id": "VbW-EYxAaKND"
      },
      "execution_count": null,
      "outputs": []
    },
    {
      "cell_type": "code",
      "source": [
        "history = model.fit_generator(\n",
        "    generator=train_generator,\n",
        "    steps_per_epoch=round(train_generator.samples/train_generator.batch_size),\n",
        "    epochs=10,\n",
        "    validation_data=val_generator,\n",
        "    validation_steps=round(val_generator.samples/val_generator.batch_size),\n",
        "    # verbose=0\n",
        "    # workers = 10,use_multiprocessing=True)\n",
        ")"
      ],
      "metadata": {
        "colab": {
          "base_uri": "https://localhost:8080/"
        },
        "id": "fYcKON-samA-",
        "outputId": "4e273447-2b3f-4280-a5bc-c2024b367246"
      },
      "execution_count": null,
      "outputs": [
        {
          "output_type": "stream",
          "name": "stderr",
          "text": [
            "/usr/local/lib/python3.7/dist-packages/ipykernel_launcher.py:6: UserWarning: `Model.fit_generator` is deprecated and will be removed in a future version. Please use `Model.fit`, which supports generators.\n",
            "  \n"
          ]
        },
        {
          "output_type": "stream",
          "name": "stdout",
          "text": [
            "Epoch 1/10\n",
            "88/88 [==============================] - 28s 314ms/step - loss: 0.8327 - acc: 0.5071 - val_loss: 0.6844 - val_acc: 0.5468\n",
            "Epoch 2/10\n",
            "88/88 [==============================] - 26s 299ms/step - loss: 0.6911 - acc: 0.5264 - val_loss: 0.6935 - val_acc: 0.5000\n",
            "Epoch 3/10\n",
            "88/88 [==============================] - 26s 299ms/step - loss: 0.6954 - acc: 0.4886 - val_loss: 0.6932 - val_acc: 0.5000\n",
            "Epoch 4/10\n",
            "88/88 [==============================] - 27s 303ms/step - loss: 0.6933 - acc: 0.4989 - val_loss: 0.6931 - val_acc: 0.5000\n",
            "Epoch 5/10\n",
            "88/88 [==============================] - 27s 301ms/step - loss: 0.6942 - acc: 0.4979 - val_loss: 0.6932 - val_acc: 0.5000\n",
            "Epoch 6/10\n",
            "88/88 [==============================] - 27s 303ms/step - loss: 0.6941 - acc: 0.4939 - val_loss: 0.6931 - val_acc: 0.5000\n",
            "Epoch 7/10\n",
            "88/88 [==============================] - 27s 313ms/step - loss: 0.6932 - acc: 0.4996 - val_loss: 0.6931 - val_acc: 0.5000\n",
            "Epoch 8/10\n",
            "88/88 [==============================] - 27s 302ms/step - loss: 0.6934 - acc: 0.5057 - val_loss: 0.6932 - val_acc: 0.5000\n",
            "Epoch 9/10\n",
            "88/88 [==============================] - 26s 298ms/step - loss: 0.6935 - acc: 0.4907 - val_loss: 0.6932 - val_acc: 0.5000\n",
            "Epoch 10/10\n",
            "88/88 [==============================] - 27s 302ms/step - loss: 0.6934 - acc: 0.4900 - val_loss: 0.6931 - val_acc: 0.4983\n"
          ]
        }
      ]
    },
    {
      "cell_type": "markdown",
      "source": [
        "Let's visualize the results:"
      ],
      "metadata": {
        "id": "1BoyDDAVdlFE"
      }
    },
    {
      "cell_type": "code",
      "source": [
        "# plotting function:\n",
        "def generate_plots(history):\n",
        "    #accuracies\n",
        "    plt.plot(history.history['acc'])\n",
        "    plt.plot(history.history['val_acc'])\n",
        "    plt.title('model accuracy')\n",
        "    plt.ylabel('accuracy')\n",
        "    plt.xlabel('epoch')\n",
        "    plt.legend(['train', 'val'], loc='upper left')\n",
        "    plt.show()\n",
        "    #loss curves\n",
        "    plt.plot(history.history['loss'])\n",
        "    plt.plot(history.history['val_loss'])\n",
        "    plt.title('model loss')\n",
        "    plt.ylabel('loss')\n",
        "    plt.xlabel('epoch')\n",
        "    plt.legend(['train', 'val'], loc='upper left')\n",
        "    plt.show()"
      ],
      "metadata": {
        "id": "nc113sQ4dkjb"
      },
      "execution_count": null,
      "outputs": []
    },
    {
      "cell_type": "code",
      "source": [
        "generate_plots(history=history)"
      ],
      "metadata": {
        "colab": {
          "base_uri": "https://localhost:8080/",
          "height": 573
        },
        "id": "DCxVPGI8cOsa",
        "outputId": "806a3f9c-b68e-4e07-dacf-3dcc8ed1cf91"
      },
      "execution_count": null,
      "outputs": [
        {
          "output_type": "display_data",
          "data": {
            "text/plain": [
              "<Figure size 432x288 with 1 Axes>"
            ],
            "image/png": "[encoded data removed]"
          },
          "metadata": {
            "needs_background": "light"
          }
        },
        {
          "output_type": "display_data",
          "data": {
            "text/plain": [
              "<Figure size 432x288 with 1 Axes>"
            ],
            "image/png": "[encoded data removed]"
          },
          "metadata": {
            "needs_background": "light"
          }
        }
      ]
    },
    {
      "cell_type": "markdown",
      "source": [
        "It's showing signs of over-fitting right away"
      ],
      "metadata": {
        "id": "XKkFY-hGeFK0"
      }
    },
    {
      "cell_type": "code",
      "source": [
        "results = model.evaluate(test_generator, steps=round(test_generator.samples/test_generator.batch_size))\n",
        "print(f'Model test accuracy: {results[1]}')\n",
        "print(f'Model test loss: {results[0]}')"
      ],
      "metadata": {
        "colab": {
          "base_uri": "https://localhost:8080/"
        },
        "id": "xkQ96JzHespm",
        "outputId": "e1b7c567-987c-4680-b0af-02d95a4330be"
      },
      "execution_count": null,
      "outputs": [
        {
          "output_type": "stream",
          "name": "stdout",
          "text": [
            "19/19 [==============================] - 2s 91ms/step - loss: 0.6943 - acc: 0.5033\n",
            "Model test accuracy: 0.5033444762229919\n",
            "Model test loss: 0.6943406462669373\n"
          ]
        }
      ]
    },
    {
      "cell_type": "markdown",
      "source": [
        "### Visualizing Activations"
      ],
      "metadata": {
        "id": "bFZtwgt5hawZ"
      }
    },
    {
      "cell_type": "code",
      "source": [
        "# from keras.preprocessing import image\n",
        "import numpy as np"
      ],
      "metadata": {
        "id": "glXRINTOhcJu"
      },
      "execution_count": null,
      "outputs": []
    },
    {
      "cell_type": "code",
      "source": [
        "img = tf.keras.preprocessing.image.load_img('/content/Data/Val/Cat/10048.jpg', target_size=(img_dim, img_dim))"
      ],
      "metadata": {
        "id": "eKlTV9J8i6YC"
      },
      "execution_count": null,
      "outputs": []
    },
    {
      "cell_type": "code",
      "source": [
        "img_tensor = tf.keras.preprocessing.image.img_to_array(img)\n",
        "# expand dims\n",
        "img_tensor = np.expand_dims(img_tensor, axis=0)\n",
        "#normalize\n",
        "img_tensor /= 255.\n",
        "\n",
        "print(img_tensor.shape)"
      ],
      "metadata": {
        "colab": {
          "base_uri": "https://localhost:8080/"
        },
        "id": "8WLYJFdUjqOe",
        "outputId": "38e2c636-e8af-41b0-b7ea-794f963fe215"
      },
      "execution_count": null,
      "outputs": [
        {
          "output_type": "stream",
          "name": "stdout",
          "text": [
            "(1, 150, 150, 3)\n"
          ]
        }
      ]
    },
    {
      "cell_type": "code",
      "source": [
        "plt.imshow(img_tensor[0])\n",
        "plt.show()"
      ],
      "metadata": {
        "colab": {
          "base_uri": "https://localhost:8080/",
          "height": 269
        },
        "id": "w4-r591ejj0C",
        "outputId": "bc99f87e-c794-455c-a33b-c8388d17f095"
      },
      "execution_count": null,
      "outputs": [
        {
          "output_type": "display_data",
          "data": {
            "text/plain": [
              "<Figure size 432x288 with 1 Axes>"
            ],
            "image/png": "[encoded data removed]"
          },
          "metadata": {
            "needs_background": "light"
          }
        }
      ]
    },
    {
      "cell_type": "code",
      "source": [
        "# select outputs of the top 8 layers\n",
        "layer_outputs = [layer.output for layer in model.layers[:8]]\n",
        "\n",
        "#create new model\n",
        "activation_model = models.Model(inputs=model.input, outputs=layer_outputs)\n",
        "\n",
        "#run the model on the image\n",
        "activations = activation_model.predict(img_tensor)\n",
        "\n",
        "#examine the returned activations\n",
        "first_layer_activation = activations[0]\n",
        "print(f'first layer activation shape: {first_layer_activation.shape}')\n",
        "\n",
        "#let's visualize the 3rd and 7th activation layers\n",
        "plt.matshow(first_layer_activation[0,:,:,3], cmap='viridis')\n",
        "plt.matshow(first_layer_activation[0,:,:,7], cmap='viridis')\n",
        "\n",
        "\n"
      ],
      "metadata": {
        "colab": {
          "base_uri": "https://localhost:8080/",
          "height": 584
        },
        "id": "VS0_a_Rtkar0",
        "outputId": "9ec84ae3-1b8e-4586-d8e3-e92ed0cdd440"
      },
      "execution_count": null,
      "outputs": [
        {
          "output_type": "stream",
          "name": "stdout",
          "text": [
            "1/1 [==============================] - 0s 63ms/step\n",
            "first layer activation shape: (1, 148, 148, 32)\n"
          ]
        },
        {
          "output_type": "execute_result",
          "data": {
            "text/plain": [
              "<matplotlib.image.AxesImage at 0x7f47261dacd0>"
            ]
          },
          "metadata": {},
          "execution_count": 71
        },
        {
          "output_type": "display_data",
          "data": {
            "text/plain": [
              "<Figure size 288x288 with 1 Axes>"
            ],
            "image/png": "[encoded data removed]"
          },
          "metadata": {
            "needs_background": "light"
          }
        },
        {
          "output_type": "display_data",
          "data": {
            "text/plain": [
              "<Figure size 288x288 with 1 Axes>"
            ],
            "image/png": "[encoded data removed]"
          },
          "metadata": {
            "needs_background": "light"
          }
        }
      ]
    },
    {
      "cell_type": "markdown",
      "source": [
        "Conclusion: In the third layer it seems to be trying to detect stuff like walls and straight lines. In the 7th layer though we see a majority of the important stuff being detected like the roundness of the cat around its rear and also some activation around its eyes and ears. "
      ],
      "metadata": {
        "id": "nNc6GLwTmyF-"
      }
    },
    {
      "cell_type": "code",
      "source": [],
      "metadata": {
        "id": "J3XgU-dAmjWB"
      },
      "execution_count": null,
      "outputs": []
    },
    {
      "cell_type": "markdown",
      "source": [
        "### Visualizing filters that maximize response"
      ],
      "metadata": {
        "id": "CF8W2S2CnaRd"
      }
    },
    {
      "cell_type": "code",
      "source": [
        "from keras import backend as K"
      ],
      "metadata": {
        "id": "EMUfnoApnb7k"
      },
      "execution_count": null,
      "outputs": []
    },
    {
      "cell_type": "code",
      "source": [
        "model.summary()"
      ],
      "metadata": {
        "colab": {
          "base_uri": "https://localhost:8080/"
        },
        "id": "hq5hd7mkuDyL",
        "outputId": "4c25a680-3b09-4f31-b80b-6c9648ffed37"
      },
      "execution_count": null,
      "outputs": [
        {
          "output_type": "stream",
          "name": "stdout",
          "text": [
            "Model: \"sequential_11\"\n",
            "_________________________________________________________________\n",
            " Layer (type)                Output Shape              Param #   \n",
            "=================================================================\n",
            " conv2d_44 (Conv2D)          (None, 148, 148, 32)      896       \n",
            "                                                                 \n",
            " max_pooling2d_44 (MaxPoolin  (None, 74, 74, 32)       0         \n",
            " g2D)                                                            \n",
            "                                                                 \n",
            " conv2d_45 (Conv2D)          (None, 72, 72, 64)        18496     \n",
            "                                                                 \n",
            " batch_normalization_11 (Bat  (None, 72, 72, 64)       256       \n",
            " chNormalization)                                                \n",
            "                                                                 \n",
            " max_pooling2d_45 (MaxPoolin  (None, 36, 36, 64)       0         \n",
            " g2D)                                                            \n",
            "                                                                 \n",
            " dropout_11 (Dropout)        (None, 36, 36, 64)        0         \n",
            "                                                                 \n",
            " conv2d_46 (Conv2D)          (None, 34, 34, 128)       73856     \n",
            "                                                                 \n",
            " max_pooling2d_46 (MaxPoolin  (None, 17, 17, 128)      0         \n",
            " g2D)                                                            \n",
            "                                                                 \n",
            " conv2d_47 (Conv2D)          (None, 15, 15, 128)       147584    \n",
            "                                                                 \n",
            " max_pooling2d_47 (MaxPoolin  (None, 7, 7, 128)        0         \n",
            " g2D)                                                            \n",
            "                                                                 \n",
            " flatten_11 (Flatten)        (None, 6272)              0         \n",
            "                                                                 \n",
            " dense_22 (Dense)            (None, 256)               1605888   \n",
            "                                                                 \n",
            " dense_23 (Dense)            (None, 1)                 257       \n",
            "                                                                 \n",
            "=================================================================\n",
            "Total params: 1,847,233\n",
            "Trainable params: 1,847,105\n",
            "Non-trainable params: 128\n",
            "_________________________________________________________________\n"
          ]
        }
      ]
    },
    {
      "cell_type": "code",
      "source": [
        "layer_output = model.get_layer('conv2d_47').output\n",
        "filter_index = 0\n",
        "loss = K.mean(layer_output[:,:,:,filter_index])"
      ],
      "metadata": {
        "id": "1mnE2LLUuRcM"
      },
      "execution_count": null,
      "outputs": []
    },
    {
      "cell_type": "code",
      "source": [
        "# Compute loss wrt grads\n",
        "grads=K.gradients(loss, model.input)[0]\n",
        "\n",
        "#normalize grads\n",
        "grads /= (K.sqrt(K.mean(K.square(grads))) + 1e-5)"
      ],
      "metadata": {
        "colab": {
          "base_uri": "https://localhost:8080/",
          "height": 392
        },
        "id": "DQchFoNxwE8w",
        "outputId": "1acee9dd-fac6-4fc4-c4f3-187d0cb4d318"
      },
      "execution_count": null,
      "outputs": [
        {
          "output_type": "error",
          "ename": "RuntimeError",
          "evalue": "ignored",
          "traceback": [
            "\u001b[0;31m---------------------------------------------------------------------------\u001b[0m",
            "\u001b[0;31mRuntimeError\u001b[0m                              Traceback (most recent call last)",
            "\u001b[0;32m<ipython-input-101-c759f6d2ee17>\u001b[0m in \u001b[0;36m<module>\u001b[0;34m\u001b[0m\n\u001b[1;32m      1\u001b[0m \u001b[0;31m# Compute loss wrt grads\u001b[0m\u001b[0;34m\u001b[0m\u001b[0;34m\u001b[0m\u001b[0;34m\u001b[0m\u001b[0m\n\u001b[0;32m----> 2\u001b[0;31m \u001b[0mgrads\u001b[0m\u001b[0;34m=\u001b[0m\u001b[0mK\u001b[0m\u001b[0;34m.\u001b[0m\u001b[0mgradients\u001b[0m\u001b[0;34m(\u001b[0m\u001b[0mloss\u001b[0m\u001b[0;34m,\u001b[0m \u001b[0mmodel\u001b[0m\u001b[0;34m.\u001b[0m\u001b[0minput\u001b[0m\u001b[0;34m)\u001b[0m\u001b[0;34m[\u001b[0m\u001b[0;36m0\u001b[0m\u001b[0;34m]\u001b[0m\u001b[0;34m\u001b[0m\u001b[0;34m\u001b[0m\u001b[0m\n\u001b[0m\u001b[1;32m      3\u001b[0m \u001b[0;34m\u001b[0m\u001b[0m\n\u001b[1;32m      4\u001b[0m \u001b[0;31m#normalize grads\u001b[0m\u001b[0;34m\u001b[0m\u001b[0;34m\u001b[0m\u001b[0;34m\u001b[0m\u001b[0m\n\u001b[1;32m      5\u001b[0m \u001b[0mgrads\u001b[0m \u001b[0;34m/=\u001b[0m \u001b[0;34m(\u001b[0m\u001b[0mK\u001b[0m\u001b[0;34m.\u001b[0m\u001b[0msqrt\u001b[0m\u001b[0;34m(\u001b[0m\u001b[0mK\u001b[0m\u001b[0;34m.\u001b[0m\u001b[0mmean\u001b[0m\u001b[0;34m(\u001b[0m\u001b[0mK\u001b[0m\u001b[0;34m.\u001b[0m\u001b[0msquare\u001b[0m\u001b[0;34m(\u001b[0m\u001b[0mgrads\u001b[0m\u001b[0;34m)\u001b[0m\u001b[0;34m)\u001b[0m\u001b[0;34m)\u001b[0m \u001b[0;34m+\u001b[0m \u001b[0;36m1e-5\u001b[0m\u001b[0;34m)\u001b[0m\u001b[0;34m\u001b[0m\u001b[0;34m\u001b[0m\u001b[0m\n",
            "\u001b[0;32m/usr/local/lib/python3.7/dist-packages/keras/backend.py\u001b[0m in \u001b[0;36mgradients\u001b[0;34m(loss, variables)\u001b[0m\n\u001b[1;32m   4360\u001b[0m   \"\"\"\n\u001b[1;32m   4361\u001b[0m   return tf.compat.v1.gradients(\n\u001b[0;32m-> 4362\u001b[0;31m       loss, variables, colocate_gradients_with_ops=True)\n\u001b[0m\u001b[1;32m   4363\u001b[0m \u001b[0;34m\u001b[0m\u001b[0m\n\u001b[1;32m   4364\u001b[0m \u001b[0;34m\u001b[0m\u001b[0m\n",
            "\u001b[0;32m/usr/local/lib/python3.7/dist-packages/tensorflow/python/ops/gradients_impl.py\u001b[0m in \u001b[0;36mgradients\u001b[0;34m(ys, xs, grad_ys, name, colocate_gradients_with_ops, gate_gradients, aggregation_method, stop_gradients, unconnected_gradients)\u001b[0m\n\u001b[1;32m    166\u001b[0m         \u001b[0mys\u001b[0m\u001b[0;34m,\u001b[0m \u001b[0mxs\u001b[0m\u001b[0;34m,\u001b[0m \u001b[0mgrad_ys\u001b[0m\u001b[0;34m,\u001b[0m \u001b[0mname\u001b[0m\u001b[0;34m,\u001b[0m \u001b[0mcolocate_gradients_with_ops\u001b[0m\u001b[0;34m,\u001b[0m\u001b[0;34m\u001b[0m\u001b[0;34m\u001b[0m\u001b[0m\n\u001b[1;32m    167\u001b[0m         \u001b[0mgate_gradients\u001b[0m\u001b[0;34m,\u001b[0m \u001b[0maggregation_method\u001b[0m\u001b[0;34m,\u001b[0m \u001b[0mstop_gradients\u001b[0m\u001b[0;34m,\u001b[0m\u001b[0;34m\u001b[0m\u001b[0;34m\u001b[0m\u001b[0m\n\u001b[0;32m--> 168\u001b[0;31m         unconnected_gradients)\n\u001b[0m\u001b[1;32m    169\u001b[0m   \u001b[0;31m# pylint: enable=protected-access\u001b[0m\u001b[0;34m\u001b[0m\u001b[0;34m\u001b[0m\u001b[0;34m\u001b[0m\u001b[0m\n\u001b[1;32m    170\u001b[0m \u001b[0;34m\u001b[0m\u001b[0m\n",
            "\u001b[0;32m/usr/local/lib/python3.7/dist-packages/tensorflow/python/ops/gradients_util.py\u001b[0m in \u001b[0;36m_GradientsHelper\u001b[0;34m(ys, xs, grad_ys, name, colocate_gradients_with_ops, gate_gradients, aggregation_method, stop_gradients, unconnected_gradients, src_graph)\u001b[0m\n\u001b[1;32m    477\u001b[0m   \u001b[0;34m\"\"\"Implementation of gradients().\"\"\"\u001b[0m\u001b[0;34m\u001b[0m\u001b[0;34m\u001b[0m\u001b[0m\n\u001b[1;32m    478\u001b[0m   \u001b[0;32mif\u001b[0m \u001b[0mcontext\u001b[0m\u001b[0;34m.\u001b[0m\u001b[0mexecuting_eagerly\u001b[0m\u001b[0;34m(\u001b[0m\u001b[0;34m)\u001b[0m\u001b[0;34m:\u001b[0m\u001b[0;34m\u001b[0m\u001b[0;34m\u001b[0m\u001b[0m\n\u001b[0;32m--> 479\u001b[0;31m     raise RuntimeError(\"tf.gradients is not supported when eager execution \"\n\u001b[0m\u001b[1;32m    480\u001b[0m                        \"is enabled. Use tf.GradientTape instead.\")\n\u001b[1;32m    481\u001b[0m   \u001b[0mys\u001b[0m \u001b[0;34m=\u001b[0m \u001b[0m_AsList\u001b[0m\u001b[0;34m(\u001b[0m\u001b[0mys\u001b[0m\u001b[0;34m)\u001b[0m\u001b[0;34m\u001b[0m\u001b[0;34m\u001b[0m\u001b[0m\n",
            "\u001b[0;31mRuntimeError\u001b[0m: tf.gradients is not supported when eager execution is enabled. Use tf.GradientTape instead."
          ]
        }
      ]
    },
    {
      "cell_type": "markdown",
      "source": [
        "Well I ran into an issue here so I am unable to move forward with the task of visualizing trained filters to see what will maximize their response. But here is how I WOULD continue if I didn't get this error:\n",
        "1. Get the gradients, compute the loss (from above) \n",
        "2. Instantiate a Keras function w/ inputs (model.input) and outputs (loss, grads)\n",
        "3. Run the computation graph from inputs to outputs with an input image of zeros\n",
        "4. Maximize the response measure wrt input using gradient ascent. So we start with a gray image with some noise \n",
        "Can instantiate the gray image as such: np.random.random((1, img_dim, img_dim, 3)) * 20 + 128)\n",
        "\n",
        "have a step size\n",
        "\n",
        "and then run gradient ascent for 50 - 100 iterations where-by I evaluate the sub-graph loss and gradients for the current input and update the image using the gradient and step size. The image would get updated by adding the gradient value and multiplying by the step. \n",
        "\n",
        "5. And then you can deprocess the image by scaling to 0 mean, unit std dev., clipping to 0,1 and converting vals between 0,255\n",
        "6. lastly just plot it to visualize using plt.imshow()\n",
        "\n",
        "I hope this explanation was enough to atleast get me partial points for this portion since I know how to do it just unfortunately couldn't get it to work and I need to keep moving in order to submit on time."
      ],
      "metadata": {
        "id": "bV8KWSsQxIRe"
      }
    },
    {
      "cell_type": "markdown",
      "source": [
        "The interpretation of the image we get i\n",
        "s as such:\n",
        "The image shows what maximizes the output for a specific given layer (i.e. what excites the neurons the most) it may be something as benign as a bunch of random lines or something interesting like the shape of a cats ears."
      ],
      "metadata": {
        "id": "qxSJOZIrzkdc"
      }
    },
    {
      "cell_type": "markdown",
      "source": [
        "### Replacing convolution layers w/ pretrained conv base of VGG16"
      ],
      "metadata": {
        "id": "R-BTCXK-zygQ"
      }
    },
    {
      "cell_type": "code",
      "source": [
        "def model_vgg():\n",
        "    img_dim=150\n",
        "    try:\n",
        "        from keras.applications import VGG16\n",
        "    except ImportError:\n",
        "        print('Install Keras first')\n",
        "        return\n",
        "\n",
        "    conv_base = VGG16(\n",
        "        weights='imagenet',\n",
        "        include_top=False,\n",
        "        input_shape=(img_dim,img_dim,3)\n",
        "    )\n",
        "    print(f'Convolution Base from VGG16 summary: {conv_base.summary()}')\n",
        "\n",
        "    # setting pretrained model to be frozen\n",
        "    conv_base.trainable = False\n",
        "\n",
        "    model2 = models.Sequential()\n",
        "    model2.add(conv_base)\n",
        "    model2.add(layers.Flatten())\n",
        "    model2.add(layers.Dense(256, activation='relu'))\n",
        "    model2.add(layers.Dense(1, activation='sigmoid'))\n",
        "    \n",
        "    print(f'Model with conv base & binary classifier at the end summary: {model2.summary()}')\n",
        "\n",
        "    return model2"
      ],
      "metadata": {
        "id": "kjOLxy8_g_kA"
      },
      "execution_count": 10,
      "outputs": []
    },
    {
      "cell_type": "code",
      "source": [
        "model_vggbase = model_vgg()"
      ],
      "metadata": {
        "colab": {
          "base_uri": "https://localhost:8080/"
        },
        "id": "i1bQXBI8eIQJ",
        "outputId": "f380994d-31fe-43b8-b892-a1f46697c382"
      },
      "execution_count": 11,
      "outputs": [
        {
          "output_type": "stream",
          "name": "stdout",
          "text": [
            "Downloading data from https://storage.googleapis.com/tensorflow/keras-applications/vgg16/vgg16_weights_tf_dim_ordering_tf_kernels_notop.h5\n",
            "58889256/58889256 [==============================] - 3s 0us/step\n",
            "Model: \"vgg16\"\n",
            "_________________________________________________________________\n",
            " Layer (type)                Output Shape              Param #   \n",
            "=================================================================\n",
            " input_1 (InputLayer)        [(None, 150, 150, 3)]     0         \n",
            "                                                                 \n",
            " block1_conv1 (Conv2D)       (None, 150, 150, 64)      1792      \n",
            "                                                                 \n",
            " block1_conv2 (Conv2D)       (None, 150, 150, 64)      36928     \n",
            "                                                                 \n",
            " block1_pool (MaxPooling2D)  (None, 75, 75, 64)        0         \n",
            "                                                                 \n",
            " block2_conv1 (Conv2D)       (None, 75, 75, 128)       73856     \n",
            "                                                                 \n",
            " block2_conv2 (Conv2D)       (None, 75, 75, 128)       147584    \n",
            "                                                                 \n",
            " block2_pool (MaxPooling2D)  (None, 37, 37, 128)       0         \n",
            "                                                                 \n",
            " block3_conv1 (Conv2D)       (None, 37, 37, 256)       295168    \n",
            "                                                                 \n",
            " block3_conv2 (Conv2D)       (None, 37, 37, 256)       590080    \n",
            "                                                                 \n",
            " block3_conv3 (Conv2D)       (None, 37, 37, 256)       590080    \n",
            "                                                                 \n",
            " block3_pool (MaxPooling2D)  (None, 18, 18, 256)       0         \n",
            "                                                                 \n",
            " block4_conv1 (Conv2D)       (None, 18, 18, 512)       1180160   \n",
            "                                                                 \n",
            " block4_conv2 (Conv2D)       (None, 18, 18, 512)       2359808   \n",
            "                                                                 \n",
            " block4_conv3 (Conv2D)       (None, 18, 18, 512)       2359808   \n",
            "                                                                 \n",
            " block4_pool (MaxPooling2D)  (None, 9, 9, 512)         0         \n",
            "                                                                 \n",
            " block5_conv1 (Conv2D)       (None, 9, 9, 512)         2359808   \n",
            "                                                                 \n",
            " block5_conv2 (Conv2D)       (None, 9, 9, 512)         2359808   \n",
            "                                                                 \n",
            " block5_conv3 (Conv2D)       (None, 9, 9, 512)         2359808   \n",
            "                                                                 \n",
            " block5_pool (MaxPooling2D)  (None, 4, 4, 512)         0         \n",
            "                                                                 \n",
            "=================================================================\n",
            "Total params: 14,714,688\n",
            "Trainable params: 14,714,688\n",
            "Non-trainable params: 0\n",
            "_________________________________________________________________\n",
            "Convolution Base from VGG16 summary: None\n",
            "Model: \"sequential\"\n",
            "_________________________________________________________________\n",
            " Layer (type)                Output Shape              Param #   \n",
            "=================================================================\n",
            " vgg16 (Functional)          (None, 4, 4, 512)         14714688  \n",
            "                                                                 \n",
            " flatten (Flatten)           (None, 8192)              0         \n",
            "                                                                 \n",
            " dense (Dense)               (None, 256)               2097408   \n",
            "                                                                 \n",
            " dense_1 (Dense)             (None, 1)                 257       \n",
            "                                                                 \n",
            "=================================================================\n",
            "Total params: 16,812,353\n",
            "Trainable params: 2,097,665\n",
            "Non-trainable params: 14,714,688\n",
            "_________________________________________________________________\n",
            "Model with conv base & binary classifier at the end summary: None\n"
          ]
        }
      ]
    },
    {
      "cell_type": "code",
      "source": [
        "# compile the model\n",
        "model_vggbase.compile(loss=\"binary_crossentropy\", \n",
        "              optimizer=optimizers.Adam(learning_rate=0.0008), \n",
        "              metrics=[\"acc\"])\n",
        "\n",
        "history2 = model_vggbase.fit_generator(\n",
        "                             generator=train_generator,\n",
        "                             steps_per_epoch=round(train_generator.samples/train_generator.batch_size),\n",
        "                             epochs=10,\n",
        "                             validation_data=val_generator,\n",
        "                             validation_steps=round(val_generator.samples/val_generator.batch_size)\n",
        "                            )"
      ],
      "metadata": {
        "colab": {
          "base_uri": "https://localhost:8080/"
        },
        "id": "97WnP7wtgrIU",
        "outputId": "4af490e1-62eb-428e-fdfc-db7a71824af7"
      },
      "execution_count": 12,
      "outputs": [
        {
          "output_type": "stream",
          "name": "stderr",
          "text": [
            "/usr/local/lib/python3.7/dist-packages/ipykernel_launcher.py:11: UserWarning: `Model.fit_generator` is deprecated and will be removed in a future version. Please use `Model.fit`, which supports generators.\n",
            "  # This is added back by InteractiveShellApp.init_path()\n"
          ]
        },
        {
          "output_type": "stream",
          "name": "stdout",
          "text": [
            "Epoch 1/10\n",
            "88/88 [==============================] - 25s 176ms/step - loss: 2.0600 - acc: 0.9086 - val_loss: 0.6171 - val_acc: 0.9331\n",
            "Epoch 2/10\n",
            "88/88 [==============================] - 18s 203ms/step - loss: 0.1230 - acc: 0.9725 - val_loss: 0.4007 - val_acc: 0.9398\n",
            "Epoch 3/10\n",
            "88/88 [==============================] - 16s 182ms/step - loss: 0.0265 - acc: 0.9914 - val_loss: 0.3529 - val_acc: 0.9465\n",
            "Epoch 4/10\n",
            "88/88 [==============================] - 12s 137ms/step - loss: 0.0059 - acc: 0.9979 - val_loss: 0.3666 - val_acc: 0.9548\n",
            "Epoch 5/10\n",
            "88/88 [==============================] - 12s 138ms/step - loss: 0.0016 - acc: 0.9996 - val_loss: 0.3998 - val_acc: 0.9482\n",
            "Epoch 6/10\n",
            "88/88 [==============================] - 13s 153ms/step - loss: 1.1827e-04 - acc: 1.0000 - val_loss: 0.3936 - val_acc: 0.9482\n",
            "Epoch 7/10\n",
            "88/88 [==============================] - 12s 136ms/step - loss: 4.5899e-05 - acc: 1.0000 - val_loss: 0.3957 - val_acc: 0.9482\n",
            "Epoch 8/10\n",
            "88/88 [==============================] - 12s 137ms/step - loss: 3.6698e-05 - acc: 1.0000 - val_loss: 0.3974 - val_acc: 0.9498\n",
            "Epoch 9/10\n",
            "88/88 [==============================] - 12s 136ms/step - loss: 3.0453e-05 - acc: 1.0000 - val_loss: 0.4004 - val_acc: 0.9482\n",
            "Epoch 10/10\n",
            "88/88 [==============================] - 13s 145ms/step - loss: 2.6312e-05 - acc: 1.0000 - val_loss: 0.4023 - val_acc: 0.9482\n"
          ]
        }
      ]
    },
    {
      "cell_type": "code",
      "source": [
        "generate_plots(history2)"
      ],
      "metadata": {
        "colab": {
          "base_uri": "https://localhost:8080/",
          "height": 573
        },
        "id": "7mQe35G3jN67",
        "outputId": "b933461f-0e8c-412a-9b68-e6b71407ae5d"
      },
      "execution_count": null,
      "outputs": [
        {
          "output_type": "display_data",
          "data": {
            "text/plain": [
              "<Figure size 432x288 with 1 Axes>"
            ],
            "image/png": "[encoded data removed]"
          },
          "metadata": {
            "needs_background": "light"
          }
        },
        {
          "output_type": "display_data",
          "data": {
            "text/plain": [
              "<Figure size 432x288 with 1 Axes>"
            ],
            "image/png": "[encoded data removed]"
          },
          "metadata": {
            "needs_background": "light"
          }
        }
      ]
    },
    {
      "cell_type": "code",
      "source": [
        "results_3 = model_vggbase.evaluate(test_generator, steps=round(test_generator.samples/test_generator.batch_size))\n",
        "print(f'Model vggbase test accuracy: {results_3[1]}')\n",
        "print(f'Model vggbase test loss: {results_3[0]}')"
      ],
      "metadata": {
        "colab": {
          "base_uri": "https://localhost:8080/"
        },
        "id": "Lx_lx36GmQhh",
        "outputId": "bed52250-1c9b-493e-a715-501b30a262fc"
      },
      "execution_count": 13,
      "outputs": [
        {
          "output_type": "stream",
          "name": "stdout",
          "text": [
            "19/19 [==============================] - 2s 115ms/step - loss: 0.2583 - acc: 0.9548\n",
            "Model vggbase test accuracy: 0.9548494815826416\n",
            "Model vggbase test loss: 0.2583298981189728\n"
          ]
        }
      ]
    },
    {
      "cell_type": "code",
      "source": [
        "model_vggbase.summary()"
      ],
      "metadata": {
        "colab": {
          "base_uri": "https://localhost:8080/"
        },
        "id": "HP3cDNIwmBe3",
        "outputId": "07bc9c01-2cba-44b1-a601-8cb05fa0a34b"
      },
      "execution_count": null,
      "outputs": [
        {
          "output_type": "stream",
          "name": "stdout",
          "text": [
            "Model: \"sequential_1\"\n",
            "_________________________________________________________________\n",
            " Layer (type)                Output Shape              Param #   \n",
            "=================================================================\n",
            " vgg16 (Functional)          (None, 4, 4, 512)         14714688  \n",
            "                                                                 \n",
            " flatten_1 (Flatten)         (None, 8192)              0         \n",
            "                                                                 \n",
            " dense_2 (Dense)             (None, 256)               2097408   \n",
            "                                                                 \n",
            " dense_3 (Dense)             (None, 1)                 257       \n",
            "                                                                 \n",
            "=================================================================\n",
            "Total params: 16,812,353\n",
            "Trainable params: 2,097,665\n",
            "Non-trainable params: 14,714,688\n",
            "_________________________________________________________________\n"
          ]
        }
      ]
    },
    {
      "cell_type": "markdown",
      "source": [
        "Setting trainable to TRUE and fine-tuning"
      ],
      "metadata": {
        "id": "x2iuUDrgmIq8"
      }
    },
    {
      "cell_type": "code",
      "source": [
        "model_vggbase.layers[0].trainable = True"
      ],
      "metadata": {
        "id": "H04BOQwolvEY"
      },
      "execution_count": null,
      "outputs": []
    },
    {
      "cell_type": "code",
      "source": [
        "# model3 = model_vgg_trainableTrue()\n",
        "\n",
        "# compile the model\n",
        "# model3.compile(loss=\"binary_crossentropy\", \n",
        "#               optimizer=optimizers.Adam(learning_rate=0.0008), \n",
        "#               metrics=[\"acc\"])\n",
        "\n",
        "history3 = model_vggbase.fit_generator(\n",
        "                             generator=train_generator,\n",
        "                             steps_per_epoch=round(train_generator.samples/train_generator.batch_size),\n",
        "                             epochs=10,\n",
        "                             validation_data=val_generator,\n",
        "                             validation_steps=round(val_generator.samples/val_generator.batch_size)\n",
        "                            )\n",
        "\n",
        "generate_plots(history3)"
      ],
      "metadata": {
        "colab": {
          "base_uri": "https://localhost:8080/",
          "height": 967
        },
        "id": "v5eRZvn7kc0L",
        "outputId": "29dc91d4-ac33-4263-b730-f4f25c1c500f"
      },
      "execution_count": null,
      "outputs": [
        {
          "output_type": "stream",
          "name": "stdout",
          "text": [
            "Epoch 1/10\n"
          ]
        },
        {
          "output_type": "stream",
          "name": "stderr",
          "text": [
            "/usr/local/lib/python3.7/dist-packages/ipykernel_launcher.py:13: UserWarning: `Model.fit_generator` is deprecated and will be removed in a future version. Please use `Model.fit`, which supports generators.\n",
            "  del sys.path[0]\n"
          ]
        },
        {
          "output_type": "stream",
          "name": "stdout",
          "text": [
            "88/88 [==============================] - 12s 136ms/step - loss: 1.4916e-04 - acc: 1.0000 - val_loss: 0.1904 - val_acc: 0.9448\n",
            "Epoch 2/10\n",
            "88/88 [==============================] - 12s 136ms/step - loss: 1.1799e-04 - acc: 1.0000 - val_loss: 0.1923 - val_acc: 0.9465\n",
            "Epoch 3/10\n",
            "88/88 [==============================] - 17s 198ms/step - loss: 9.8216e-05 - acc: 1.0000 - val_loss: 0.1926 - val_acc: 0.9482\n",
            "Epoch 4/10\n",
            "88/88 [==============================] - 14s 162ms/step - loss: 8.0993e-05 - acc: 1.0000 - val_loss: 0.1945 - val_acc: 0.9465\n",
            "Epoch 5/10\n",
            "88/88 [==============================] - 12s 138ms/step - loss: 6.9141e-05 - acc: 1.0000 - val_loss: 0.1957 - val_acc: 0.9465\n",
            "Epoch 6/10\n",
            "88/88 [==============================] - 13s 145ms/step - loss: 5.9446e-05 - acc: 1.0000 - val_loss: 0.1977 - val_acc: 0.9465\n",
            "Epoch 7/10\n",
            "88/88 [==============================] - 12s 138ms/step - loss: 5.2004e-05 - acc: 1.0000 - val_loss: 0.1984 - val_acc: 0.9465\n",
            "Epoch 8/10\n",
            "88/88 [==============================] - 12s 135ms/step - loss: 4.5619e-05 - acc: 1.0000 - val_loss: 0.1991 - val_acc: 0.9482\n",
            "Epoch 9/10\n",
            "88/88 [==============================] - 12s 136ms/step - loss: 3.9590e-05 - acc: 1.0000 - val_loss: 0.2010 - val_acc: 0.9498\n",
            "Epoch 10/10\n",
            "88/88 [==============================] - 12s 135ms/step - loss: 3.4942e-05 - acc: 1.0000 - val_loss: 0.2024 - val_acc: 0.9482\n"
          ]
        },
        {
          "output_type": "display_data",
          "data": {
            "text/plain": [
              "<Figure size 432x288 with 1 Axes>"
            ],
            "image/png": "[encoded data removed]"
          },
          "metadata": {
            "needs_background": "light"
          }
        },
        {
          "output_type": "display_data",
          "data": {
            "text/plain": [
              "<Figure size 432x288 with 1 Axes>"
            ],
            "image/png": "[encoded data removed]"
          },
          "metadata": {
            "needs_background": "light"
          }
        }
      ]
    },
    {
      "cell_type": "code",
      "source": [
        "results_4 = model_vggbase.evaluate(test_generator, steps=round(test_generator.samples/test_generator.batch_size))\n",
        "print(f'Model vggbase test accuracy: {results_4[1]}')\n",
        "print(f'Model vggbase test loss: {results_4[0]}')"
      ],
      "metadata": {
        "colab": {
          "base_uri": "https://localhost:8080/"
        },
        "id": "OVlt0lYPkm-1",
        "outputId": "c1266073-e121-4553-b7c9-2ee746835dd4"
      },
      "execution_count": null,
      "outputs": [
        {
          "output_type": "stream",
          "name": "stdout",
          "text": [
            "17/19 [=========================>....] - ETA: 0s - loss: 0.3460 - acc: 0.9301"
          ]
        },
        {
          "output_type": "stream",
          "name": "stderr",
          "text": [
            "/usr/local/lib/python3.7/dist-packages/PIL/TiffImagePlugin.py:770: UserWarning: Possibly corrupt EXIF data.  Expecting to read 32 bytes but only got 0. Skipping tag 270\n",
            "  \" Skipping tag %s\" % (size, len(data), tag)\n",
            "/usr/local/lib/python3.7/dist-packages/PIL/TiffImagePlugin.py:770: UserWarning: Possibly corrupt EXIF data.  Expecting to read 5 bytes but only got 0. Skipping tag 271\n",
            "  \" Skipping tag %s\" % (size, len(data), tag)\n",
            "/usr/local/lib/python3.7/dist-packages/PIL/TiffImagePlugin.py:770: UserWarning: Possibly corrupt EXIF data.  Expecting to read 8 bytes but only got 0. Skipping tag 272\n",
            "  \" Skipping tag %s\" % (size, len(data), tag)\n",
            "/usr/local/lib/python3.7/dist-packages/PIL/TiffImagePlugin.py:770: UserWarning: Possibly corrupt EXIF data.  Expecting to read 8 bytes but only got 0. Skipping tag 282\n",
            "  \" Skipping tag %s\" % (size, len(data), tag)\n",
            "/usr/local/lib/python3.7/dist-packages/PIL/TiffImagePlugin.py:770: UserWarning: Possibly corrupt EXIF data.  Expecting to read 8 bytes but only got 0. Skipping tag 283\n",
            "  \" Skipping tag %s\" % (size, len(data), tag)\n",
            "/usr/local/lib/python3.7/dist-packages/PIL/TiffImagePlugin.py:770: UserWarning: Possibly corrupt EXIF data.  Expecting to read 20 bytes but only got 0. Skipping tag 306\n",
            "  \" Skipping tag %s\" % (size, len(data), tag)\n",
            "/usr/local/lib/python3.7/dist-packages/PIL/TiffImagePlugin.py:770: UserWarning: Possibly corrupt EXIF data.  Expecting to read 48 bytes but only got 0. Skipping tag 532\n",
            "  \" Skipping tag %s\" % (size, len(data), tag)\n",
            "/usr/local/lib/python3.7/dist-packages/PIL/TiffImagePlugin.py:788: UserWarning: Corrupt EXIF data.  Expecting to read 2 bytes but only got 0. \n",
            "  warnings.warn(str(msg))\n"
          ]
        },
        {
          "output_type": "stream",
          "name": "stdout",
          "text": [
            "19/19 [==============================] - 2s 113ms/step - loss: 0.3183 - acc: 0.9331\n",
            "Model vggbase test accuracy: 0.9331103563308716\n",
            "Model vggbase test loss: 0.31833526492118835\n"
          ]
        }
      ]
    },
    {
      "cell_type": "code",
      "source": [
        "model_vggbase.save('model_vggbase.h5')"
      ],
      "metadata": {
        "id": "mxpnPg-lpk9M"
      },
      "execution_count": 14,
      "outputs": []
    },
    {
      "cell_type": "markdown",
      "source": [
        "### Comparing results\n",
        "Normal model convnet: test accuracy = .676\n",
        "                    test loss = .978\n",
        "\n",
        "VGG16 (conv base trainable = false): test accuracy = .936\n",
        "                                        test loss = .286\n",
        "\n",
        "VGG16 (conv base trainable = true): test accuracy = .9331\n",
        "                                    test loss = .318"
      ],
      "metadata": {
        "id": "ND8zxR6bkoJG"
      }
    },
    {
      "cell_type": "markdown",
      "source": [
        "#### Modifying data generators to perform data augmentation & re-training with frozen convolution base"
      ],
      "metadata": {
        "id": "7Qjcd8WavuDA"
      }
    },
    {
      "cell_type": "code",
      "source": [
        "train_dir = '/content/Data/Train/'\n",
        "test_dir = '/content/Data/Test/'\n",
        "val_dir = '/content/Data/Val/'\n",
        "\n",
        "img_dim = 150\n",
        "batch_size = 32\n",
        "\n",
        "datagen = ImageDataGenerator()\n",
        "\n",
        "train_datagen = ImageDataGenerator(\n",
        "    vertical_flip=True,\n",
        "    rotation_range=15,\n",
        "    fill_mode='nearest',\n",
        "    height_shift_range=0.1,\n",
        "    width_shift_range=0.1, \n",
        "    brightness_range=[0.1,0.5],\n",
        "    horizontal_flip=True,\n",
        ")\n",
        "\n",
        "val_datagen = ImageDataGenerator(\n",
        "    vertical_flip=True,\n",
        "    rotation_range=20,\n",
        "    fill_mode='nearest',\n",
        "    height_shift_range=0.15,\n",
        "    width_shift_range=0.05, \n",
        "    brightness_range=[0.05,0.1],\n",
        "    horizontal_flip=True,\n",
        ")\n",
        "\n",
        "train_generator = train_datagen.flow_from_directory(\n",
        "    train_dir,\n",
        "    target_size=(img_dim, img_dim),\n",
        "    batch_size=batch_size,\n",
        "    class_mode='binary',\n",
        "    subset='training')\n",
        "\n",
        "\n",
        "test_generator = datagen.flow_from_directory(\n",
        "    test_dir,\n",
        "    target_size=(img_dim, img_dim),\n",
        "    batch_size=batch_size,\n",
        "    class_mode='binary',\n",
        "    subset='training')\n",
        "\n",
        "\n",
        "val_generator = val_datagen.flow_from_directory(\n",
        "    val_dir,\n",
        "    target_size=(img_dim, img_dim),\n",
        "    batch_size=batch_size,\n",
        "    class_mode='binary',\n",
        "    subset='training')"
      ],
      "metadata": {
        "colab": {
          "base_uri": "https://localhost:8080/"
        },
        "id": "iR7Ch0OAvoyN",
        "outputId": "ff9f20c9-0e29-4d93-c8c2-1e418c593e07"
      },
      "execution_count": null,
      "outputs": [
        {
          "output_type": "stream",
          "name": "stdout",
          "text": [
            "Found 2800 images belonging to 2 classes.\n",
            "Found 598 images belonging to 2 classes.\n",
            "Found 598 images belonging to 2 classes.\n"
          ]
        }
      ]
    },
    {
      "cell_type": "code",
      "source": [
        "# Re-train with convolution base\n",
        "model_vggbase_2 = model_vgg()\n",
        "\n",
        "# compile the model\n",
        "model_vggbase_2.compile(loss=\"binary_crossentropy\", \n",
        "              optimizer=optimizers.Adam(learning_rate=0.0008), \n",
        "              metrics=[\"acc\"])\n",
        "\n",
        "history_dataaugmentation = model_vggbase_2.fit_generator(\n",
        "                             generator=train_generator,\n",
        "                             steps_per_epoch=round(train_generator.samples/train_generator.batch_size),\n",
        "                             epochs=10,\n",
        "                             validation_data=val_generator,\n",
        "                             validation_steps=round(val_generator.samples/val_generator.batch_size)\n",
        "                            )\n",
        "\n",
        "generate_plots(history_dataaugmentation)\n"
      ],
      "metadata": {
        "colab": {
          "base_uri": "https://localhost:8080/",
          "height": 1000
        },
        "id": "dXV9ymZy09WT",
        "outputId": "109417e0-5294-4a5e-90fd-9aee441213e4"
      },
      "execution_count": null,
      "outputs": [
        {
          "output_type": "stream",
          "name": "stdout",
          "text": [
            "Model: \"vgg16\"\n",
            "_________________________________________________________________\n",
            " Layer (type)                Output Shape              Param #   \n",
            "=================================================================\n",
            " input_2 (InputLayer)        [(None, 150, 150, 3)]     0         \n",
            "                                                                 \n",
            " block1_conv1 (Conv2D)       (None, 150, 150, 64)      1792      \n",
            "                                                                 \n",
            " block1_conv2 (Conv2D)       (None, 150, 150, 64)      36928     \n",
            "                                                                 \n",
            " block1_pool (MaxPooling2D)  (None, 75, 75, 64)        0         \n",
            "                                                                 \n",
            " block2_conv1 (Conv2D)       (None, 75, 75, 128)       73856     \n",
            "                                                                 \n",
            " block2_conv2 (Conv2D)       (None, 75, 75, 128)       147584    \n",
            "                                                                 \n",
            " block2_pool (MaxPooling2D)  (None, 37, 37, 128)       0         \n",
            "                                                                 \n",
            " block3_conv1 (Conv2D)       (None, 37, 37, 256)       295168    \n",
            "                                                                 \n",
            " block3_conv2 (Conv2D)       (None, 37, 37, 256)       590080    \n",
            "                                                                 \n",
            " block3_conv3 (Conv2D)       (None, 37, 37, 256)       590080    \n",
            "                                                                 \n",
            " block3_pool (MaxPooling2D)  (None, 18, 18, 256)       0         \n",
            "                                                                 \n",
            " block4_conv1 (Conv2D)       (None, 18, 18, 512)       1180160   \n",
            "                                                                 \n",
            " block4_conv2 (Conv2D)       (None, 18, 18, 512)       2359808   \n",
            "                                                                 \n",
            " block4_conv3 (Conv2D)       (None, 18, 18, 512)       2359808   \n",
            "                                                                 \n",
            " block4_pool (MaxPooling2D)  (None, 9, 9, 512)         0         \n",
            "                                                                 \n",
            " block5_conv1 (Conv2D)       (None, 9, 9, 512)         2359808   \n",
            "                                                                 \n",
            " block5_conv2 (Conv2D)       (None, 9, 9, 512)         2359808   \n",
            "                                                                 \n",
            " block5_conv3 (Conv2D)       (None, 9, 9, 512)         2359808   \n",
            "                                                                 \n",
            " block5_pool (MaxPooling2D)  (None, 4, 4, 512)         0         \n",
            "                                                                 \n",
            "=================================================================\n",
            "Total params: 14,714,688\n",
            "Trainable params: 14,714,688\n",
            "Non-trainable params: 0\n",
            "_________________________________________________________________\n",
            "Convolution Base from VGG16 summary: None\n",
            "Model: \"sequential\"\n",
            "_________________________________________________________________\n",
            " Layer (type)                Output Shape              Param #   \n",
            "=================================================================\n",
            " vgg16 (Functional)          (None, 4, 4, 512)         14714688  \n",
            "                                                                 \n",
            " flatten (Flatten)           (None, 8192)              0         \n",
            "                                                                 \n",
            " dense (Dense)               (None, 256)               2097408   \n",
            "                                                                 \n",
            " dense_1 (Dense)             (None, 1)                 257       \n",
            "                                                                 \n",
            "=================================================================\n",
            "Total params: 16,812,353\n",
            "Trainable params: 2,097,665\n",
            "Non-trainable params: 14,714,688\n",
            "_________________________________________________________________\n",
            "Model with conv base & binary classifier at the end summary: None\n"
          ]
        },
        {
          "output_type": "stream",
          "name": "stderr",
          "text": [
            "/usr/local/lib/python3.7/dist-packages/ipykernel_launcher.py:14: UserWarning: `Model.fit_generator` is deprecated and will be removed in a future version. Please use `Model.fit`, which supports generators.\n",
            "  \n"
          ]
        },
        {
          "output_type": "stream",
          "name": "stdout",
          "text": [
            "Epoch 1/10\n",
            "88/88 [==============================] - 40s 348ms/step - loss: 0.9227 - acc: 0.8075 - val_loss: 0.4052 - val_acc: 0.8829\n",
            "Epoch 2/10\n",
            "88/88 [==============================] - 28s 321ms/step - loss: 0.2793 - acc: 0.8889 - val_loss: 0.3559 - val_acc: 0.8779\n",
            "Epoch 3/10\n",
            "88/88 [==============================] - 29s 333ms/step - loss: 0.2599 - acc: 0.8932 - val_loss: 0.3567 - val_acc: 0.8428\n",
            "Epoch 4/10\n",
            "88/88 [==============================] - 28s 323ms/step - loss: 0.2246 - acc: 0.9125 - val_loss: 0.3080 - val_acc: 0.8729\n",
            "Epoch 5/10\n",
            "88/88 [==============================] - 28s 321ms/step - loss: 0.2042 - acc: 0.9161 - val_loss: 0.3217 - val_acc: 0.8612\n",
            "Epoch 6/10\n",
            "88/88 [==============================] - 29s 324ms/step - loss: 0.2115 - acc: 0.9182 - val_loss: 0.3281 - val_acc: 0.8595\n",
            "Epoch 7/10\n",
            "88/88 [==============================] - 28s 323ms/step - loss: 0.1731 - acc: 0.9357 - val_loss: 0.2864 - val_acc: 0.8796\n",
            "Epoch 8/10\n",
            "88/88 [==============================] - 29s 334ms/step - loss: 0.1560 - acc: 0.9421 - val_loss: 0.2585 - val_acc: 0.8930\n",
            "Epoch 9/10\n",
            "88/88 [==============================] - 28s 323ms/step - loss: 0.1592 - acc: 0.9350 - val_loss: 0.2568 - val_acc: 0.8896\n",
            "Epoch 10/10\n",
            "88/88 [==============================] - 28s 323ms/step - loss: 0.1604 - acc: 0.9418 - val_loss: 0.2743 - val_acc: 0.8746\n"
          ]
        },
        {
          "output_type": "display_data",
          "data": {
            "text/plain": [
              "<Figure size 432x288 with 1 Axes>"
            ],
            "image/png": "[encoded data removed]"
          },
          "metadata": {
            "needs_background": "light"
          }
        },
        {
          "output_type": "display_data",
          "data": {
            "text/plain": [
              "<Figure size 432x288 with 1 Axes>"
            ],
            "image/png": "[encoded data removed]"
          },
          "metadata": {
            "needs_background": "light"
          }
        }
      ]
    },
    {
      "cell_type": "code",
      "source": [
        "results_4 = model_vggbase_2.evaluate(test_generator, steps=round(test_generator.samples/test_generator.batch_size))\n",
        "print(f'Model vggbase test accuracy: {results_4[1]}')\n",
        "print(f'Model vggbase test loss: {results_4[0]}')"
      ],
      "metadata": {
        "colab": {
          "base_uri": "https://localhost:8080/"
        },
        "id": "87L83toK0Arh",
        "outputId": "81d59b15-3333-45ed-e55c-a57fa3a374fa"
      },
      "execution_count": null,
      "outputs": [
        {
          "output_type": "stream",
          "name": "stdout",
          "text": [
            "19/19 [==============================] - 2s 108ms/step - loss: 0.6857 - acc: 0.9264\n",
            "Model vggbase test accuracy: 0.9264214038848877\n",
            "Model vggbase test loss: 0.6856550574302673\n"
          ]
        }
      ]
    },
    {
      "cell_type": "markdown",
      "source": [
        "Results:\n",
        "With data augmentation we don't really see that much of an improvement"
      ],
      "metadata": {
        "id": "6TfVegug5zib"
      }
    }
  ]
}